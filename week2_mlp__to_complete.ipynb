{
  "nbformat": 4,
  "nbformat_minor": 0,
  "metadata": {
    "colab": {
      "name": "week2_mlp__to_complete.ipynb",
      "provenance": [],
      "collapsed_sections": [],
      "toc_visible": true,
      "include_colab_link": true
    },
    "language_info": {
      "codemirror_mode": {
        "name": "ipython",
        "version": 3
      },
      "file_extension": ".py",
      "mimetype": "text/x-python",
      "name": "python",
      "nbconvert_exporter": "python",
      "pygments_lexer": "ipython3",
      "version": "3.7.0"
    },
    "kernelspec": {
      "display_name": "Python 3",
      "language": "python",
      "name": "python3"
    },
    "accelerator": "GPU"
  },
  "cells": [
    {
      "cell_type": "markdown",
      "metadata": {
        "id": "view-in-github",
        "colab_type": "text"
      },
      "source": [
        "<a href=\"https://colab.research.google.com/github/jpt31733/Deep-Leaning-MILA/blob/main/week2_mlp__to_complete.ipynb\" target=\"_parent\"><img src=\"https://colab.research.google.com/assets/colab-badge.svg\" alt=\"Open In Colab\"/></a>"
      ]
    },
    {
      "cell_type": "markdown",
      "metadata": {
        "id": "mipSoOVlavkb"
      },
      "source": [
        "# IVADO/MILA DEEP LEARNING SCHOOL\n",
        "# Spring 2021\n",
        "# Tutorial : Categorical data with multilayer perceptron (MLP)\n",
        "\n",
        "## Authors: \n",
        "\n",
        "Arsène Fansi Tchango <arsene.fansi.tchango@mila.quebec>\n",
        "\n",
        "Gaétan Marceau Caron <gaetan.marceau.caron@mila.quebec>"
      ]
    },
    {
      "cell_type": "markdown",
      "metadata": {
        "id": "sLHwvggEZERd"
      },
      "source": [
        "# Preface"
      ]
    },
    {
      "cell_type": "markdown",
      "metadata": {
        "id": "JKNGtQkkohiM"
      },
      "source": [
        "This tutorial introduces the practical aspects of Deep Learning through the realization of a simple end-to-end project. We will use the deep learning library <a href=\"https://pytorch.org/\"> `PyTorch`</a>, which is well-known for its ease of use."
      ]
    },
    {
      "cell_type": "markdown",
      "metadata": {
        "id": "Tu9DZNmYpePz"
      },
      "source": [
        "# Initialization"
      ]
    },
    {
      "cell_type": "markdown",
      "metadata": {
        "id": "iWCNdeTIpkCa"
      },
      "source": [
        "Before we begin, we must install all the required libraries for this part of the tutorial. To do so, we will use the `pip` utility. Execute the cell below by selecting it and pressing `shift`+`Enter`. (This operation may take a few minutes.)\n",
        "\n",
        "We need to be using the latest version of `pillow` for this tutorial. If you are prompted with:\n",
        "\n",
        "> WARNING: The following packages were previously imported in this runtime:\n",
        "  [PIL]\n",
        "You must restart the runtime in order to use newly installed versions.\n",
        "\n",
        "Then click on restart runtime and rerun the cells afterwards."
      ]
    },
    {
      "cell_type": "code",
      "metadata": {
        "id": "9g_0k-_Eppi-",
        "colab": {
          "base_uri": "https://localhost:8080/"
        },
        "outputId": "c2c0cad1-18ef-48b2-9c02-7224b91f02db"
      },
      "source": [
        "!pip3 install torch torchvision matplotlib\n",
        "!pip3 install --upgrade pillow==8.1.0"
      ],
      "execution_count": null,
      "outputs": [
        {
          "output_type": "stream",
          "text": [
            "Requirement already satisfied: torch in /usr/local/lib/python3.7/dist-packages (1.8.1+cu101)\n",
            "Requirement already satisfied: torchvision in /usr/local/lib/python3.7/dist-packages (0.9.1+cu101)\n",
            "Requirement already satisfied: matplotlib in /usr/local/lib/python3.7/dist-packages (3.2.2)\n",
            "Requirement already satisfied: numpy in /usr/local/lib/python3.7/dist-packages (from torch) (1.19.5)\n",
            "Requirement already satisfied: typing-extensions in /usr/local/lib/python3.7/dist-packages (from torch) (3.7.4.3)\n",
            "Requirement already satisfied: pillow>=4.1.1 in /usr/local/lib/python3.7/dist-packages (from torchvision) (8.1.0)\n",
            "Requirement already satisfied: pyparsing!=2.0.4,!=2.1.2,!=2.1.6,>=2.0.1 in /usr/local/lib/python3.7/dist-packages (from matplotlib) (2.4.7)\n",
            "Requirement already satisfied: cycler>=0.10 in /usr/local/lib/python3.7/dist-packages (from matplotlib) (0.10.0)\n",
            "Requirement already satisfied: python-dateutil>=2.1 in /usr/local/lib/python3.7/dist-packages (from matplotlib) (2.8.1)\n",
            "Requirement already satisfied: kiwisolver>=1.0.1 in /usr/local/lib/python3.7/dist-packages (from matplotlib) (1.3.1)\n",
            "Requirement already satisfied: six in /usr/local/lib/python3.7/dist-packages (from cycler>=0.10->matplotlib) (1.15.0)\n",
            "Requirement already up-to-date: pillow==8.1.0 in /usr/local/lib/python3.7/dist-packages (8.1.0)\n"
          ],
          "name": "stdout"
        }
      ]
    },
    {
      "cell_type": "markdown",
      "metadata": {
        "id": "VKufekB4FnqN"
      },
      "source": [
        "To ensure that all required libraries are available, let's try to load all libraries and modules we will need during this tutorial by executing this cell: "
      ]
    },
    {
      "cell_type": "code",
      "metadata": {
        "id": "loLQlRg3sV-r"
      },
      "source": [
        "import importlib\n",
        "required_libraries = ['torch', 'torchvision', 'PIL', 'matplotlib', \n",
        "                      'numpy', 'pandas']\n",
        "for lib in required_libraries:\n",
        "    if importlib.util.find_spec(lib) is None:\n",
        "        print(\"%s unavailable\" % lib)\n",
        "\n",
        "import matplotlib.pyplot as plt\n",
        "%matplotlib inline"
      ],
      "execution_count": null,
      "outputs": []
    },
    {
      "cell_type": "code",
      "metadata": {
        "id": "FeLUcnk5scNx",
        "colab": {
          "base_uri": "https://localhost:8080/"
        },
        "outputId": "d8953e3b-65ef-4be6-fd38-d0f5f5379837"
      },
      "source": [
        "import torch\n",
        "import numpy as np\n",
        "import pandas as pd\n",
        "import torch.nn as nn\n",
        "import torch.nn.functional as F\n",
        "import torch.optim as optim\n",
        "import torchvision\n",
        "\n",
        "from torch.utils.data import TensorDataset\n",
        "\n",
        "use_gpu = torch.cuda.is_available()\n",
        "device = torch.device(\"cuda:0\" if use_gpu else \"cpu\")\n",
        "\n",
        "print(\"Torch version: \", torch.__version__)\n",
        "print(\"GPU Available: {}\".format(use_gpu))"
      ],
      "execution_count": null,
      "outputs": [
        {
          "output_type": "stream",
          "text": [
            "Torch version:  1.8.1+cu101\n",
            "GPU Available: True\n"
          ],
          "name": "stdout"
        }
      ]
    },
    {
      "cell_type": "markdown",
      "metadata": {
        "id": "xc9wc4qq7qob"
      },
      "source": [
        "Fix the seed for the different libraries"
      ]
    },
    {
      "cell_type": "code",
      "metadata": {
        "id": "05jTJ12r7msf"
      },
      "source": [
        "seed = 4321\n",
        "np.random.seed(seed) # Set the random seed of numpy for the data split.\n",
        "torch.manual_seed(seed)\n",
        "torch.cuda.manual_seed(seed)"
      ],
      "execution_count": null,
      "outputs": []
    },
    {
      "cell_type": "markdown",
      "metadata": {
        "id": "ZKzgFV9Favkt"
      },
      "source": [
        "# PyTorch in a nutshell"
      ]
    },
    {
      "cell_type": "markdown",
      "metadata": {
        "id": "Vrus_-F0avkt"
      },
      "source": [
        "*PyTorch* is a Python library that supports a vibrant ecosystem of tools and libraries for machine learning (ML) in vision, NLP, and more. It provides two high-level features:\n",
        "<ul>\n",
        "<li> operations on <a href=\"https://pytorch.org/tutorials/beginner/blitz/tensor_tutorial.html#sphx-glr-beginner-blitz-tensor-tutorial-py\">tensors</a> (such as NumPy) with GPU support,</li>\n",
        "<li> operations for creating and optimizing computational graphs with an automatic differentiation system called <a href=\"https://pytorch.org/tutorials/beginner/blitz/autograd_tutorial.html#sphx-glr-beginner-blitz-autograd-tutorial-py\">Autograd</a>.</li>\n",
        "</ul>\n",
        "\n",
        "<a href=\"https://pytorch.org/docs/stable/torch.html\">PyTorch docs</a> contain the API documentation and <a href=\"https://pytorch.org/tutorials/\">many tutorials</a>.\n",
        "Also, PyTorch offers several data processing utilities. One of these utilities is the class <a href=\"http://pytorch.org/docs/master/data.html#\"> `torch.utils.data.Dataset`</a> which offers an easy to use interface to handle a data set. For more information, please refer to the following urls: \n",
        "<ul>\n",
        "<li>PyTorch data sets: <a href=\"http://pytorch.org/docs/master/data.html\"> PyTorch - datasets</a>.</li>\n",
        "<li>A tutorial for loading data: <a href=\"http://pytorch.org/tutorials/beginner/data_loading_tutorial.html\"> PyTorch - data loading tutorial</a>.</li>\n",
        "</ul>\n",
        "\n",
        "<a href=\"http://pytorch.org/docs/master/cuda.html#module-torch.cuda\">`torch.cuda`</a> is a package that provides the same functions as CPU tensors but for  CUDA tensors, which are used for GPU computing. <a href=\"http://pytorch.org/docs/master/cuda.html#torch.cuda.is_available\">`torch.cuda.is_available()`</a> returns a boolean indicating if CUDA is currently available. Finally, we recommend using a `device` variable that identifies the device that will perform computations. We can assign a tensor to a device with the method `.to(device)`. By default, the tensors are CPU tensors."
      ]
    },
    {
      "cell_type": "markdown",
      "metadata": {
        "id": "Qm122vNmq92L"
      },
      "source": [
        "# Ingredients for a proof of concept (POC)"
      ]
    },
    {
      "cell_type": "markdown",
      "metadata": {
        "id": "nqvhR0ebavmE"
      },
      "source": [
        "To realize a ML POC, you need:\n",
        "<ul>\n",
        "<li>a task description as well as data to support it,</li>\n",
        "<li>evaluation metrics to assess the performance of models,</li>\n",
        "<li>a model description,</li>\n",
        "<li>a loss function to minimize,</li>\n",
        "<li>an optimizer that adjusts the parameters of the model.</li>\n",
        "</ul>"
      ]
    },
    {
      "cell_type": "markdown",
      "metadata": {
        "id": "Y8_pfpu2f6AO"
      },
      "source": [
        "# How to prepare the dataset?"
      ]
    },
    {
      "cell_type": "markdown",
      "metadata": {
        "id": "B5piZxYUhSzq"
      },
      "source": [
        "In this tutorial, we study the tragedy of the Titanic through a data-driven approach. Our task is to determine whether or not a passenger survived the Titanic sinking based on passenger data only. The results will show how the passengers' fate was pre-determined by the features selected in this study, without considering other factors."
      ]
    },
    {
      "cell_type": "markdown",
      "metadata": {
        "id": "y4GuYNDFavlU"
      },
      "source": [
        "## Titanic dataset"
      ]
    },
    {
      "cell_type": "markdown",
      "metadata": {
        "id": "NiOJx2ytavlU"
      },
      "source": [
        "First, we download the Titanic dataset from the following address:\n",
        "<br/>\n",
        "https://github.com/afansi/winterschool18/blob/master/titanic3.csv?raw=true.<br/>\n",
        "This dataset provides information on the fate of 1309 passengers of the first and only journey of the liner RMS Titanic, summarized by economic status (class), gender, age, family information, and survival. We use this dataset because we can train models very quickly for the purpose of this tutorial. The Kaggle platform also uses this dataset as an introduction to classical machine learning. <br/>\n",
        "\n",
        "Let's take a look at the features and some examples from this dataset. To do so, we use the library <a href=\"https://pandas.pydata.org/\">Pandas</a> to load the dataset into memory."
      ]
    },
    {
      "cell_type": "code",
      "metadata": {
        "id": "bX_RSiffavlW",
        "colab": {
          "base_uri": "https://localhost:8080/",
          "height": 539
        },
        "outputId": "92254a22-3a03-461e-effb-e238f6351d60"
      },
      "source": [
        "titanic_df = pd.read_csv(\n",
        "    'https://github.com/afansi/winterschool18/blob/master/titanic3.csv?raw=true', \n",
        "    sep='\\t', \n",
        "    index_col=None, \n",
        "    na_values=['NA']\n",
        ")\n",
        "\n",
        "# a snapshot of the first 5 data points\n",
        "titanic_df.head()\n",
        "\n"
      ],
      "execution_count": null,
      "outputs": [
        {
          "output_type": "execute_result",
          "data": {
            "text/html": [
              "<div>\n",
              "<style scoped>\n",
              "    .dataframe tbody tr th:only-of-type {\n",
              "        vertical-align: middle;\n",
              "    }\n",
              "\n",
              "    .dataframe tbody tr th {\n",
              "        vertical-align: top;\n",
              "    }\n",
              "\n",
              "    .dataframe thead th {\n",
              "        text-align: right;\n",
              "    }\n",
              "</style>\n",
              "<table border=\"1\" class=\"dataframe\">\n",
              "  <thead>\n",
              "    <tr style=\"text-align: right;\">\n",
              "      <th></th>\n",
              "      <th>pclass</th>\n",
              "      <th>survived</th>\n",
              "      <th>name</th>\n",
              "      <th>sex</th>\n",
              "      <th>age</th>\n",
              "      <th>sibsp</th>\n",
              "      <th>parch</th>\n",
              "      <th>ticket</th>\n",
              "      <th>fare</th>\n",
              "      <th>cabin</th>\n",
              "      <th>embarked</th>\n",
              "      <th>boat</th>\n",
              "      <th>body</th>\n",
              "      <th>home.dest</th>\n",
              "    </tr>\n",
              "  </thead>\n",
              "  <tbody>\n",
              "    <tr>\n",
              "      <th>0</th>\n",
              "      <td>1</td>\n",
              "      <td>1</td>\n",
              "      <td>Allen, Miss. Elisabeth Walton</td>\n",
              "      <td>female</td>\n",
              "      <td>29.0000</td>\n",
              "      <td>0</td>\n",
              "      <td>0</td>\n",
              "      <td>24160</td>\n",
              "      <td>211.3375</td>\n",
              "      <td>B5</td>\n",
              "      <td>S</td>\n",
              "      <td>2</td>\n",
              "      <td>NaN</td>\n",
              "      <td>St Louis, MO</td>\n",
              "    </tr>\n",
              "    <tr>\n",
              "      <th>1</th>\n",
              "      <td>1</td>\n",
              "      <td>1</td>\n",
              "      <td>Allison, Master. Hudson Trevor</td>\n",
              "      <td>male</td>\n",
              "      <td>0.9167</td>\n",
              "      <td>1</td>\n",
              "      <td>2</td>\n",
              "      <td>113781</td>\n",
              "      <td>151.5500</td>\n",
              "      <td>C22 C26</td>\n",
              "      <td>S</td>\n",
              "      <td>11</td>\n",
              "      <td>NaN</td>\n",
              "      <td>Montreal, PQ / Chesterville, ON</td>\n",
              "    </tr>\n",
              "    <tr>\n",
              "      <th>2</th>\n",
              "      <td>1</td>\n",
              "      <td>0</td>\n",
              "      <td>Allison, Miss. Helen Loraine</td>\n",
              "      <td>female</td>\n",
              "      <td>2.0000</td>\n",
              "      <td>1</td>\n",
              "      <td>2</td>\n",
              "      <td>113781</td>\n",
              "      <td>151.5500</td>\n",
              "      <td>C22 C26</td>\n",
              "      <td>S</td>\n",
              "      <td>NaN</td>\n",
              "      <td>NaN</td>\n",
              "      <td>Montreal, PQ / Chesterville, ON</td>\n",
              "    </tr>\n",
              "    <tr>\n",
              "      <th>3</th>\n",
              "      <td>1</td>\n",
              "      <td>0</td>\n",
              "      <td>Allison, Mr. Hudson Joshua Creighton</td>\n",
              "      <td>male</td>\n",
              "      <td>30.0000</td>\n",
              "      <td>1</td>\n",
              "      <td>2</td>\n",
              "      <td>113781</td>\n",
              "      <td>151.5500</td>\n",
              "      <td>C22 C26</td>\n",
              "      <td>S</td>\n",
              "      <td>NaN</td>\n",
              "      <td>135.0</td>\n",
              "      <td>Montreal, PQ / Chesterville, ON</td>\n",
              "    </tr>\n",
              "    <tr>\n",
              "      <th>4</th>\n",
              "      <td>1</td>\n",
              "      <td>0</td>\n",
              "      <td>Allison, Mrs. Hudson J C (Bessie Waldo Daniels)</td>\n",
              "      <td>female</td>\n",
              "      <td>25.0000</td>\n",
              "      <td>1</td>\n",
              "      <td>2</td>\n",
              "      <td>113781</td>\n",
              "      <td>151.5500</td>\n",
              "      <td>C22 C26</td>\n",
              "      <td>S</td>\n",
              "      <td>NaN</td>\n",
              "      <td>NaN</td>\n",
              "      <td>Montreal, PQ / Chesterville, ON</td>\n",
              "    </tr>\n",
              "  </tbody>\n",
              "</table>\n",
              "</div>"
            ],
            "text/plain": [
              "   pclass  survived  ...   body                        home.dest\n",
              "0       1         1  ...    NaN                     St Louis, MO\n",
              "1       1         1  ...    NaN  Montreal, PQ / Chesterville, ON\n",
              "2       1         0  ...    NaN  Montreal, PQ / Chesterville, ON\n",
              "3       1         0  ...  135.0  Montreal, PQ / Chesterville, ON\n",
              "4       1         0  ...    NaN  Montreal, PQ / Chesterville, ON\n",
              "\n",
              "[5 rows x 14 columns]"
            ]
          },
          "metadata": {
            "tags": []
          },
          "execution_count": 9
        }
      ]
    },
    {
      "cell_type": "markdown",
      "metadata": {
        "id": "yj88WmCmavlf"
      },
      "source": [
        "Here's the list of the features with their description:\n",
        "\n",
        "<ol>\n",
        "\n",
        "  <li> <b>pclass</b>: Passenger class (1 = first; 2 = second; 3 = third) </li>\n",
        "  <li> <b>survived</b>: Survived? (0 = no; 1 = yes) </li>\n",
        "  <li> <b>name</b>: Name </li>\n",
        "  <li> <b>sex</b>: Sex </li>\n",
        "  <li> <b>age</b>: Age </li>\n",
        "  <li> <b>sibsp</b>: Number of brothers, sisters, or spouses onboard </li>\n",
        "  <li> <b>parch</b>: Number of parents or children onboard </li>\n",
        "  <li> <b>ticket</b>: Ticket number </li>\n",
        "  <li> <b>fare</b>: Passenger fare </li>\n",
        "  <li> <b>cabin</b>: Cabin number </li>\n",
        "  <li> <b>embarked</b>: Port of embarkation (C = Cherbourg; Q = Queenstown; S = Southampton) </li>\n",
        "  <li> <b>boat</b>: Lifeboat (if the passenger survived, otherwise the value is Not a Number (NaN) </li>\n",
        "  <li> <b>body</b>: Body number (if the passenger did not survive and his body was found, otherwise the value is NaN) </li>\n",
        "  <li> <b>home.dest</b>: the passenger's destination </li>\n",
        " </ol>\n"
      ]
    },
    {
      "cell_type": "markdown",
      "metadata": {
        "id": "u2ed5fozqjce"
      },
      "source": [
        "## Data pre-processing"
      ]
    },
    {
      "cell_type": "markdown",
      "metadata": {
        "id": "__vcZhPnavlg"
      },
      "source": [
        "### Feature selection\n",
        "Some features are not relevant to the task, for example:\n",
        "<ol>\n",
        "  <li> <b>name</b>: Name </li>\n",
        "  <li> <b>ticket</b>: Ticket number </li>\n",
        "  <li> <b>cabin</b>: Cabin number </li>\n",
        "  <li> <b>home.dest</b>: Passenger's destination </li>\n",
        " </ol>\n",
        " \n",
        "Other features are directly related to the passenger survival and are not interesting for our study because they give away the label to be predicted:\n",
        "<ol>\n",
        "  <li> <b>boat</b>: Lifeboat (if the passenger survived) </li>\n",
        "  <li> <b>body</b>: Body number (if the passenger did not survive and his body was found) </li>\n",
        " </ol>"
      ]
    },
    {
      "cell_type": "code",
      "metadata": {
        "id": "uoD8x0dXofmj"
      },
      "source": [
        "titanic_df.drop(['name', 'ticket', 'cabin', 'home.dest', 'boat', 'body'], axis=1, inplace=True)"
      ],
      "execution_count": null,
      "outputs": []
    },
    {
      "cell_type": "markdown",
      "metadata": {
        "id": "4PW_IWwqwdHq"
      },
      "source": [
        "### Handling missing values\n",
        "\n",
        "Handling missing values in datasets is difficult since examples with missing values can be informative for subgroups. Suppose that features associated with third-class tickets have many missing values compared to first-class tickets. Removing all examples with missing values will introduce a bias in the dataset and could completely change the correlations between features and the probability of survival. Another approach is to impute missing values by replacing them with simples statistics such as the mean or the median of the feature. Other imputing techniques use the other features to predict the missing values, which is very close to a ML task. See Scikit-learn reference for more details ([Imputation of missing values](https://www.google.com/url?q=https://scikit-learn.org/stable/modules/impute.html&sa=D&source=editors&ust=1617044175668000&usg=AFQjCNHxRm4BcLBrZEPzW7i3C_PJ7oAuPQ)). Thus, handling missing values should be done carefully and often depend on the dataset and domain knowledge. **In the following, we discard all examples with missing values, but since it is a substantial number of examples, we are probably introducing a bias in the dataset.** To avoid such bias, one can re-annotate the data manually."
      ]
    },
    {
      "cell_type": "code",
      "metadata": {
        "id": "X8YKDg69wjb_",
        "colab": {
          "base_uri": "https://localhost:8080/"
        },
        "outputId": "76ceef90-3020-4846-b0c1-6203c3794ce1"
      },
      "source": [
        "n_examples = len(titanic_df)\n",
        "titanic_df = titanic_df.dropna(axis=0, how='any').reset_index(drop=True)\n",
        "print(f'We removed {n_examples-len(titanic_df)} examples over {n_examples} containing missing values.')"
      ],
      "execution_count": null,
      "outputs": [
        {
          "output_type": "stream",
          "text": [
            "We removed 266 examples over 1309 containing missing values.\n"
          ],
          "name": "stdout"
        }
      ]
    },
    {
      "cell_type": "markdown",
      "metadata": {
        "id": "4MckYm0M_xhR"
      },
      "source": [
        "### Feature encoding\n",
        " \n",
        "Some features are **categorical variables**, which means that they can take a finite number of values.\n",
        " <ol>\n",
        "  <li> <b>pclass</b>: Passenger Class </li>\n",
        "  <li> <b>sex</b>: Sex </li>\n",
        "  <li> <b>embarked</b>: Port of embarkation </li>\n",
        " </ol>\n",
        "\n",
        "To process categorical variables, we need to encode them in a way that does not imply an arbitrary order such as using natural numbers (e.g., 1, 2, 3). <a href=\"https://en.wikipedia.org/wiki/One-hot#Machine_learning_and_statistics\">One-hot encoding</a> is a way to achieve it. To use this encoding, we can simply call the function `get_dummies` in Pandas. The meaning of the encoded variables is as follows:\n",
        "\n",
        "<ol>\n",
        "  <li> <b>survived</b>: Survived? (0 = no; 1 = yes) </li>\n",
        "  <li> <b>pclass_1</b>: (1 if passenger in first class; 0 if not) </li>\n",
        "  <li> <b>pclass_2</b>: (1 if passenger in second class; 0 if not) </li>\n",
        "  <li> <b>pclass_3</b>: (1 if passenger in third class; 0 if not) </li>\n",
        "  <li> <b>sex_female</b>: (1 if passenger is female; 0 if not) </li>\n",
        "  <li> <b>sex_male</b>: (1 if passenger is male; 0 if not) </li>\n",
        "  <li> <b>age</b>: Age </li>\n",
        "  <li> <b>sibsp</b>: Number of brothers, sisters, or spouses onboard </li>\n",
        "  <li> <b>parch</b>: Number of parents or children onboard </li>\n",
        "  <li> <b>fare</b>: Passenger fare </li>\n",
        "  <li> <b>embarked_C</b>: (1 if Port of embarkation = Cherbourg (C); 0 otherwise) </li> \n",
        "  <li> <b>embarked_Q</b>: (1 if Port of embarkation = Queenstown (Q); 0 otherwise) </li> \n",
        "  <li> <b>embarked_S</b>: (1 if Port of embarkation = Southampton (S); 0 otherwise)</li> \n",
        " </ol>"
      ]
    },
    {
      "cell_type": "code",
      "metadata": {
        "id": "G7bFJc5X_qjx",
        "colab": {
          "base_uri": "https://localhost:8080/",
          "height": 226
        },
        "outputId": "04fd4879-c788-4951-b78f-b96fc7104246"
      },
      "source": [
        "titanic_preprocess_df = pd.get_dummies(data=titanic_df, columns=['pclass', 'sex', 'embarked'])\n",
        "titanic_preprocess_df.head()"
      ],
      "execution_count": null,
      "outputs": [
        {
          "output_type": "execute_result",
          "data": {
            "text/html": [
              "<div>\n",
              "<style scoped>\n",
              "    .dataframe tbody tr th:only-of-type {\n",
              "        vertical-align: middle;\n",
              "    }\n",
              "\n",
              "    .dataframe tbody tr th {\n",
              "        vertical-align: top;\n",
              "    }\n",
              "\n",
              "    .dataframe thead th {\n",
              "        text-align: right;\n",
              "    }\n",
              "</style>\n",
              "<table border=\"1\" class=\"dataframe\">\n",
              "  <thead>\n",
              "    <tr style=\"text-align: right;\">\n",
              "      <th></th>\n",
              "      <th>survived</th>\n",
              "      <th>age</th>\n",
              "      <th>sibsp</th>\n",
              "      <th>parch</th>\n",
              "      <th>fare</th>\n",
              "      <th>pclass_1</th>\n",
              "      <th>pclass_2</th>\n",
              "      <th>pclass_3</th>\n",
              "      <th>sex_female</th>\n",
              "      <th>sex_male</th>\n",
              "      <th>embarked_C</th>\n",
              "      <th>embarked_Q</th>\n",
              "      <th>embarked_S</th>\n",
              "    </tr>\n",
              "  </thead>\n",
              "  <tbody>\n",
              "    <tr>\n",
              "      <th>0</th>\n",
              "      <td>1</td>\n",
              "      <td>29.0000</td>\n",
              "      <td>0</td>\n",
              "      <td>0</td>\n",
              "      <td>211.3375</td>\n",
              "      <td>1</td>\n",
              "      <td>0</td>\n",
              "      <td>0</td>\n",
              "      <td>1</td>\n",
              "      <td>0</td>\n",
              "      <td>0</td>\n",
              "      <td>0</td>\n",
              "      <td>1</td>\n",
              "    </tr>\n",
              "    <tr>\n",
              "      <th>1</th>\n",
              "      <td>1</td>\n",
              "      <td>0.9167</td>\n",
              "      <td>1</td>\n",
              "      <td>2</td>\n",
              "      <td>151.5500</td>\n",
              "      <td>1</td>\n",
              "      <td>0</td>\n",
              "      <td>0</td>\n",
              "      <td>0</td>\n",
              "      <td>1</td>\n",
              "      <td>0</td>\n",
              "      <td>0</td>\n",
              "      <td>1</td>\n",
              "    </tr>\n",
              "    <tr>\n",
              "      <th>2</th>\n",
              "      <td>0</td>\n",
              "      <td>2.0000</td>\n",
              "      <td>1</td>\n",
              "      <td>2</td>\n",
              "      <td>151.5500</td>\n",
              "      <td>1</td>\n",
              "      <td>0</td>\n",
              "      <td>0</td>\n",
              "      <td>1</td>\n",
              "      <td>0</td>\n",
              "      <td>0</td>\n",
              "      <td>0</td>\n",
              "      <td>1</td>\n",
              "    </tr>\n",
              "    <tr>\n",
              "      <th>3</th>\n",
              "      <td>0</td>\n",
              "      <td>30.0000</td>\n",
              "      <td>1</td>\n",
              "      <td>2</td>\n",
              "      <td>151.5500</td>\n",
              "      <td>1</td>\n",
              "      <td>0</td>\n",
              "      <td>0</td>\n",
              "      <td>0</td>\n",
              "      <td>1</td>\n",
              "      <td>0</td>\n",
              "      <td>0</td>\n",
              "      <td>1</td>\n",
              "    </tr>\n",
              "    <tr>\n",
              "      <th>4</th>\n",
              "      <td>0</td>\n",
              "      <td>25.0000</td>\n",
              "      <td>1</td>\n",
              "      <td>2</td>\n",
              "      <td>151.5500</td>\n",
              "      <td>1</td>\n",
              "      <td>0</td>\n",
              "      <td>0</td>\n",
              "      <td>1</td>\n",
              "      <td>0</td>\n",
              "      <td>0</td>\n",
              "      <td>0</td>\n",
              "      <td>1</td>\n",
              "    </tr>\n",
              "  </tbody>\n",
              "</table>\n",
              "</div>"
            ],
            "text/plain": [
              "   survived      age  sibsp  ...  embarked_C  embarked_Q  embarked_S\n",
              "0         1  29.0000      0  ...           0           0           1\n",
              "1         1   0.9167      1  ...           0           0           1\n",
              "2         0   2.0000      1  ...           0           0           1\n",
              "3         0  30.0000      1  ...           0           0           1\n",
              "4         0  25.0000      1  ...           0           0           1\n",
              "\n",
              "[5 rows x 13 columns]"
            ]
          },
          "metadata": {
            "tags": []
          },
          "execution_count": 12
        }
      ]
    },
    {
      "cell_type": "markdown",
      "metadata": {
        "id": "zeBNt5EW6tm9"
      },
      "source": [
        "Now, we can check if all examples have a one-hot encoding for their categorical variables."
      ]
    },
    {
      "cell_type": "code",
      "metadata": {
        "id": "4RjZZEokvJ3e",
        "colab": {
          "base_uri": "https://localhost:8080/",
          "height": 69
        },
        "outputId": "5367622e-a47d-40e2-818f-67b55993b323"
      },
      "source": [
        "titanic_preprocess_df.loc[titanic_preprocess_df[['sex_male','sex_female']].sum(axis=1) != 1]"
      ],
      "execution_count": null,
      "outputs": [
        {
          "output_type": "execute_result",
          "data": {
            "text/html": [
              "<div>\n",
              "<style scoped>\n",
              "    .dataframe tbody tr th:only-of-type {\n",
              "        vertical-align: middle;\n",
              "    }\n",
              "\n",
              "    .dataframe tbody tr th {\n",
              "        vertical-align: top;\n",
              "    }\n",
              "\n",
              "    .dataframe thead th {\n",
              "        text-align: right;\n",
              "    }\n",
              "</style>\n",
              "<table border=\"1\" class=\"dataframe\">\n",
              "  <thead>\n",
              "    <tr style=\"text-align: right;\">\n",
              "      <th></th>\n",
              "      <th>survived</th>\n",
              "      <th>age</th>\n",
              "      <th>sibsp</th>\n",
              "      <th>parch</th>\n",
              "      <th>fare</th>\n",
              "      <th>pclass_1</th>\n",
              "      <th>pclass_2</th>\n",
              "      <th>pclass_3</th>\n",
              "      <th>sex_female</th>\n",
              "      <th>sex_male</th>\n",
              "      <th>embarked_C</th>\n",
              "      <th>embarked_Q</th>\n",
              "      <th>embarked_S</th>\n",
              "    </tr>\n",
              "  </thead>\n",
              "  <tbody>\n",
              "  </tbody>\n",
              "</table>\n",
              "</div>"
            ],
            "text/plain": [
              "Empty DataFrame\n",
              "Columns: [survived, age, sibsp, parch, fare, pclass_1, pclass_2, pclass_3, sex_female, sex_male, embarked_C, embarked_Q, embarked_S]\n",
              "Index: []"
            ]
          },
          "metadata": {
            "tags": []
          },
          "execution_count": 13
        }
      ]
    },
    {
      "cell_type": "code",
      "metadata": {
        "id": "Z3yueVPfvEhI",
        "colab": {
          "base_uri": "https://localhost:8080/",
          "height": 69
        },
        "outputId": "181ecba8-f105-4b1e-d052-8f5d2209e04b"
      },
      "source": [
        "titanic_preprocess_df.loc[titanic_preprocess_df[['pclass_1','pclass_2', 'pclass_3']].sum(axis=1) != 1]"
      ],
      "execution_count": null,
      "outputs": [
        {
          "output_type": "execute_result",
          "data": {
            "text/html": [
              "<div>\n",
              "<style scoped>\n",
              "    .dataframe tbody tr th:only-of-type {\n",
              "        vertical-align: middle;\n",
              "    }\n",
              "\n",
              "    .dataframe tbody tr th {\n",
              "        vertical-align: top;\n",
              "    }\n",
              "\n",
              "    .dataframe thead th {\n",
              "        text-align: right;\n",
              "    }\n",
              "</style>\n",
              "<table border=\"1\" class=\"dataframe\">\n",
              "  <thead>\n",
              "    <tr style=\"text-align: right;\">\n",
              "      <th></th>\n",
              "      <th>survived</th>\n",
              "      <th>age</th>\n",
              "      <th>sibsp</th>\n",
              "      <th>parch</th>\n",
              "      <th>fare</th>\n",
              "      <th>pclass_1</th>\n",
              "      <th>pclass_2</th>\n",
              "      <th>pclass_3</th>\n",
              "      <th>sex_female</th>\n",
              "      <th>sex_male</th>\n",
              "      <th>embarked_C</th>\n",
              "      <th>embarked_Q</th>\n",
              "      <th>embarked_S</th>\n",
              "    </tr>\n",
              "  </thead>\n",
              "  <tbody>\n",
              "  </tbody>\n",
              "</table>\n",
              "</div>"
            ],
            "text/plain": [
              "Empty DataFrame\n",
              "Columns: [survived, age, sibsp, parch, fare, pclass_1, pclass_2, pclass_3, sex_female, sex_male, embarked_C, embarked_Q, embarked_S]\n",
              "Index: []"
            ]
          },
          "metadata": {
            "tags": []
          },
          "execution_count": 14
        }
      ]
    },
    {
      "cell_type": "code",
      "metadata": {
        "id": "r4No15nhu8Hi",
        "colab": {
          "base_uri": "https://localhost:8080/",
          "height": 69
        },
        "outputId": "894c80b5-3bae-430c-c016-6855da2331ae"
      },
      "source": [
        "titanic_preprocess_df.loc[titanic_preprocess_df[['embarked_C','embarked_Q', 'embarked_S']].sum(axis=1) != 1]"
      ],
      "execution_count": null,
      "outputs": [
        {
          "output_type": "execute_result",
          "data": {
            "text/html": [
              "<div>\n",
              "<style scoped>\n",
              "    .dataframe tbody tr th:only-of-type {\n",
              "        vertical-align: middle;\n",
              "    }\n",
              "\n",
              "    .dataframe tbody tr th {\n",
              "        vertical-align: top;\n",
              "    }\n",
              "\n",
              "    .dataframe thead th {\n",
              "        text-align: right;\n",
              "    }\n",
              "</style>\n",
              "<table border=\"1\" class=\"dataframe\">\n",
              "  <thead>\n",
              "    <tr style=\"text-align: right;\">\n",
              "      <th></th>\n",
              "      <th>survived</th>\n",
              "      <th>age</th>\n",
              "      <th>sibsp</th>\n",
              "      <th>parch</th>\n",
              "      <th>fare</th>\n",
              "      <th>pclass_1</th>\n",
              "      <th>pclass_2</th>\n",
              "      <th>pclass_3</th>\n",
              "      <th>sex_female</th>\n",
              "      <th>sex_male</th>\n",
              "      <th>embarked_C</th>\n",
              "      <th>embarked_Q</th>\n",
              "      <th>embarked_S</th>\n",
              "    </tr>\n",
              "  </thead>\n",
              "  <tbody>\n",
              "  </tbody>\n",
              "</table>\n",
              "</div>"
            ],
            "text/plain": [
              "Empty DataFrame\n",
              "Columns: [survived, age, sibsp, parch, fare, pclass_1, pclass_2, pclass_3, sex_female, sex_male, embarked_C, embarked_Q, embarked_S]\n",
              "Index: []"
            ]
          },
          "metadata": {
            "tags": []
          },
          "execution_count": 15
        }
      ]
    },
    {
      "cell_type": "markdown",
      "metadata": {
        "id": "n4a-35Xa66Tj"
      },
      "source": [
        "Since there are only two examples with no port of embarkation, we decide to discard them."
      ]
    },
    {
      "cell_type": "code",
      "metadata": {
        "id": "BkBNPNPDk9ZN"
      },
      "source": [
        "# Drop rows where there is no port of embarkation associated\n",
        "titanic_preprocess_df = titanic_preprocess_df.drop(index=148).reset_index(drop=True)\n",
        "titanic_preprocess_df = titanic_preprocess_df.drop(index=248).reset_index(drop=True)"
      ],
      "execution_count": null,
      "outputs": []
    },
    {
      "cell_type": "code",
      "metadata": {
        "id": "l2p2GAKHm-92",
        "colab": {
          "base_uri": "https://localhost:8080/"
        },
        "outputId": "ae907ce7-c86b-4c09-bd9c-5fbbbfa39694"
      },
      "source": [
        "print(f'There are {len(titanic_preprocess_df)} remaining examples in the dataset.')"
      ],
      "execution_count": null,
      "outputs": [
        {
          "output_type": "stream",
          "text": [
            "There are 1043 remaining examples in the dataset.\n"
          ],
          "name": "stdout"
        }
      ]
    },
    {
      "cell_type": "markdown",
      "metadata": {
        "id": "QJcs6PUTavlm"
      },
      "source": [
        "## Train / validation / test split"
      ]
    },
    {
      "cell_type": "markdown",
      "metadata": {
        "id": "Bjbgvffmavlo"
      },
      "source": [
        "At this point, we need to divide the dataset into three subsets:\n",
        "\n",
        "<ol>\n",
        "<li> <b> Train</b> (60% of the dataset): used to train the classification model. </li>   \n",
        "<li> <b> Validation</b> (20% of the dataset): used to evaluate hyper-parameters on held-out data. </li>   \n",
        "<li> <b> Test</b> (20% of the dataset): used to evaluate the generalization performance of the chosen model on held-out data. </li>\n",
        "</ol>\n",
        "\n",
        "We use the <a href=\"https://numpy.org/doc/stable/reference/generated/numpy.split.html\">numpy.split function</a> to separate our dataset into subsets."
      ]
    },
    {
      "cell_type": "markdown",
      "metadata": {
        "id": "cs07L8F5488f"
      },
      "source": [
        "### Exercise 1\n",
        "Complete the missing code to create the validation and the test sets"
      ]
    },
    {
      "cell_type": "code",
      "metadata": {
        "id": "GBmL8VBOavlo"
      },
      "source": [
        "train, validate, test = np.split(\n",
        "    titanic_preprocess_df.sample(frac=1, random_state=seed), \n",
        "    [int(.6*len(titanic_preprocess_df)), int(.8*len(titanic_preprocess_df))])\n",
        "\n",
        "# Remove the label column from X and create a label vectors.\n",
        "X_train = train.drop(['survived'], axis=1).to_numpy()\n",
        "y_train = train['survived'].to_numpy()\n",
        "\n",
        "X_val = validate.drop(['survived'], axis=1).to_numpy() # To complete.\n",
        "y_val = validate['survived'].to_numpy() # To complete.\n",
        "\n",
        "X_test = test.drop(['survived'], axis=1).to_numpy() # To complete.\n",
        "y_test = test['survived'].to_numpy() # To complete.\n"
      ],
      "execution_count": null,
      "outputs": []
    },
    {
      "cell_type": "markdown",
      "metadata": {
        "id": "wv74TbIWavlr"
      },
      "source": [
        "## Datasets in PyTorch"
      ]
    },
    {
      "cell_type": "markdown",
      "metadata": {
        "id": "9_LJtG-Xavlt"
      },
      "source": [
        "We will use the subclass <b><a href=\"https://pytorch.org/docs/master/data.html#torch.utils.data.TensorDataset\"> `torch.utils.data.TensorDataset`</a> </b> to manipulate together the features and targets of a dataset."
      ]
    },
    {
      "cell_type": "markdown",
      "metadata": {
        "id": "CZUfbAtG5S92"
      },
      "source": [
        "### Exercise 2\n",
        "\n",
        "Complete the missing code to load the validation and the test sets in TensorDatasets."
      ]
    },
    {
      "cell_type": "code",
      "metadata": {
        "id": "1JtT4tV7avlt"
      },
      "source": [
        "train_dataset = TensorDataset(torch.from_numpy(X_train).float(), torch.from_numpy(y_train).long())\n",
        "val_dataset = TensorDataset(torch.from_numpy(X_val).float(), torch.from_numpy(y_val).long()) # To complete.\n",
        "test_dataset = TensorDataset(torch.from_numpy(X_test).float(), torch.from_numpy(y_test).long()) # To complete.\n"
      ],
      "execution_count": null,
      "outputs": []
    },
    {
      "cell_type": "markdown",
      "metadata": {
        "id": "obEPHnlTavkc"
      },
      "source": [
        "# How to define the learning algorithm?"
      ]
    },
    {
      "cell_type": "markdown",
      "metadata": {
        "id": "qhN5GL6Gavks"
      },
      "source": [
        "To train a deep learning model, we need to define:\n",
        "* the network architecture by choosing the non-linear function and the number of hidden units per layer, \n",
        "* the loss function and optimizer.\n",
        "\n",
        "In this tutorial, we consider the multilayer perceptron (MLP). A MLP is a simple computational graph composed of \"hidden layers,\" which are defined by two modules: a **linear transformation** followed by a **non-linearity**. The result of a hidden layer is a vector called a **distributed representation** where each component is associated with a hidden unit.\n",
        "\n",
        "To solve our task, we will use a MLP with the following architecture:\n",
        "* the input dimension of the model is 12,\n",
        "* the output dimension of the model is 2,\n",
        "* the first dimension of the output is the probability of death and the second dimension is the probability of survival,\n",
        "* the number of hidden layers is 3, \n",
        "* the dimensions of the hidden layers are 20, 40, 20 respectively, \n",
        "* the activation function is a ReLu for all hidden layers."
      ]
    },
    {
      "cell_type": "markdown",
      "metadata": {
        "id": "701t0e-ravkr"
      },
      "source": [
        "## How to define a model in PyTorch?"
      ]
    },
    {
      "cell_type": "markdown",
      "metadata": {
        "id": "m4F5cyijavkv"
      },
      "source": [
        "The <a href=\"https://pytorch.org/docs/stable/nn.html\">PyTorch NN package</a> contains many useful classes for creating computation graphs.\n",
        "* The class <a href=\"https://pytorch.org/docs/master/generated/torch.nn.Module.html#torch.nn.Module\">torch.nn.Module</a>: \n",
        "any new module must inherit from this class or its descendants (subclasses).\n",
        "* The `forward` method:  any class defining a module must implement the `forward(...)` method, which defines the transformation of inputs to outputs.\n",
        "* The class <a href=\"https://pytorch.org/docs/master/generated/torch.nn.Linear.html#torch.nn.Linear\">`torch.nn.Linear(in_features, out_features)`</a>: this class implements a linear transformation. By default, it takes two parameters: \n",
        "    * `in_features`: the size of the data at the input of the module. \n",
        "    * `out_features`: the size of the data at the output of the module.\n",
        "\n",
        "* The module <a href=\"https://pytorch.org/docs/master/nn.functional.html#torch-nn-functional\">`torch.nn.functional`</a>: \n",
        "it defines a set of functions that can be applied directly to any tensor. As examples, we have:\n",
        "    * non-linear functions: `sigmoid(...)`, `tanh(...)`, `relu(...)`, ...\n",
        "    * loss functions: `mse_loss(...)`, `nll(...)`, `cross_entropy(...)`, ... \n",
        "    * regularization functions: `droupout(...)`, ..."
      ]
    },
    {
      "cell_type": "markdown",
      "metadata": {
        "id": "Tscha6S-KIBB"
      },
      "source": [
        "### Exercise 3\n",
        "\n",
        "Complete the following methods to define a neural network:\n",
        "* The `__init__` method that defines the layers.\n",
        "* The `forward(input)` method that returns the `output`."
      ]
    },
    {
      "cell_type": "code",
      "metadata": {
        "id": "xR5eBfIbavk0"
      },
      "source": [
        "class NeuralNet(nn.Module):\n",
        "    def __init__(self):\n",
        "      super(NeuralNet, self).__init__() # To complete.\n",
        "      self.layers = nn.Sequential(\n",
        "          nn.Linear(12, 20),\n",
        "          nn.ReLU(),\n",
        "          nn.Linear(20, 40),\n",
        "          nn.ReLU(),\n",
        "          nn.Linear(40, 20),\n",
        "          nn.ReLU(),\n",
        "          nn.Linear(20, 2)\n",
        "      )\n",
        "\n",
        "\n",
        "    def forward(self, x):      \n",
        "      out = self.layers(x) # To complete.\n",
        "      return out"
      ],
      "execution_count": null,
      "outputs": []
    },
    {
      "cell_type": "markdown",
      "metadata": {
        "id": "OvLnHRZ5avk2"
      },
      "source": [
        "## Making predictions with a neural network"
      ]
    },
    {
      "cell_type": "markdown",
      "metadata": {
        "id": "uEXgJMDDavk3"
      },
      "source": [
        "Now, we are ready to test our neural network on randomly selected data.\n",
        "\n",
        "In PyTorch, a model has two different modes:\n",
        "    <ul>\n",
        "    <li> <b>train</b>: used during training, </li>\n",
        "    <li> <b>eval</b>: used during inference for model evaluation. </li>\n",
        "    </ul>\n",
        "\n",
        "The distinction is important since some modules behave differently according to this mode.\n",
        "We will use the <b>eval</b> mode in this section."
      ]
    },
    {
      "cell_type": "markdown",
      "metadata": {
        "id": "IqtE_hr650pz"
      },
      "source": [
        "### Exercise 4\n",
        "Complete the missing code so that the model outputs a probability vector. "
      ]
    },
    {
      "cell_type": "code",
      "metadata": {
        "id": "gzcABMezavk6",
        "colab": {
          "base_uri": "https://localhost:8080/"
        },
        "outputId": "13395cdc-0a41-4900-ef78-14b93d426036"
      },
      "source": [
        "# Model definition\n",
        "neural_net = NeuralNet()\n",
        "neural_net = neural_net.to(device)\n",
        "\n",
        "# Evaluation mode activation\n",
        "neural_net = neural_net.eval()\n",
        "\n",
        "# Select the first 5 data points\n",
        "data, target = val_dataset[0:5]\n",
        "data = data.to(device)\n",
        "target = target.to(device)\n",
        "\n",
        "# Forward propagation of the data through the model\n",
        "output = neural_net(data)   # equivalent to neural_net.forward(data)\n",
        "\n",
        "# Convert the logits into probabilities with softmax function\n",
        "m = nn.Softmax(dim=1)\n",
        "output_proba = m(output) # To complete.\n",
        "\n",
        "# Printing the probability\n",
        "print(output_proba)"
      ],
      "execution_count": null,
      "outputs": [
        {
          "output_type": "stream",
          "text": [
            "tensor([[0.5351, 0.4649],\n",
            "        [0.5391, 0.4609],\n",
            "        [0.6017, 0.3983],\n",
            "        [0.5506, 0.4494],\n",
            "        [0.4705, 0.5295]], device='cuda:0', grad_fn=<SoftmaxBackward>)\n"
          ],
          "name": "stdout"
        }
      ]
    },
    {
      "cell_type": "markdown",
      "metadata": {
        "id": "fVep0BElavlS"
      },
      "source": [
        "The rows define the output of the network, in terms of probabilities over two classes: <b>deceased</b> (first column) or <b>survived</b> (second column), for each of the five input data points. Let us take the label with maximum probability as the predicted label and compare it to the correct label."
      ]
    },
    {
      "cell_type": "code",
      "metadata": {
        "id": "_jV4No36qjdU",
        "colab": {
          "base_uri": "https://localhost:8080/"
        },
        "outputId": "ad0744c6-5c6c-464d-d8fa-5fb99011e7e0"
      },
      "source": [
        "# Printing predictions (class with the highest probability)\n",
        "_, prediction = torch.max(output_proba, dim=1)\n",
        "\n",
        "print('Model prediction')\n",
        "print(prediction)\n",
        "\n",
        "# Printing the real labels\n",
        "print(\"Actual data\")\n",
        "print(target)"
      ],
      "execution_count": null,
      "outputs": [
        {
          "output_type": "stream",
          "text": [
            "Model prediction\n",
            "tensor([0, 0, 0, 0, 1], device='cuda:0')\n",
            "Actual data\n",
            "tensor([0, 0, 0, 0, 0], device='cuda:0')\n"
          ],
          "name": "stdout"
        }
      ]
    },
    {
      "cell_type": "markdown",
      "metadata": {
        "id": "SEIIjqOuqjdc"
      },
      "source": [
        "### Exercise 5\n",
        "\n",
        "1.   What would be a good way to measure the model performances?\n",
        "2.   How does our model perform?\n",
        "3.   Considering that the model is not trained on the dataset, do you see any problem with your selected measure?\n"
      ]
    },
    {
      "cell_type": "markdown",
      "metadata": {
        "id": "0uySA2TCavmD"
      },
      "source": [
        "## Define the loss function and optimizer"
      ]
    },
    {
      "cell_type": "markdown",
      "metadata": {
        "id": "EkoobCLMavmE"
      },
      "source": [
        "### Loss function"
      ]
    },
    {
      "cell_type": "markdown",
      "metadata": {
        "id": "qkX7uSXQavmF"
      },
      "source": [
        "We define the loss function according to the task we want to achieve.\n",
        "\n",
        "PyTorch offers <a href=\"https://pytorch.org/docs/stable/nn.html#loss-functions\">many ready-to-use loss functions</a>.\n",
        "\n",
        "For classification problems, the usual loss function is <b>cross-entropy</b>, and this is the one we will use in this tutorial. In PyTorch, it is defined by the function <a href=\"https://pytorch.org/docs/master/nn.functional.html#cross-entropy\">`torch.nn.functional.cross_entropy`</a>.  Cross entropy allows comparing a $p$ distribution with a reference distribution $t$. It attains its minimum when $t=p$. Its formula for calculating it between the prediction and the target is: $-\\sum_j t_{ij} \\log(p_{ij})$ where $p$ is the prediction, $t$ the target, $i$ the example and $j$ the classe of the target."
      ]
    },
    {
      "cell_type": "code",
      "metadata": {
        "id": "FHnfYeS5avmF"
      },
      "source": [
        "def loss_function(prediction, target):\n",
        "    loss = F.cross_entropy(prediction, target)\n",
        "    return loss"
      ],
      "execution_count": null,
      "outputs": []
    },
    {
      "cell_type": "markdown",
      "metadata": {
        "id": "Vsx_cv9Wqjdj"
      },
      "source": [
        "### Backpropagation"
      ]
    },
    {
      "cell_type": "markdown",
      "metadata": {
        "id": "0hcZaIKtavmH"
      },
      "source": [
        "In Pytorch, thanks to the automatic differentiation mechanism <a href=\"http://pytorch.org/docs/master/notes/autograd.html\">Autograd</a>, it is possible to automatically calculate the gradient of the loss function and backpropagate it through the computational graph.\n",
        "\n",
        "To do this, we only have to call the method `backward()` on the variable returned by the loss function, e.g., with\n",
        "\n",
        "```python\n",
        "loss = loss_function(....)\n",
        "loss.backward()\n",
        "```"
      ]
    },
    {
      "cell_type": "markdown",
      "metadata": {
        "id": "8YNo_ymYavmH"
      },
      "source": [
        "### Optimization"
      ]
    },
    {
      "cell_type": "markdown",
      "metadata": {
        "id": "Y4AlX9TwavmH"
      },
      "source": [
        "PyTorch provides a <a href=\"http://pytorch.org/docs/master/optim.html#algorithms\">set of optimization methods (`torch.optim`)</a> commonly used by the deep learning community. These methods include the following: \n",
        "* <b>SGD</b> (Stochastic Gradient Descent) <a href=\"http://pytorch.org/docs/master/optim.html#torch.optim.SGD\">`torch.optim.SGD(net.parameters(), lr=learning_rate)`</a>\n",
        "* <b>Adam</b> (Adaptive Moment Estimation): a variant of the gradient descent method in which the learning rate is adjusted for each parameter by estimating the first and second moments of the gradients. This optimizer has demonstrated excellent performance compared to SGD on many benchmarks.\n",
        "\n",
        "To be able to use an optimizer in PyTorch, we must instantiate it by passing the following elements:\n",
        "* <b>The parameters of the model</b>: these are obtained using the method `parameters()` on the instantiated model.\n",
        "* <b>The learning rate (lr)</b>: this is the learning rate to be used to update parameters during the optimization process. \n",
        "* There may be other parameters specific to the chosen optimizer.\n",
        "\n",
        "PyTorch offers a simplified interface to interact with any optimizer:\n",
        "* `zero_grad()`: Allows to reinitialize the gradients to zero at the beginning of an optimization step.\n",
        "* `step()`: Allows to perform an optimization step after a gradient backpropagation step."
      ]
    },
    {
      "cell_type": "markdown",
      "metadata": {
        "id": "fZ-lKExqavmI"
      },
      "source": [
        "We will use Adam with a lr of 0.001."
      ]
    },
    {
      "cell_type": "code",
      "metadata": {
        "id": "WDMOziJTavmI"
      },
      "source": [
        "optimizer = optim.Adam(neural_net.parameters(), lr=0.001) "
      ],
      "execution_count": null,
      "outputs": []
    },
    {
      "cell_type": "markdown",
      "metadata": {
        "id": "OnFOAfdGqjdr"
      },
      "source": [
        "# How to train and evaluate a model?\n",
        "First, we need some definitions:\n",
        "<ol>\n",
        "<li>\n",
        "<b>Epoch</b>: a complete pass over the entire training dataset.\n",
        "</li>\n",
        "<li>\n",
        "<b>Iteration</b>: an update of the model parameters. Many iterations can occur before the end of an epoch.\n",
        "</li>\n",
        "<li>\n",
        "<b>Mini-batch</b>: A subset of training data used to estimate the average of gradients. In other words, at each iteration, a mini-batch is used. \n",
        "</li>\n",
        "</ol>"
      ]
    },
    {
      "cell_type": "markdown",
      "metadata": {
        "id": "LLXjNiDTavmK"
      },
      "source": [
        "## Creating the mini-batches\n",
        "PyTorch offers a utility called <b><a href=\"http://pytorch.org/docs/master/data.html\"> `torch.utils.data.DataLoader`</a></b> to load any dataset and automatically split it into mini-batches. During training, the data presented to the network should appear in a different order from one epoch to another. We will prepare the `DataLoader` for our three datasets (training, validation, and test)."
      ]
    },
    {
      "cell_type": "code",
      "metadata": {
        "id": "RGoQZSdqavmM"
      },
      "source": [
        "train_batch_size = 32  # number of data in a training batch.\n",
        "eval_batch_size = 32   # number of data in an batch.\n",
        "\n",
        "\n",
        "train_loader = torch.utils.data.DataLoader(train_dataset, batch_size=train_batch_size, shuffle=True)\n",
        "\n",
        "val_loader   = torch.utils.data.DataLoader(val_dataset, batch_size=eval_batch_size, shuffle=False)\n",
        "test_loader  = torch.utils.data.DataLoader(test_dataset, batch_size=eval_batch_size, shuffle=False)"
      ],
      "execution_count": null,
      "outputs": []
    },
    {
      "cell_type": "markdown",
      "metadata": {
        "id": "Ia3ai-GvavmP"
      },
      "source": [
        "## Simple training loop"
      ]
    },
    {
      "cell_type": "markdown",
      "metadata": {
        "id": "v9wNZrTnavmQ"
      },
      "source": [
        "Here we define our training procedure for an epoch."
      ]
    },
    {
      "cell_type": "code",
      "metadata": {
        "id": "ZyK9xCsZavmR"
      },
      "source": [
        "def train(epoch, model, train_loader, optimizer, device):\n",
        "    \n",
        "    # activate the training mode\n",
        "    model.train()\n",
        "    \n",
        "    torch.set_grad_enabled(True)\n",
        "    \n",
        "    total_loss = 0\n",
        "    correct = 0\n",
        "    \n",
        "    # iteration over the mini-batches\n",
        "    for batch_idx, (data, target) in enumerate(train_loader):\n",
        "        \n",
        "        # transfer the data on the chosen device\n",
        "        data, target = data.to(device), target.to(device)\n",
        "        \n",
        "        # reinitialize the gradients to zero\n",
        "        optimizer.zero_grad()\n",
        "        \n",
        "        # forward propagation on the data\n",
        "        prediction = model(data)\n",
        "        \n",
        "        # compute the loss function w.r.t. the targets\n",
        "        loss = loss_function(prediction, target)\n",
        "        \n",
        "        # execute the backpropagation\n",
        "        loss.backward()\n",
        "        \n",
        "        # execute an optimization step\n",
        "        optimizer.step()\n",
        "        \n",
        "        # accumulate the loss\n",
        "        total_loss += loss.item()*len(data)\n",
        "        \n",
        "        # compute the number of correct predictions\n",
        "        _, pred_classes = torch.max(prediction, dim=1)        \n",
        "        correct += pred_classes.eq(target.view_as(pred_classes)).sum().item()\n",
        "         \n",
        "        \n",
        "    # compute the average loss per epoch\n",
        "    mean_loss = total_loss/len(train_loader.dataset)\n",
        "    \n",
        "    # compute the accuracy\n",
        "    acc = correct / len(train_loader.dataset)\n",
        "        \n",
        "    print('Train Epoch: {}   Avg_Loss: {:.5f}   Acc: {}/{} ({:.3f}%)'.format(\n",
        "        epoch, mean_loss, correct, len(train_loader.dataset),\n",
        "        100. * acc))   \n",
        "    \n",
        "    # return the average loss and the accuracy\n",
        "    return mean_loss, acc"
      ],
      "execution_count": null,
      "outputs": []
    },
    {
      "cell_type": "markdown",
      "metadata": {
        "id": "vGexbWaHavmU"
      },
      "source": [
        "## Evaluation procedure\n",
        "Here we define our model evaluation procedure.\n",
        "<br/>\n",
        "In addition to switching the model to **eval** mode, it is essential to disable the gradient calculation. \n",
        "<br/>\n",
        "To do this, PyTorch offers a set of context managers to <a href=\"https://pytorch.org/docs/0.4.0/torch.html#locally-disabling-gradient-computation\">locally disable/enable gradient calculation </a>:\n",
        "1. `torch.no_grad()`: disable gradient calculation.\n",
        "2. `torch.enable_grad()`: enable gradient calculation.\n",
        "3. `torch.set_grad_enabled(bool)`: enable/disable gradient calculation.\n",
        "\n"
      ]
    },
    {
      "cell_type": "code",
      "metadata": {
        "id": "8gQj9W5LavmU"
      },
      "source": [
        "def evaluate(model, eval_loader, device):\n",
        "    \n",
        "    # activate the evaluation mode\n",
        "    model.eval()\n",
        "    \n",
        "    total_loss = 0\n",
        "    correct = 0\n",
        "    \n",
        "    with torch.no_grad():\n",
        "    \n",
        "        # iterate over the batches\n",
        "        for batch_idx, (data, target) in enumerate(eval_loader):\n",
        "\n",
        "            # transfer the data on the chosen device\n",
        "            data, target = data.to(device), target.to(device)\n",
        "\n",
        "            # forward propagation on the data\n",
        "            prediction = model(data)\n",
        "\n",
        "            # compute the loss function w.r.t. the targets\n",
        "            loss = loss_function(prediction, target)           \n",
        "\n",
        "\n",
        "            # accumulate the loss\n",
        "            total_loss += loss.item()*len(data)\n",
        "\n",
        "            # compute the number of correct predictions en sortie)\n",
        "            _, pred_classes = torch.max(prediction, dim=1) \n",
        "            correct += pred_classes.eq(target.view_as(pred_classes)).sum().item()         \n",
        "          \n",
        "    \n",
        "    # compute the average loss per epoch\n",
        "    mean_loss = total_loss/len(eval_loader.dataset)\n",
        "    \n",
        "    # compute the accuracy\n",
        "    acc = correct / len(eval_loader.dataset)\n",
        "        \n",
        "    print('Eval:  Avg_Loss: {:.5f}   Acc: {}/{} ({:.3f}%)'.format(\n",
        "        mean_loss, correct, len(eval_loader.dataset),\n",
        "        100. * acc)) \n",
        "    \n",
        "    # return the average loss and the accuracy\n",
        "    return mean_loss, acc"
      ],
      "execution_count": null,
      "outputs": []
    },
    {
      "cell_type": "markdown",
      "metadata": {
        "id": "lQLklQXAavmW"
      },
      "source": [
        "## Checkpointing\n",
        "\n",
        "During training, we recommend saving the model parameters periodically. By doing so, we avoid having to retrain the model from scratch if the experiment goes wrong such as losing communication with GPU, out-of-memory error, numerical errors, incorrect learning rates making the experiment unstable, etc. This practice is commonly referred to as <b>checkpointing</b>.\n",
        "\n",
        "PyTorch offers <a href=\"http://pytorch.org/docs/master/notes/serialization.html\">a simple mechanism</a> to perform this operation.\n",
        "\n",
        "We implement two methods here:\n",
        "<ul>\n",
        "<li> the first one for <b> saving </b> a model,</li>\n",
        "<li> the second for <b> loading </b> a model checkpoint. </li>\n",
        "</ul>"
      ]
    },
    {
      "cell_type": "code",
      "metadata": {
        "id": "dMmNpma2avmX"
      },
      "source": [
        "def save_model(epoch, model, path='./'):\n",
        "    \n",
        "    # creating the file name indexed by the epoch value\n",
        "    filename = path + 'neural_network_{}.pt'.format(epoch)\n",
        "    \n",
        "    # saving the model parameters\n",
        "    torch.save(model.state_dict(), filename)\n",
        "    \n",
        "    return model\n",
        "    "
      ],
      "execution_count": null,
      "outputs": []
    },
    {
      "cell_type": "code",
      "metadata": {
        "id": "2ZptgqQRavmZ"
      },
      "source": [
        "def load_model(epoch, model, path='./'):\n",
        "    \n",
        "    # creating the file name indexed by the epoch value\n",
        "    filename = path + 'neural_network_{}.pt'.format(epoch)\n",
        "    \n",
        "    # loading the parameters of the saved model\n",
        "    model.load_state_dict(torch.load(filename))\n",
        "    \n",
        "    return model"
      ],
      "execution_count": null,
      "outputs": []
    },
    {
      "cell_type": "markdown",
      "metadata": {
        "id": "ve8sOocWavma"
      },
      "source": [
        "It is also possible to save the optimizer's status in PyTorch, which is very important when we want to resume training the model from a given backup. For more information, please consult <a href='https://discuss.pytorch.org/t/saving-and-loading-a-model-in-pytorch/2610/3'>the following URL</a>."
      ]
    },
    {
      "cell_type": "markdown",
      "metadata": {
        "id": "8lcAP8-1avma"
      },
      "source": [
        "## Putting everything together"
      ]
    },
    {
      "cell_type": "code",
      "metadata": {
        "id": "keMpyePsavmb",
        "colab": {
          "base_uri": "https://localhost:8080/"
        },
        "outputId": "32cb2832-469f-4cba-80a7-9c4e207ede9d"
      },
      "source": [
        "# maximum number of epoch\n",
        "numEpochs = 200\n",
        "\n",
        "# Saving frequency\n",
        "checkpoint_freq = 10\n",
        "\n",
        "# Directory for data backup\n",
        "path = './'\n",
        "\n",
        "# Accumulators of average losses obtained per epoch\n",
        "train_losses = []\n",
        "val_losses = []\n",
        "\n",
        "# Performance accumulators per epoch\n",
        "train_accuracies = []\n",
        "val_accuracies = []\n",
        "\n",
        "# Model definition\n",
        "neural_net = NeuralNet()\n",
        "\n",
        "# Load the model on the chosen device\n",
        "neural_net = neural_net.to(device)\n",
        "\n",
        "# Optimizer definition\n",
        "optimizer = optim.Adam(neural_net.parameters(), lr=0.001) \n",
        "# optimizer = optim.SGD(neural_net.parameters(), lr=0.001) \n",
        "\n",
        "\n",
        "# Learning loop\n",
        "for epoch in range(1, numEpochs + 1):\n",
        "    \n",
        "    # train the model with the train dataset\n",
        "    train_loss, train_acc = train(epoch, neural_net, train_loader, optimizer, device)   \n",
        "    \n",
        "    # evaluate the model with the validation dataset\n",
        "    val_loss, val_acc = evaluate(neural_net, val_loader, device)       \n",
        "    \n",
        "    # Save the losses obtained\n",
        "    train_losses.append(train_loss)    \n",
        "    val_losses.append(val_loss)\n",
        "    \n",
        "    # Save the performances\n",
        "    train_accuracies.append(train_acc)    \n",
        "    val_accuracies.append(val_acc)\n",
        "    \n",
        "    # Checkpoint\n",
        "    if epoch % checkpoint_freq ==0:\n",
        "        save_model(epoch, neural_net, path)\n",
        "\n",
        "# Save the model at the end of the training\n",
        "save_model(numEpochs, neural_net, path)\n",
        "    \n",
        "print(\"\\n\\n\\nOptimization ended.\\n\")    \n"
      ],
      "execution_count": null,
      "outputs": [
        {
          "output_type": "stream",
          "text": [
            "Train Epoch: 1   Avg_Loss: 0.64408   Acc: 396/625 (63.360%)\n",
            "Eval:  Avg_Loss: 0.61736   Acc: 142/209 (67.943%)\n",
            "Train Epoch: 2   Avg_Loss: 0.61915   Acc: 412/625 (65.920%)\n",
            "Eval:  Avg_Loss: 0.61791   Acc: 140/209 (66.986%)\n",
            "Train Epoch: 3   Avg_Loss: 0.60488   Acc: 420/625 (67.200%)\n",
            "Eval:  Avg_Loss: 0.61209   Acc: 142/209 (67.943%)\n",
            "Train Epoch: 4   Avg_Loss: 0.60334   Acc: 422/625 (67.520%)\n",
            "Eval:  Avg_Loss: 0.61158   Acc: 142/209 (67.943%)\n",
            "Train Epoch: 5   Avg_Loss: 0.60076   Acc: 428/625 (68.480%)\n",
            "Eval:  Avg_Loss: 0.59996   Acc: 141/209 (67.464%)\n",
            "Train Epoch: 6   Avg_Loss: 0.59307   Acc: 425/625 (68.000%)\n",
            "Eval:  Avg_Loss: 0.60134   Acc: 144/209 (68.900%)\n",
            "Train Epoch: 7   Avg_Loss: 0.59134   Acc: 418/625 (66.880%)\n",
            "Eval:  Avg_Loss: 0.60935   Acc: 142/209 (67.943%)\n",
            "Train Epoch: 8   Avg_Loss: 0.58554   Acc: 420/625 (67.200%)\n",
            "Eval:  Avg_Loss: 0.60476   Acc: 143/209 (68.421%)\n",
            "Train Epoch: 9   Avg_Loss: 0.58190   Acc: 433/625 (69.280%)\n",
            "Eval:  Avg_Loss: 0.59186   Acc: 143/209 (68.421%)\n",
            "Train Epoch: 10   Avg_Loss: 0.58334   Acc: 438/625 (70.080%)\n",
            "Eval:  Avg_Loss: 0.57655   Acc: 145/209 (69.378%)\n",
            "Train Epoch: 11   Avg_Loss: 0.56502   Acc: 445/625 (71.200%)\n",
            "Eval:  Avg_Loss: 0.57194   Acc: 145/209 (69.378%)\n",
            "Train Epoch: 12   Avg_Loss: 0.55456   Acc: 448/625 (71.680%)\n",
            "Eval:  Avg_Loss: 0.56422   Acc: 149/209 (71.292%)\n",
            "Train Epoch: 13   Avg_Loss: 0.54526   Acc: 472/625 (75.520%)\n",
            "Eval:  Avg_Loss: 0.55141   Acc: 144/209 (68.900%)\n",
            "Train Epoch: 14   Avg_Loss: 0.53439   Acc: 467/625 (74.720%)\n",
            "Eval:  Avg_Loss: 0.54089   Acc: 154/209 (73.684%)\n",
            "Train Epoch: 15   Avg_Loss: 0.52916   Acc: 469/625 (75.040%)\n",
            "Eval:  Avg_Loss: 0.56585   Acc: 147/209 (70.335%)\n",
            "Train Epoch: 16   Avg_Loss: 0.50502   Acc: 493/625 (78.880%)\n",
            "Eval:  Avg_Loss: 0.51393   Acc: 157/209 (75.120%)\n",
            "Train Epoch: 17   Avg_Loss: 0.50412   Acc: 485/625 (77.600%)\n",
            "Eval:  Avg_Loss: 0.55390   Acc: 150/209 (71.770%)\n",
            "Train Epoch: 18   Avg_Loss: 0.48453   Acc: 480/625 (76.800%)\n",
            "Eval:  Avg_Loss: 0.50696   Acc: 157/209 (75.120%)\n",
            "Train Epoch: 19   Avg_Loss: 0.47731   Acc: 489/625 (78.240%)\n",
            "Eval:  Avg_Loss: 0.50846   Acc: 159/209 (76.077%)\n",
            "Train Epoch: 20   Avg_Loss: 0.49460   Acc: 483/625 (77.280%)\n",
            "Eval:  Avg_Loss: 0.50675   Acc: 155/209 (74.163%)\n",
            "Train Epoch: 21   Avg_Loss: 0.47085   Acc: 488/625 (78.080%)\n",
            "Eval:  Avg_Loss: 0.49882   Acc: 160/209 (76.555%)\n",
            "Train Epoch: 22   Avg_Loss: 0.45531   Acc: 495/625 (79.200%)\n",
            "Eval:  Avg_Loss: 0.51781   Acc: 152/209 (72.727%)\n",
            "Train Epoch: 23   Avg_Loss: 0.48531   Acc: 489/625 (78.240%)\n",
            "Eval:  Avg_Loss: 0.49419   Acc: 160/209 (76.555%)\n",
            "Train Epoch: 24   Avg_Loss: 0.47446   Acc: 493/625 (78.880%)\n",
            "Eval:  Avg_Loss: 0.49916   Acc: 157/209 (75.120%)\n",
            "Train Epoch: 25   Avg_Loss: 0.45483   Acc: 494/625 (79.040%)\n",
            "Eval:  Avg_Loss: 0.51759   Acc: 163/209 (77.990%)\n",
            "Train Epoch: 26   Avg_Loss: 0.45763   Acc: 502/625 (80.320%)\n",
            "Eval:  Avg_Loss: 0.49426   Acc: 160/209 (76.555%)\n",
            "Train Epoch: 27   Avg_Loss: 0.45470   Acc: 494/625 (79.040%)\n",
            "Eval:  Avg_Loss: 0.49960   Acc: 163/209 (77.990%)\n",
            "Train Epoch: 28   Avg_Loss: 0.45187   Acc: 495/625 (79.200%)\n",
            "Eval:  Avg_Loss: 0.49256   Acc: 156/209 (74.641%)\n",
            "Train Epoch: 29   Avg_Loss: 0.45463   Acc: 500/625 (80.000%)\n",
            "Eval:  Avg_Loss: 0.48325   Acc: 160/209 (76.555%)\n",
            "Train Epoch: 30   Avg_Loss: 0.44636   Acc: 504/625 (80.640%)\n",
            "Eval:  Avg_Loss: 0.49123   Acc: 156/209 (74.641%)\n",
            "Train Epoch: 31   Avg_Loss: 0.43805   Acc: 502/625 (80.320%)\n",
            "Eval:  Avg_Loss: 0.48844   Acc: 161/209 (77.033%)\n",
            "Train Epoch: 32   Avg_Loss: 0.43553   Acc: 503/625 (80.480%)\n",
            "Eval:  Avg_Loss: 0.51540   Acc: 160/209 (76.555%)\n",
            "Train Epoch: 33   Avg_Loss: 0.43295   Acc: 498/625 (79.680%)\n",
            "Eval:  Avg_Loss: 0.52458   Acc: 157/209 (75.120%)\n",
            "Train Epoch: 34   Avg_Loss: 0.44200   Acc: 501/625 (80.160%)\n",
            "Eval:  Avg_Loss: 0.49920   Acc: 163/209 (77.990%)\n",
            "Train Epoch: 35   Avg_Loss: 0.44575   Acc: 498/625 (79.680%)\n",
            "Eval:  Avg_Loss: 0.50051   Acc: 155/209 (74.163%)\n",
            "Train Epoch: 36   Avg_Loss: 0.44806   Acc: 495/625 (79.200%)\n",
            "Eval:  Avg_Loss: 0.48193   Acc: 159/209 (76.077%)\n",
            "Train Epoch: 37   Avg_Loss: 0.43646   Acc: 501/625 (80.160%)\n",
            "Eval:  Avg_Loss: 0.47960   Acc: 161/209 (77.033%)\n",
            "Train Epoch: 38   Avg_Loss: 0.42731   Acc: 507/625 (81.120%)\n",
            "Eval:  Avg_Loss: 0.48970   Acc: 157/209 (75.120%)\n",
            "Train Epoch: 39   Avg_Loss: 0.42458   Acc: 512/625 (81.920%)\n",
            "Eval:  Avg_Loss: 0.48507   Acc: 159/209 (76.077%)\n",
            "Train Epoch: 40   Avg_Loss: 0.42537   Acc: 502/625 (80.320%)\n",
            "Eval:  Avg_Loss: 0.47734   Acc: 162/209 (77.512%)\n",
            "Train Epoch: 41   Avg_Loss: 0.44266   Acc: 503/625 (80.480%)\n",
            "Eval:  Avg_Loss: 0.51570   Acc: 158/209 (75.598%)\n",
            "Train Epoch: 42   Avg_Loss: 0.45181   Acc: 500/625 (80.000%)\n",
            "Eval:  Avg_Loss: 0.47489   Acc: 161/209 (77.033%)\n",
            "Train Epoch: 43   Avg_Loss: 0.42481   Acc: 508/625 (81.280%)\n",
            "Eval:  Avg_Loss: 0.48459   Acc: 161/209 (77.033%)\n",
            "Train Epoch: 44   Avg_Loss: 0.41981   Acc: 509/625 (81.440%)\n",
            "Eval:  Avg_Loss: 0.48391   Acc: 162/209 (77.512%)\n",
            "Train Epoch: 45   Avg_Loss: 0.41511   Acc: 512/625 (81.920%)\n",
            "Eval:  Avg_Loss: 0.48552   Acc: 165/209 (78.947%)\n",
            "Train Epoch: 46   Avg_Loss: 0.41463   Acc: 514/625 (82.240%)\n",
            "Eval:  Avg_Loss: 0.48940   Acc: 163/209 (77.990%)\n",
            "Train Epoch: 47   Avg_Loss: 0.42663   Acc: 509/625 (81.440%)\n",
            "Eval:  Avg_Loss: 0.47357   Acc: 161/209 (77.033%)\n",
            "Train Epoch: 48   Avg_Loss: 0.41111   Acc: 510/625 (81.600%)\n",
            "Eval:  Avg_Loss: 0.48810   Acc: 167/209 (79.904%)\n",
            "Train Epoch: 49   Avg_Loss: 0.41190   Acc: 516/625 (82.560%)\n",
            "Eval:  Avg_Loss: 0.50787   Acc: 163/209 (77.990%)\n",
            "Train Epoch: 50   Avg_Loss: 0.45504   Acc: 500/625 (80.000%)\n",
            "Eval:  Avg_Loss: 0.79269   Acc: 146/209 (69.856%)\n",
            "Train Epoch: 51   Avg_Loss: 0.52923   Acc: 493/625 (78.880%)\n",
            "Eval:  Avg_Loss: 0.61153   Acc: 153/209 (73.206%)\n",
            "Train Epoch: 52   Avg_Loss: 0.45581   Acc: 497/625 (79.520%)\n",
            "Eval:  Avg_Loss: 0.46923   Acc: 166/209 (79.426%)\n",
            "Train Epoch: 53   Avg_Loss: 0.41786   Acc: 509/625 (81.440%)\n",
            "Eval:  Avg_Loss: 0.47104   Acc: 165/209 (78.947%)\n",
            "Train Epoch: 54   Avg_Loss: 0.41734   Acc: 517/625 (82.720%)\n",
            "Eval:  Avg_Loss: 0.46931   Acc: 164/209 (78.469%)\n",
            "Train Epoch: 55   Avg_Loss: 0.40876   Acc: 509/625 (81.440%)\n",
            "Eval:  Avg_Loss: 0.47283   Acc: 162/209 (77.512%)\n",
            "Train Epoch: 56   Avg_Loss: 0.41081   Acc: 519/625 (83.040%)\n",
            "Eval:  Avg_Loss: 0.47429   Acc: 166/209 (79.426%)\n",
            "Train Epoch: 57   Avg_Loss: 0.40718   Acc: 513/625 (82.080%)\n",
            "Eval:  Avg_Loss: 0.47775   Acc: 162/209 (77.512%)\n",
            "Train Epoch: 58   Avg_Loss: 0.40730   Acc: 518/625 (82.880%)\n",
            "Eval:  Avg_Loss: 0.46997   Acc: 163/209 (77.990%)\n",
            "Train Epoch: 59   Avg_Loss: 0.40352   Acc: 516/625 (82.560%)\n",
            "Eval:  Avg_Loss: 0.51277   Acc: 164/209 (78.469%)\n",
            "Train Epoch: 60   Avg_Loss: 0.42894   Acc: 516/625 (82.560%)\n",
            "Eval:  Avg_Loss: 0.48802   Acc: 169/209 (80.861%)\n",
            "Train Epoch: 61   Avg_Loss: 0.40404   Acc: 520/625 (83.200%)\n",
            "Eval:  Avg_Loss: 0.47362   Acc: 163/209 (77.990%)\n",
            "Train Epoch: 62   Avg_Loss: 0.42988   Acc: 510/625 (81.600%)\n",
            "Eval:  Avg_Loss: 0.47061   Acc: 162/209 (77.512%)\n",
            "Train Epoch: 63   Avg_Loss: 0.41258   Acc: 511/625 (81.760%)\n",
            "Eval:  Avg_Loss: 0.46492   Acc: 164/209 (78.469%)\n",
            "Train Epoch: 64   Avg_Loss: 0.40191   Acc: 517/625 (82.720%)\n",
            "Eval:  Avg_Loss: 0.46783   Acc: 163/209 (77.990%)\n",
            "Train Epoch: 65   Avg_Loss: 0.41097   Acc: 511/625 (81.760%)\n",
            "Eval:  Avg_Loss: 0.47833   Acc: 169/209 (80.861%)\n",
            "Train Epoch: 66   Avg_Loss: 0.40634   Acc: 518/625 (82.880%)\n",
            "Eval:  Avg_Loss: 0.47742   Acc: 170/209 (81.340%)\n",
            "Train Epoch: 67   Avg_Loss: 0.39924   Acc: 518/625 (82.880%)\n",
            "Eval:  Avg_Loss: 0.47178   Acc: 167/209 (79.904%)\n",
            "Train Epoch: 68   Avg_Loss: 0.39606   Acc: 525/625 (84.000%)\n",
            "Eval:  Avg_Loss: 0.47826   Acc: 169/209 (80.861%)\n",
            "Train Epoch: 69   Avg_Loss: 0.39998   Acc: 521/625 (83.360%)\n",
            "Eval:  Avg_Loss: 0.47082   Acc: 167/209 (79.904%)\n",
            "Train Epoch: 70   Avg_Loss: 0.40981   Acc: 508/625 (81.280%)\n",
            "Eval:  Avg_Loss: 0.46641   Acc: 165/209 (78.947%)\n",
            "Train Epoch: 71   Avg_Loss: 0.39466   Acc: 527/625 (84.320%)\n",
            "Eval:  Avg_Loss: 0.47568   Acc: 167/209 (79.904%)\n",
            "Train Epoch: 72   Avg_Loss: 0.39364   Acc: 522/625 (83.520%)\n",
            "Eval:  Avg_Loss: 0.47100   Acc: 166/209 (79.426%)\n",
            "Train Epoch: 73   Avg_Loss: 0.39993   Acc: 516/625 (82.560%)\n",
            "Eval:  Avg_Loss: 0.47154   Acc: 165/209 (78.947%)\n",
            "Train Epoch: 74   Avg_Loss: 0.39611   Acc: 520/625 (83.200%)\n",
            "Eval:  Avg_Loss: 0.47204   Acc: 165/209 (78.947%)\n",
            "Train Epoch: 75   Avg_Loss: 0.39158   Acc: 520/625 (83.200%)\n",
            "Eval:  Avg_Loss: 0.46990   Acc: 166/209 (79.426%)\n",
            "Train Epoch: 76   Avg_Loss: 0.39258   Acc: 519/625 (83.040%)\n",
            "Eval:  Avg_Loss: 0.47370   Acc: 165/209 (78.947%)\n",
            "Train Epoch: 77   Avg_Loss: 0.39799   Acc: 518/625 (82.880%)\n",
            "Eval:  Avg_Loss: 0.48236   Acc: 160/209 (76.555%)\n",
            "Train Epoch: 78   Avg_Loss: 0.39704   Acc: 519/625 (83.040%)\n",
            "Eval:  Avg_Loss: 0.48370   Acc: 162/209 (77.512%)\n",
            "Train Epoch: 79   Avg_Loss: 0.39145   Acc: 515/625 (82.400%)\n",
            "Eval:  Avg_Loss: 0.47549   Acc: 164/209 (78.469%)\n",
            "Train Epoch: 80   Avg_Loss: 0.38851   Acc: 521/625 (83.360%)\n",
            "Eval:  Avg_Loss: 0.47540   Acc: 167/209 (79.904%)\n",
            "Train Epoch: 81   Avg_Loss: 0.39667   Acc: 518/625 (82.880%)\n",
            "Eval:  Avg_Loss: 0.47839   Acc: 161/209 (77.033%)\n",
            "Train Epoch: 82   Avg_Loss: 0.39687   Acc: 520/625 (83.200%)\n",
            "Eval:  Avg_Loss: 0.47526   Acc: 165/209 (78.947%)\n",
            "Train Epoch: 83   Avg_Loss: 0.38805   Acc: 516/625 (82.560%)\n",
            "Eval:  Avg_Loss: 0.48672   Acc: 169/209 (80.861%)\n",
            "Train Epoch: 84   Avg_Loss: 0.39023   Acc: 517/625 (82.720%)\n",
            "Eval:  Avg_Loss: 0.47914   Acc: 167/209 (79.904%)\n",
            "Train Epoch: 85   Avg_Loss: 0.38520   Acc: 522/625 (83.520%)\n",
            "Eval:  Avg_Loss: 0.48242   Acc: 165/209 (78.947%)\n",
            "Train Epoch: 86   Avg_Loss: 0.38937   Acc: 527/625 (84.320%)\n",
            "Eval:  Avg_Loss: 0.48475   Acc: 162/209 (77.512%)\n",
            "Train Epoch: 87   Avg_Loss: 0.39442   Acc: 523/625 (83.680%)\n",
            "Eval:  Avg_Loss: 0.47526   Acc: 166/209 (79.426%)\n",
            "Train Epoch: 88   Avg_Loss: 0.39262   Acc: 515/625 (82.400%)\n",
            "Eval:  Avg_Loss: 0.49029   Acc: 168/209 (80.383%)\n",
            "Train Epoch: 89   Avg_Loss: 0.38854   Acc: 519/625 (83.040%)\n",
            "Eval:  Avg_Loss: 0.49651   Acc: 169/209 (80.861%)\n",
            "Train Epoch: 90   Avg_Loss: 0.39109   Acc: 522/625 (83.520%)\n",
            "Eval:  Avg_Loss: 0.49777   Acc: 171/209 (81.818%)\n",
            "Train Epoch: 91   Avg_Loss: 0.38783   Acc: 519/625 (83.040%)\n",
            "Eval:  Avg_Loss: 0.49172   Acc: 168/209 (80.383%)\n",
            "Train Epoch: 92   Avg_Loss: 0.39119   Acc: 521/625 (83.360%)\n",
            "Eval:  Avg_Loss: 0.48796   Acc: 168/209 (80.383%)\n",
            "Train Epoch: 93   Avg_Loss: 0.38410   Acc: 518/625 (82.880%)\n",
            "Eval:  Avg_Loss: 0.50744   Acc: 164/209 (78.469%)\n",
            "Train Epoch: 94   Avg_Loss: 0.40374   Acc: 520/625 (83.200%)\n",
            "Eval:  Avg_Loss: 0.49052   Acc: 167/209 (79.904%)\n",
            "Train Epoch: 95   Avg_Loss: 0.39659   Acc: 517/625 (82.720%)\n",
            "Eval:  Avg_Loss: 0.51197   Acc: 169/209 (80.861%)\n",
            "Train Epoch: 96   Avg_Loss: 0.39060   Acc: 520/625 (83.200%)\n",
            "Eval:  Avg_Loss: 0.49736   Acc: 168/209 (80.383%)\n",
            "Train Epoch: 97   Avg_Loss: 0.39134   Acc: 526/625 (84.160%)\n",
            "Eval:  Avg_Loss: 0.48094   Acc: 164/209 (78.469%)\n",
            "Train Epoch: 98   Avg_Loss: 0.38638   Acc: 521/625 (83.360%)\n",
            "Eval:  Avg_Loss: 0.49043   Acc: 167/209 (79.904%)\n",
            "Train Epoch: 99   Avg_Loss: 0.40487   Acc: 520/625 (83.200%)\n",
            "Eval:  Avg_Loss: 0.48517   Acc: 168/209 (80.383%)\n",
            "Train Epoch: 100   Avg_Loss: 0.38394   Acc: 522/625 (83.520%)\n",
            "Eval:  Avg_Loss: 0.48544   Acc: 166/209 (79.426%)\n",
            "Train Epoch: 101   Avg_Loss: 0.38428   Acc: 524/625 (83.840%)\n",
            "Eval:  Avg_Loss: 0.49443   Acc: 169/209 (80.861%)\n",
            "Train Epoch: 102   Avg_Loss: 0.38239   Acc: 528/625 (84.480%)\n",
            "Eval:  Avg_Loss: 0.50653   Acc: 170/209 (81.340%)\n",
            "Train Epoch: 103   Avg_Loss: 0.39380   Acc: 523/625 (83.680%)\n",
            "Eval:  Avg_Loss: 0.49533   Acc: 169/209 (80.861%)\n",
            "Train Epoch: 104   Avg_Loss: 0.38395   Acc: 527/625 (84.320%)\n",
            "Eval:  Avg_Loss: 0.49332   Acc: 165/209 (78.947%)\n",
            "Train Epoch: 105   Avg_Loss: 0.38828   Acc: 518/625 (82.880%)\n",
            "Eval:  Avg_Loss: 0.48992   Acc: 163/209 (77.990%)\n",
            "Train Epoch: 106   Avg_Loss: 0.37873   Acc: 518/625 (82.880%)\n",
            "Eval:  Avg_Loss: 0.49344   Acc: 165/209 (78.947%)\n",
            "Train Epoch: 107   Avg_Loss: 0.38316   Acc: 521/625 (83.360%)\n",
            "Eval:  Avg_Loss: 0.48849   Acc: 165/209 (78.947%)\n",
            "Train Epoch: 108   Avg_Loss: 0.38897   Acc: 523/625 (83.680%)\n",
            "Eval:  Avg_Loss: 0.48923   Acc: 169/209 (80.861%)\n",
            "Train Epoch: 109   Avg_Loss: 0.38056   Acc: 522/625 (83.520%)\n",
            "Eval:  Avg_Loss: 0.49712   Acc: 166/209 (79.426%)\n",
            "Train Epoch: 110   Avg_Loss: 0.37997   Acc: 526/625 (84.160%)\n",
            "Eval:  Avg_Loss: 0.49084   Acc: 168/209 (80.383%)\n",
            "Train Epoch: 111   Avg_Loss: 0.38164   Acc: 525/625 (84.000%)\n",
            "Eval:  Avg_Loss: 0.51087   Acc: 168/209 (80.383%)\n",
            "Train Epoch: 112   Avg_Loss: 0.38973   Acc: 520/625 (83.200%)\n",
            "Eval:  Avg_Loss: 0.50889   Acc: 169/209 (80.861%)\n",
            "Train Epoch: 113   Avg_Loss: 0.38400   Acc: 519/625 (83.040%)\n",
            "Eval:  Avg_Loss: 0.49777   Acc: 166/209 (79.426%)\n",
            "Train Epoch: 114   Avg_Loss: 0.38029   Acc: 522/625 (83.520%)\n",
            "Eval:  Avg_Loss: 0.50298   Acc: 168/209 (80.383%)\n",
            "Train Epoch: 115   Avg_Loss: 0.37339   Acc: 528/625 (84.480%)\n",
            "Eval:  Avg_Loss: 0.50575   Acc: 164/209 (78.469%)\n",
            "Train Epoch: 116   Avg_Loss: 0.39302   Acc: 519/625 (83.040%)\n",
            "Eval:  Avg_Loss: 0.51140   Acc: 163/209 (77.990%)\n",
            "Train Epoch: 117   Avg_Loss: 0.39401   Acc: 512/625 (81.920%)\n",
            "Eval:  Avg_Loss: 0.49498   Acc: 164/209 (78.469%)\n",
            "Train Epoch: 118   Avg_Loss: 0.38892   Acc: 518/625 (82.880%)\n",
            "Eval:  Avg_Loss: 0.49605   Acc: 163/209 (77.990%)\n",
            "Train Epoch: 119   Avg_Loss: 0.38520   Acc: 522/625 (83.520%)\n",
            "Eval:  Avg_Loss: 0.49722   Acc: 165/209 (78.947%)\n",
            "Train Epoch: 120   Avg_Loss: 0.37485   Acc: 528/625 (84.480%)\n",
            "Eval:  Avg_Loss: 0.49959   Acc: 165/209 (78.947%)\n",
            "Train Epoch: 121   Avg_Loss: 0.38301   Acc: 523/625 (83.680%)\n",
            "Eval:  Avg_Loss: 0.49554   Acc: 168/209 (80.383%)\n",
            "Train Epoch: 122   Avg_Loss: 0.38539   Acc: 519/625 (83.040%)\n",
            "Eval:  Avg_Loss: 0.49314   Acc: 168/209 (80.383%)\n",
            "Train Epoch: 123   Avg_Loss: 0.37510   Acc: 526/625 (84.160%)\n",
            "Eval:  Avg_Loss: 0.50378   Acc: 165/209 (78.947%)\n",
            "Train Epoch: 124   Avg_Loss: 0.37364   Acc: 524/625 (83.840%)\n",
            "Eval:  Avg_Loss: 0.49970   Acc: 167/209 (79.904%)\n",
            "Train Epoch: 125   Avg_Loss: 0.38458   Acc: 519/625 (83.040%)\n",
            "Eval:  Avg_Loss: 0.50781   Acc: 165/209 (78.947%)\n",
            "Train Epoch: 126   Avg_Loss: 0.39679   Acc: 513/625 (82.080%)\n",
            "Eval:  Avg_Loss: 0.49588   Acc: 165/209 (78.947%)\n",
            "Train Epoch: 127   Avg_Loss: 0.37536   Acc: 526/625 (84.160%)\n",
            "Eval:  Avg_Loss: 0.50700   Acc: 165/209 (78.947%)\n",
            "Train Epoch: 128   Avg_Loss: 0.37405   Acc: 530/625 (84.800%)\n",
            "Eval:  Avg_Loss: 0.49725   Acc: 163/209 (77.990%)\n",
            "Train Epoch: 129   Avg_Loss: 0.37596   Acc: 523/625 (83.680%)\n",
            "Eval:  Avg_Loss: 0.50383   Acc: 167/209 (79.904%)\n",
            "Train Epoch: 130   Avg_Loss: 0.37796   Acc: 515/625 (82.400%)\n",
            "Eval:  Avg_Loss: 0.49730   Acc: 165/209 (78.947%)\n",
            "Train Epoch: 131   Avg_Loss: 0.37479   Acc: 524/625 (83.840%)\n",
            "Eval:  Avg_Loss: 0.50200   Acc: 164/209 (78.469%)\n",
            "Train Epoch: 132   Avg_Loss: 0.37210   Acc: 529/625 (84.640%)\n",
            "Eval:  Avg_Loss: 0.49935   Acc: 168/209 (80.383%)\n",
            "Train Epoch: 133   Avg_Loss: 0.37027   Acc: 528/625 (84.480%)\n",
            "Eval:  Avg_Loss: 0.50678   Acc: 167/209 (79.904%)\n",
            "Train Epoch: 134   Avg_Loss: 0.38201   Acc: 519/625 (83.040%)\n",
            "Eval:  Avg_Loss: 0.50500   Acc: 164/209 (78.469%)\n",
            "Train Epoch: 135   Avg_Loss: 0.37367   Acc: 527/625 (84.320%)\n",
            "Eval:  Avg_Loss: 0.50268   Acc: 168/209 (80.383%)\n",
            "Train Epoch: 136   Avg_Loss: 0.37827   Acc: 527/625 (84.320%)\n",
            "Eval:  Avg_Loss: 0.53051   Acc: 168/209 (80.383%)\n",
            "Train Epoch: 137   Avg_Loss: 0.37839   Acc: 532/625 (85.120%)\n",
            "Eval:  Avg_Loss: 0.50723   Acc: 168/209 (80.383%)\n",
            "Train Epoch: 138   Avg_Loss: 0.36714   Acc: 530/625 (84.800%)\n",
            "Eval:  Avg_Loss: 0.51512   Acc: 166/209 (79.426%)\n",
            "Train Epoch: 139   Avg_Loss: 0.37434   Acc: 524/625 (83.840%)\n",
            "Eval:  Avg_Loss: 0.50436   Acc: 166/209 (79.426%)\n",
            "Train Epoch: 140   Avg_Loss: 0.36965   Acc: 528/625 (84.480%)\n",
            "Eval:  Avg_Loss: 0.50855   Acc: 164/209 (78.469%)\n",
            "Train Epoch: 141   Avg_Loss: 0.36829   Acc: 529/625 (84.640%)\n",
            "Eval:  Avg_Loss: 0.51148   Acc: 164/209 (78.469%)\n",
            "Train Epoch: 142   Avg_Loss: 0.36818   Acc: 525/625 (84.000%)\n",
            "Eval:  Avg_Loss: 0.50552   Acc: 166/209 (79.426%)\n",
            "Train Epoch: 143   Avg_Loss: 0.37270   Acc: 525/625 (84.000%)\n",
            "Eval:  Avg_Loss: 0.50582   Acc: 166/209 (79.426%)\n",
            "Train Epoch: 144   Avg_Loss: 0.36391   Acc: 533/625 (85.280%)\n",
            "Eval:  Avg_Loss: 0.51539   Acc: 164/209 (78.469%)\n",
            "Train Epoch: 145   Avg_Loss: 0.37644   Acc: 525/625 (84.000%)\n",
            "Eval:  Avg_Loss: 0.51212   Acc: 163/209 (77.990%)\n",
            "Train Epoch: 146   Avg_Loss: 0.37908   Acc: 519/625 (83.040%)\n",
            "Eval:  Avg_Loss: 0.53121   Acc: 162/209 (77.512%)\n",
            "Train Epoch: 147   Avg_Loss: 0.39013   Acc: 515/625 (82.400%)\n",
            "Eval:  Avg_Loss: 0.52489   Acc: 163/209 (77.990%)\n",
            "Train Epoch: 148   Avg_Loss: 0.38122   Acc: 520/625 (83.200%)\n",
            "Eval:  Avg_Loss: 0.51001   Acc: 169/209 (80.861%)\n",
            "Train Epoch: 149   Avg_Loss: 0.36737   Acc: 528/625 (84.480%)\n",
            "Eval:  Avg_Loss: 0.51222   Acc: 167/209 (79.904%)\n",
            "Train Epoch: 150   Avg_Loss: 0.36669   Acc: 529/625 (84.640%)\n",
            "Eval:  Avg_Loss: 0.51676   Acc: 165/209 (78.947%)\n",
            "Train Epoch: 151   Avg_Loss: 0.36609   Acc: 528/625 (84.480%)\n",
            "Eval:  Avg_Loss: 0.50759   Acc: 166/209 (79.426%)\n",
            "Train Epoch: 152   Avg_Loss: 0.36743   Acc: 526/625 (84.160%)\n",
            "Eval:  Avg_Loss: 0.51610   Acc: 168/209 (80.383%)\n",
            "Train Epoch: 153   Avg_Loss: 0.37008   Acc: 527/625 (84.320%)\n",
            "Eval:  Avg_Loss: 0.51769   Acc: 168/209 (80.383%)\n",
            "Train Epoch: 154   Avg_Loss: 0.36769   Acc: 530/625 (84.800%)\n",
            "Eval:  Avg_Loss: 0.51379   Acc: 165/209 (78.947%)\n",
            "Train Epoch: 155   Avg_Loss: 0.37622   Acc: 521/625 (83.360%)\n",
            "Eval:  Avg_Loss: 0.50908   Acc: 168/209 (80.383%)\n",
            "Train Epoch: 156   Avg_Loss: 0.37622   Acc: 527/625 (84.320%)\n",
            "Eval:  Avg_Loss: 0.52295   Acc: 170/209 (81.340%)\n",
            "Train Epoch: 157   Avg_Loss: 0.37192   Acc: 528/625 (84.480%)\n",
            "Eval:  Avg_Loss: 0.51123   Acc: 169/209 (80.861%)\n",
            "Train Epoch: 158   Avg_Loss: 0.36593   Acc: 529/625 (84.640%)\n",
            "Eval:  Avg_Loss: 0.51992   Acc: 169/209 (80.861%)\n",
            "Train Epoch: 159   Avg_Loss: 0.36867   Acc: 528/625 (84.480%)\n",
            "Eval:  Avg_Loss: 0.51815   Acc: 164/209 (78.469%)\n",
            "Train Epoch: 160   Avg_Loss: 0.37444   Acc: 522/625 (83.520%)\n",
            "Eval:  Avg_Loss: 0.50620   Acc: 168/209 (80.383%)\n",
            "Train Epoch: 161   Avg_Loss: 0.37928   Acc: 517/625 (82.720%)\n",
            "Eval:  Avg_Loss: 0.51238   Acc: 172/209 (82.297%)\n",
            "Train Epoch: 162   Avg_Loss: 0.36152   Acc: 532/625 (85.120%)\n",
            "Eval:  Avg_Loss: 0.51757   Acc: 165/209 (78.947%)\n",
            "Train Epoch: 163   Avg_Loss: 0.37936   Acc: 529/625 (84.640%)\n",
            "Eval:  Avg_Loss: 0.51737   Acc: 163/209 (77.990%)\n",
            "Train Epoch: 164   Avg_Loss: 0.38081   Acc: 522/625 (83.520%)\n",
            "Eval:  Avg_Loss: 0.51708   Acc: 164/209 (78.469%)\n",
            "Train Epoch: 165   Avg_Loss: 0.38468   Acc: 522/625 (83.520%)\n",
            "Eval:  Avg_Loss: 0.51779   Acc: 163/209 (77.990%)\n",
            "Train Epoch: 166   Avg_Loss: 0.36370   Acc: 528/625 (84.480%)\n",
            "Eval:  Avg_Loss: 0.52510   Acc: 168/209 (80.383%)\n",
            "Train Epoch: 167   Avg_Loss: 0.36369   Acc: 531/625 (84.960%)\n",
            "Eval:  Avg_Loss: 0.51789   Acc: 166/209 (79.426%)\n",
            "Train Epoch: 168   Avg_Loss: 0.36034   Acc: 528/625 (84.480%)\n",
            "Eval:  Avg_Loss: 0.51602   Acc: 169/209 (80.861%)\n",
            "Train Epoch: 169   Avg_Loss: 0.36317   Acc: 530/625 (84.800%)\n",
            "Eval:  Avg_Loss: 0.52829   Acc: 169/209 (80.861%)\n",
            "Train Epoch: 170   Avg_Loss: 0.37619   Acc: 525/625 (84.000%)\n",
            "Eval:  Avg_Loss: 0.52524   Acc: 165/209 (78.947%)\n",
            "Train Epoch: 171   Avg_Loss: 0.37135   Acc: 521/625 (83.360%)\n",
            "Eval:  Avg_Loss: 0.51300   Acc: 163/209 (77.990%)\n",
            "Train Epoch: 172   Avg_Loss: 0.36089   Acc: 525/625 (84.000%)\n",
            "Eval:  Avg_Loss: 0.52412   Acc: 169/209 (80.861%)\n",
            "Train Epoch: 173   Avg_Loss: 0.36303   Acc: 528/625 (84.480%)\n",
            "Eval:  Avg_Loss: 0.52381   Acc: 169/209 (80.861%)\n",
            "Train Epoch: 174   Avg_Loss: 0.35930   Acc: 531/625 (84.960%)\n",
            "Eval:  Avg_Loss: 0.52345   Acc: 167/209 (79.904%)\n",
            "Train Epoch: 175   Avg_Loss: 0.36457   Acc: 525/625 (84.000%)\n",
            "Eval:  Avg_Loss: 0.52032   Acc: 167/209 (79.904%)\n",
            "Train Epoch: 176   Avg_Loss: 0.36006   Acc: 532/625 (85.120%)\n",
            "Eval:  Avg_Loss: 0.51570   Acc: 167/209 (79.904%)\n",
            "Train Epoch: 177   Avg_Loss: 0.35995   Acc: 533/625 (85.280%)\n",
            "Eval:  Avg_Loss: 0.52127   Acc: 169/209 (80.861%)\n",
            "Train Epoch: 178   Avg_Loss: 0.36183   Acc: 531/625 (84.960%)\n",
            "Eval:  Avg_Loss: 0.52081   Acc: 164/209 (78.469%)\n",
            "Train Epoch: 179   Avg_Loss: 0.36279   Acc: 529/625 (84.640%)\n",
            "Eval:  Avg_Loss: 0.53191   Acc: 161/209 (77.033%)\n",
            "Train Epoch: 180   Avg_Loss: 0.36647   Acc: 529/625 (84.640%)\n",
            "Eval:  Avg_Loss: 0.52071   Acc: 165/209 (78.947%)\n",
            "Train Epoch: 181   Avg_Loss: 0.36337   Acc: 529/625 (84.640%)\n",
            "Eval:  Avg_Loss: 0.52013   Acc: 168/209 (80.383%)\n",
            "Train Epoch: 182   Avg_Loss: 0.37479   Acc: 516/625 (82.560%)\n",
            "Eval:  Avg_Loss: 0.51250   Acc: 168/209 (80.383%)\n",
            "Train Epoch: 183   Avg_Loss: 0.37413   Acc: 524/625 (83.840%)\n",
            "Eval:  Avg_Loss: 0.51221   Acc: 168/209 (80.383%)\n",
            "Train Epoch: 184   Avg_Loss: 0.35648   Acc: 533/625 (85.280%)\n",
            "Eval:  Avg_Loss: 0.53069   Acc: 164/209 (78.469%)\n",
            "Train Epoch: 185   Avg_Loss: 0.36013   Acc: 530/625 (84.800%)\n",
            "Eval:  Avg_Loss: 0.51689   Acc: 168/209 (80.383%)\n",
            "Train Epoch: 186   Avg_Loss: 0.36351   Acc: 528/625 (84.480%)\n",
            "Eval:  Avg_Loss: 0.51637   Acc: 168/209 (80.383%)\n",
            "Train Epoch: 187   Avg_Loss: 0.35754   Acc: 529/625 (84.640%)\n",
            "Eval:  Avg_Loss: 0.53354   Acc: 168/209 (80.383%)\n",
            "Train Epoch: 188   Avg_Loss: 0.35663   Acc: 527/625 (84.320%)\n",
            "Eval:  Avg_Loss: 0.51318   Acc: 167/209 (79.904%)\n",
            "Train Epoch: 189   Avg_Loss: 0.36088   Acc: 528/625 (84.480%)\n",
            "Eval:  Avg_Loss: 0.52241   Acc: 169/209 (80.861%)\n",
            "Train Epoch: 190   Avg_Loss: 0.35886   Acc: 532/625 (85.120%)\n",
            "Eval:  Avg_Loss: 0.52558   Acc: 163/209 (77.990%)\n",
            "Train Epoch: 191   Avg_Loss: 0.35940   Acc: 531/625 (84.960%)\n",
            "Eval:  Avg_Loss: 0.50372   Acc: 167/209 (79.904%)\n",
            "Train Epoch: 192   Avg_Loss: 0.35949   Acc: 526/625 (84.160%)\n",
            "Eval:  Avg_Loss: 0.52466   Acc: 165/209 (78.947%)\n",
            "Train Epoch: 193   Avg_Loss: 0.35340   Acc: 529/625 (84.640%)\n",
            "Eval:  Avg_Loss: 0.51707   Acc: 168/209 (80.383%)\n",
            "Train Epoch: 194   Avg_Loss: 0.36654   Acc: 528/625 (84.480%)\n",
            "Eval:  Avg_Loss: 0.52229   Acc: 169/209 (80.861%)\n",
            "Train Epoch: 195   Avg_Loss: 0.35225   Acc: 529/625 (84.640%)\n",
            "Eval:  Avg_Loss: 0.52545   Acc: 167/209 (79.904%)\n",
            "Train Epoch: 196   Avg_Loss: 0.36054   Acc: 530/625 (84.800%)\n",
            "Eval:  Avg_Loss: 0.51931   Acc: 165/209 (78.947%)\n",
            "Train Epoch: 197   Avg_Loss: 0.35399   Acc: 530/625 (84.800%)\n",
            "Eval:  Avg_Loss: 0.52505   Acc: 166/209 (79.426%)\n",
            "Train Epoch: 198   Avg_Loss: 0.35286   Acc: 531/625 (84.960%)\n",
            "Eval:  Avg_Loss: 0.53147   Acc: 169/209 (80.861%)\n",
            "Train Epoch: 199   Avg_Loss: 0.35452   Acc: 537/625 (85.920%)\n",
            "Eval:  Avg_Loss: 0.52362   Acc: 167/209 (79.904%)\n",
            "Train Epoch: 200   Avg_Loss: 0.34932   Acc: 533/625 (85.280%)\n",
            "Eval:  Avg_Loss: 0.53654   Acc: 168/209 (80.383%)\n",
            "\n",
            "\n",
            "\n",
            "Optimization ended.\n",
            "\n"
          ],
          "name": "stdout"
        }
      ]
    },
    {
      "cell_type": "markdown",
      "metadata": {
        "id": "86OZRLrjavmd"
      },
      "source": [
        "## Interpreting the output of the neural network"
      ]
    },
    {
      "cell_type": "code",
      "metadata": {
        "id": "mklvQruYavme",
        "colab": {
          "base_uri": "https://localhost:8080/"
        },
        "outputId": "efdcb8ea-8329-4ed3-82fe-2898477b146d"
      },
      "source": [
        "# Activate the evaluation mode\n",
        "neural_net = neural_net.eval()\n",
        "\n",
        "# Select the first 10 data points of the validation set\n",
        "data, target = val_dataset[0:10]\n",
        "data = data.to(device)\n",
        "\n",
        "# Executing the neural network\n",
        "output = neural_net(data)   # equivalent to neural_net.forward(data)\n",
        "\n",
        "# Transform the output into a probability distribution with a softmax function\n",
        "output_proba = F.softmax(output, dim=1)\n",
        "\n",
        "# Print the probability\n",
        "print(output_proba)"
      ],
      "execution_count": null,
      "outputs": [
        {
          "output_type": "stream",
          "text": [
            "tensor([[8.5226e-01, 1.4774e-01],\n",
            "        [8.9670e-01, 1.0330e-01],\n",
            "        [5.7561e-01, 4.2439e-01],\n",
            "        [8.2480e-01, 1.7520e-01],\n",
            "        [1.7198e-02, 9.8280e-01],\n",
            "        [9.2681e-01, 7.3194e-02],\n",
            "        [4.4428e-03, 9.9556e-01],\n",
            "        [9.9952e-01, 4.7993e-04],\n",
            "        [4.8656e-01, 5.1344e-01],\n",
            "        [9.3492e-01, 6.5084e-02]], device='cuda:0', grad_fn=<SoftmaxBackward>)\n"
          ],
          "name": "stdout"
        }
      ]
    },
    {
      "cell_type": "code",
      "metadata": {
        "id": "RvIEqKt0qjeT",
        "colab": {
          "base_uri": "https://localhost:8080/"
        },
        "outputId": "4eb79f0f-f817-4db3-e491-bd26f7b14c9c"
      },
      "source": [
        "# For each example, retrieve the class with the highest probability.\n",
        "_, prediction = torch.max(output_proba, dim=1)\n",
        "\n",
        "print(\"Model predictions\")\n",
        "print(prediction)\n",
        "\n",
        "print(\"Targets\")\n",
        "print(target)"
      ],
      "execution_count": null,
      "outputs": [
        {
          "output_type": "stream",
          "text": [
            "Model predictions\n",
            "tensor([0, 0, 0, 0, 1, 0, 1, 0, 1, 0], device='cuda:0')\n",
            "Targets\n",
            "tensor([0, 0, 0, 0, 0, 1, 1, 0, 0, 0])\n"
          ],
          "name": "stdout"
        }
      ]
    },
    {
      "cell_type": "markdown",
      "metadata": {
        "id": "V11J3Jihavmy"
      },
      "source": [
        "## Visualizing of the learning curve"
      ]
    },
    {
      "cell_type": "markdown",
      "metadata": {
        "id": "j9_9C_tXavmz"
      },
      "source": [
        "Learning curves allow detecting problems that may have occurred during learning, for example, unstable learning, underfitting, or overfitting."
      ]
    },
    {
      "cell_type": "code",
      "metadata": {
        "id": "iNcbpl0tavm0",
        "colab": {
          "base_uri": "https://localhost:8080/",
          "height": 279
        },
        "outputId": "2da495d2-7ca3-45a0-b470-3700281ede56"
      },
      "source": [
        "x = list(range(len(train_losses)))\n",
        "ax = plt.subplot(111)\n",
        "plt.plot(x, train_losses, 'r', label=\"Train\")\n",
        "plt.plot(x, val_losses, 'g', label=\"Validation\")\n",
        "plt.xlabel('epoch')\n",
        "plt.ylabel('Cross-entropy loss')\n",
        "plt.grid()\n",
        "leg = plt.legend(loc='best', ncol=2, mode=\"expand\", shadow=False, fancybox=False)\n",
        "leg.get_frame().set_alpha(0.99)"
      ],
      "execution_count": null,
      "outputs": [
        {
          "output_type": "display_data",
          "data": {
            "image/png": "[encoded data removed]",
            "text/plain": [
              "<Figure size 432x288 with 1 Axes>"
            ]
          },
          "metadata": {
            "tags": [],
            "needs_background": "light"
          }
        }
      ]
    },
    {
      "cell_type": "code",
      "metadata": {
        "id": "g-VGQ2pMavm4",
        "colab": {
          "base_uri": "https://localhost:8080/",
          "height": 279
        },
        "outputId": "117c7133-d9f2-449f-ccf6-99111e7accdc"
      },
      "source": [
        "x = list(range(len(train_accuracies)))\n",
        "ax = plt.subplot(111)\n",
        "plt.plot(x, train_accuracies, 'r', label=\"Train\")\n",
        "plt.plot(x, val_accuracies, 'g', label=\"Validation\")\n",
        "plt.xlabel('epoch')\n",
        "plt.ylabel('Accuracy')\n",
        "plt.grid()\n",
        "leg = plt.legend(loc='best', ncol=2, mode=\"expand\", shadow=False, fancybox=False)\n",
        "leg.get_frame().set_alpha(0.99)"
      ],
      "execution_count": null,
      "outputs": [
        {
          "output_type": "display_data",
          "data": {
            "image/png": "[encoded data removed]",
            "text/plain": [
              "<Figure size 432x288 with 1 Axes>"
            ]
          },
          "metadata": {
            "tags": [],
            "needs_background": "light"
          }
        }
      ]
    },
    {
      "cell_type": "markdown",
      "metadata": {
        "id": "8oktkpkuqjet"
      },
      "source": [
        "### Exercise 6\n",
        "\n",
        "*   What do you observe in the previous graphs?\n",
        "*   At which epoch is it interesting to retrieve the model parameters for inference?"
      ]
    },
    {
      "cell_type": "markdown",
      "metadata": {
        "id": "qwhRt39yzug-"
      },
      "source": [
        "... # To complete.\n"
      ]
    },
    {
      "cell_type": "markdown",
      "metadata": {
        "id": "XK_eUsq3avm8"
      },
      "source": [
        "## Evaluating the model"
      ]
    },
    {
      "cell_type": "markdown",
      "metadata": {
        "id": "4UREO5elavm8"
      },
      "source": [
        "We can finally evaluate our model on our test set and compare with the validation set."
      ]
    },
    {
      "cell_type": "code",
      "metadata": {
        "id": "3UZPvzjxlusr",
        "colab": {
          "base_uri": "https://localhost:8080/"
        },
        "outputId": "7b6141f5-f60a-4822-d392-f52807007e43"
      },
      "source": [
        "valid_loss, valid_acc = evaluate(neural_net, val_loader, device)"
      ],
      "execution_count": null,
      "outputs": [
        {
          "output_type": "stream",
          "text": [
            "Eval:  Avg_Loss: 0.53654   Acc: 168/209 (80.383%)\n"
          ],
          "name": "stdout"
        }
      ]
    },
    {
      "cell_type": "code",
      "metadata": {
        "id": "pPWvDM-qavm8",
        "colab": {
          "base_uri": "https://localhost:8080/"
        },
        "outputId": "7019c05d-f992-487f-f1ba-296d7c93d65a"
      },
      "source": [
        "test_loss, test_acc = evaluate(neural_net, test_loader, device)"
      ],
      "execution_count": null,
      "outputs": [
        {
          "output_type": "stream",
          "text": [
            "Eval:  Avg_Loss: 0.57873   Acc: 165/209 (78.947%)\n"
          ],
          "name": "stdout"
        }
      ]
    },
    {
      "cell_type": "markdown",
      "metadata": {
        "id": "EvP_-KUwqjez"
      },
      "source": [
        "### Exercise 7\n",
        "\n",
        "* Compare validation and test metrics.\n",
        "* Do you think the chosen features are informative of the fate of the passenger?"
      ]
    },
    {
      "cell_type": "markdown",
      "metadata": {
        "id": "Ov4CKUFh5tun"
      },
      "source": [
        "... # To complete.\n",
        "\n",
        "\n"
      ]
    },
    {
      "cell_type": "code",
      "metadata": {
        "id": "rueFjis6YlLN"
      },
      "source": [
        ""
      ],
      "execution_count": null,
      "outputs": []
    }
  ]
}