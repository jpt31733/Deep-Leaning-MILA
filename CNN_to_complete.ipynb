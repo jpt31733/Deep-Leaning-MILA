{
  "nbformat": 4,
  "nbformat_minor": 0,
  "metadata": {
    "colab": {
      "name": "CNN_to_complete.ipynb",
      "provenance": [],
      "collapsed_sections": [],
      "include_colab_link": true
    },
    "kernelspec": {
      "display_name": "Python 3",
      "language": "python",
      "name": "python3"
    },
    "language_info": {
      "codemirror_mode": {
        "name": "ipython",
        "version": 3
      },
      "file_extension": ".py",
      "mimetype": "text/x-python",
      "name": "python",
      "nbconvert_exporter": "python",
      "pygments_lexer": "ipython3",
      "version": "3.7.3"
    },
    "accelerator": "GPU"
  },
  "cells": [
    {
      "cell_type": "markdown",
      "metadata": {
        "id": "view-in-github",
        "colab_type": "text"
      },
      "source": [
        "<a href=\"https://colab.research.google.com/github/jpt31733/Deep-Leaning-MILA/blob/main/CNN_to_complete.ipynb\" target=\"_parent\"><img src=\"https://colab.research.google.com/assets/colab-badge.svg\" alt=\"Open In Colab\"/></a>"
      ]
    },
    {
      "cell_type": "markdown",
      "metadata": {
        "id": "p_5PWr7JoIbf"
      },
      "source": [
        "# IVADO-Mila Deep Learning School\n",
        "# Spring 2021\n",
        "# Tutorial : Image classification and object detection with CNNs\n",
        "\n",
        "## Authors: \n",
        "\n",
        "\n",
        "Jeremy Pinto <jeremy.pinto@mila.quebec>\n",
        "\n",
        "Margaux Luck <margaux.luck@mila.quebec>\n",
        "\n",
        "Pierre Luc Carrier <pierre.luc.carrier@mila.quebec>\n",
        "\n",
        "Mathieu Germain <mathieu.germain@mila.quebec>\n",
        "\n",
        "### Translation to English: \n",
        "\n",
        "Laurent Charlin <lcharlin@gmail.com>\n",
        "\n",
        "## Intro\n",
        "\n",
        "The first part of this tutorial uses concrete examples to introduce the fundamental concepts behind convolutional neural networks.\n",
        "\n",
        "The second part of this tutorial is entirely optional but it covers more advanced tasks (object detection and instance segmentation) and it does so in a transfer learning setting. You are encouraged to attempt it if you wish to deepen your understanding of the material."
      ]
    },
    {
      "cell_type": "markdown",
      "metadata": {
        "id": "74Cv_Nm9kekL"
      },
      "source": [
        "# Task 1 : Image classification"
      ]
    },
    {
      "cell_type": "markdown",
      "metadata": {
        "id": "A73O9J3necuk"
      },
      "source": [
        "## Initialization"
      ]
    },
    {
      "cell_type": "markdown",
      "metadata": {
        "id": "0PNXwEm-ej9a"
      },
      "source": [
        "Before we begin, you must ensure to install all required libraries for this part of the tutorial. To do so, we will use the `pip` utility. Simply execute the cell below by selecting it and pressing `shift`+`Enter`. (This operation may take a few minutes.)\n",
        "\n",
        "We need to be using the latest version of `pillow` for this tutorial. If you are prompted with:\n",
        "\n",
        "> WARNING: The following packages were previously imported in this runtime:\n",
        "  [PIL]\n",
        "You must restart the runtime in order to use newly installed versions.\n",
        "\n",
        "Then click on restart runtime and rerun the cells afterwards."
      ]
    },
    {
      "cell_type": "code",
      "metadata": {
        "id": "fNlYWG6z9GKT",
        "scrolled": true,
        "colab": {
          "base_uri": "https://localhost:8080/"
        },
        "outputId": "538e6f9c-75b0-4e72-de72-ec2f615ef4e9"
      },
      "source": [
        "!pip3 install torch torchvision matplotlib\n",
        "!pip3 install --upgrade pillow==8.1.0"
      ],
      "execution_count": null,
      "outputs": [
        {
          "output_type": "stream",
          "text": [
            "Requirement already satisfied: torch in /usr/local/lib/python3.7/dist-packages (1.8.1+cu101)\n",
            "Requirement already satisfied: torchvision in /usr/local/lib/python3.7/dist-packages (0.9.1+cu101)\n",
            "Requirement already satisfied: matplotlib in /usr/local/lib/python3.7/dist-packages (3.2.2)\n",
            "Requirement already satisfied: typing-extensions in /usr/local/lib/python3.7/dist-packages (from torch) (3.7.4.3)\n",
            "Requirement already satisfied: numpy in /usr/local/lib/python3.7/dist-packages (from torch) (1.19.5)\n",
            "Requirement already satisfied: pillow>=4.1.1 in /usr/local/lib/python3.7/dist-packages (from torchvision) (8.1.0)\n",
            "Requirement already satisfied: pyparsing!=2.0.4,!=2.1.2,!=2.1.6,>=2.0.1 in /usr/local/lib/python3.7/dist-packages (from matplotlib) (2.4.7)\n",
            "Requirement already satisfied: cycler>=0.10 in /usr/local/lib/python3.7/dist-packages (from matplotlib) (0.10.0)\n",
            "Requirement already satisfied: kiwisolver>=1.0.1 in /usr/local/lib/python3.7/dist-packages (from matplotlib) (1.3.1)\n",
            "Requirement already satisfied: python-dateutil>=2.1 in /usr/local/lib/python3.7/dist-packages (from matplotlib) (2.8.1)\n",
            "Requirement already satisfied: six in /usr/local/lib/python3.7/dist-packages (from cycler>=0.10->matplotlib) (1.15.0)\n",
            "Requirement already up-to-date: pillow==8.1.0 in /usr/local/lib/python3.7/dist-packages (8.1.0)\n"
          ],
          "name": "stdout"
        }
      ]
    },
    {
      "cell_type": "code",
      "metadata": {
        "id": "QfmCDK-xlRmW",
        "colab": {
          "base_uri": "https://localhost:8080/"
        },
        "outputId": "d4b3f1ac-77d6-4a9f-d458-2048a34a60d5"
      },
      "source": [
        "import torch\n",
        "\n",
        "use_gpu = torch.cuda.is_available()\n",
        "device = torch.device(\"cuda:0\" if use_gpu else \"cpu\")\n",
        "\n",
        "print(\"Torch version: \", torch.__version__)\n",
        "print(\"GPU Available: {}\".format(use_gpu))"
      ],
      "execution_count": null,
      "outputs": [
        {
          "output_type": "stream",
          "text": [
            "Torch version:  1.8.1+cu101\n",
            "GPU Available: True\n"
          ],
          "name": "stdout"
        }
      ]
    },
    {
      "cell_type": "markdown",
      "metadata": {
        "id": "FNomSpLO9LeH"
      },
      "source": [
        "## The MNIST dataset\n",
        "MNIST is the classic go-to **classification dataset** used in **computer vision**. It is available here: <a href=\"http://yann.lecun.com/exdb/mnist/\">Yann LeCun's website</a>. \n",
        "\n",
        "Each datum is an **image of a handwritten digit**. Here are a few examples from this dataset: \n",
        "\n",
        "![Alt Text](https://github.com/mila-iqia/ecole_dl_mila_ivado/blob/master/tutoriaux/CNN/images/mnist.png?raw=true)\n",
        "\n",
        "Each image also comes with a **class label** which indicates which digit does the image correspond to. For example, the labels of the examples above are 5, 0, 4, and 1 respectively. The classes are balanced which means that all digits appear (roughly) the same number of times in the dataset.\n",
        "\n",
        "The dataset is composed of **60 000 training examples** and **10 000 test examples**. All images have exactly the same size (**28x28 pixels** or 28 rows by 28 columns). Each pixel is represented by a number between 0 and 255 which represents its grey level (0 is white and 255 is black). Depending on the model, each image may have to be flattened (to a 784-length vector)."
      ]
    },
    {
      "cell_type": "markdown",
      "metadata": {
        "id": "wk9AMaT9hmcX"
      },
      "source": [
        "### Objective\n",
        "\n",
        "Our goal is to find a model that correctly classifies these images. In particular, our model will take as input (features/covariates/independant-variables) an image and will predict its digit (label/dependant variable). This problem can be formalized as follows:\n",
        "\n",
        "`f(image) = predicted digit`\n",
        "\n",
        "where `f` is a function.\n",
        "\n",
        "In this tutorial, we will consider both **multi-layer perceptrons (MLPs)** and **convolutional neural networks** as functions for solving this prediction problem. Both models take as inputs pixel intensities which will be modified using mathematical operations through the layers of the networks. Their output is a vector of size *1x10* where each entry corresponds to the (normalized) score that the input image is a particular digit. The sum over these 10 values is 1, and each score is non-negative. This is why these scores can be interpreted as probabilities. Our final prediction will be the entry with the highest score. For example, this prediction\n",
        "\n",
        "`[0.8, 0.1, 0, 0, 0, 0.05, 0.05, 0.0, 0.0, 0.0, 0.0]`\n",
        "\n",
        "indicates that the model assigns a score of 0.8 to class 0.\n",
        "\n",
        "Learning implies finding the parameters of a model that will maximize the model's performance. To learn, we will start by randomly initializing the parameters of our model. Then we iterate through examples. For each example we will obtain the network's prediction, compare it with the true label, and then update the parameters of the models to obtain a better prediction. We do this until we reach some predetermined stopping criteria."
      ]
    },
    {
      "cell_type": "markdown",
      "metadata": {
        "id": "F1U2sDz9ufy9"
      },
      "source": [
        "### Download the dataset and create the data loader\n",
        "\n",
        "Before we begin training, we have to obtain the MNIST dataset. It turns out that there are built-in functions within PyTorch to load this data, shuffle it and augment it.\n",
        "\n",
        "Here is an easy way to load some data in PyTorch: \n",
        "1. Subclass <a href=\"http://pytorch.org/docs/master/data.html#torch.utils.data.Dataset\">`torch.utils.data.Dataset`</a> and add  `__getitem__` and `__len__` methods.\n",
        "2. Then you can use<a href=\"http://pytorch.org/docs/master/data.html#torch.utils.data.DataLoader\">`torch.utils.data.DataLoader`</a> to read and load the data into memory.\n",
        "\n",
        "It is even easier for MNIST in PyTorch since there is already a subclass of \"datasets\" defined for it: <a href=\"http://pytorch.org/docs/master/torchvision/datasets.html#mnist\">`torchvision.datasets.MNIST`</a>.\n",
        "\n",
        "<a href=\"http://pytorch.org/docs/master/torchvision/datasets.html\">Other datasets are also similarly available</a>\n",
        "\n",
        "**Note:** <a href=\"http://pytorch.org/docs/master/tensors.html#torch.Tensor.view\">`torch.Tensor.view()`</a> returns a new tensor with the same data as the original tensor but a different shape. For example, it can be used to flatten an image."
      ]
    },
    {
      "cell_type": "code",
      "metadata": {
        "id": "n2iC4F8H8bsx",
        "colab": {
          "base_uri": "https://localhost:8080/"
        },
        "outputId": "79dbf9a7-77b3-4ee4-de14-22067d8f5fc8"
      },
      "source": [
        "import numpy as np\n",
        "import random\n",
        "import torch\n",
        "from torch.utils.data import sampler, DataLoader\n",
        "from torchvision.datasets import MNIST\n",
        "import torchvision.transforms as transforms\n",
        "\n",
        "\n",
        "manualSeed = 1234\n",
        "use_gpu = torch.cuda.is_available()\n",
        "\n",
        "# Fixing random seed\n",
        "random.seed(manualSeed)\n",
        "np.random.seed(manualSeed)\n",
        "torch.manual_seed(manualSeed)\n",
        "if use_gpu:\n",
        "   torch.cuda.manual_seed_all(manualSeed)\n",
        "\n",
        "class ChunkSampler(sampler.Sampler):\n",
        "    \"\"\"Samples elements sequentially from some offset.\n",
        "    From: https://github.com/pytorch/vision/issues/168\n",
        "    \n",
        "    Parameters\n",
        "    ----------\n",
        "    num_samples: int\n",
        "      # of desired datapoints\n",
        "    start: int\n",
        "      Offset where we should start selecting from\n",
        "    \"\"\"\n",
        "    def __init__(self, num_samples, start=0):\n",
        "        self.num_samples = num_samples\n",
        "        self.start = start\n",
        "\n",
        "    def __iter__(self):\n",
        "        return iter(range(self.start, self.start + self.num_samples))\n",
        "\n",
        "    def __len__(self):\n",
        "        return self.num_samples\n",
        "\n",
        "\n",
        "train_dataset = MNIST(root='../data', \n",
        "                      train=True, \n",
        "                      transform=transforms.ToTensor(),  \n",
        "                      download=True)\n",
        "\n",
        "test_dataset = MNIST(root='../data', \n",
        "                     train=False, \n",
        "                     transform=transforms.ToTensor())\n",
        "\n",
        "train_dataset_sizes = len(train_dataset)\n",
        "num_train_samples = int(0.8 * train_dataset_sizes)\n",
        "num_valid_samples = train_dataset_sizes - num_train_samples\n",
        "num_test_samples = len(test_dataset)\n",
        "\n",
        "print('# of train examples: {}'.format(num_train_samples))\n",
        "print('# of valid examples: {}'.format(num_valid_samples))\n",
        "print('# of test examples: {}'.format(num_test_samples))\n",
        "\n",
        "batch_size = 128\n",
        "\n",
        "train_loader = DataLoader(dataset=train_dataset,\n",
        "                          sampler=ChunkSampler(num_train_samples, 0),\n",
        "                          batch_size=batch_size, \n",
        "                          shuffle=False)\n",
        "\n",
        "valid_loader = DataLoader(dataset=train_dataset,\n",
        "                          sampler=ChunkSampler(\n",
        "                              num_valid_samples, num_train_samples),\n",
        "                          batch_size=batch_size, \n",
        "                          shuffle=False)\n",
        "\n",
        "test_loader = DataLoader(dataset=test_dataset, \n",
        "                         batch_size=batch_size, \n",
        "                         shuffle=False)\n"
      ],
      "execution_count": null,
      "outputs": [
        {
          "output_type": "stream",
          "text": [
            "# of train examples: 48000\n",
            "# of valid examples: 12000\n",
            "# of test examples: 10000\n"
          ],
          "name": "stdout"
        }
      ]
    },
    {
      "cell_type": "markdown",
      "metadata": {
        "id": "gRV8zZbHV6zN"
      },
      "source": [
        "Let's visualize the training data!"
      ]
    },
    {
      "cell_type": "code",
      "metadata": {
        "id": "TB57DZYzV9Oz",
        "colab": {
          "base_uri": "https://localhost:8080/",
          "height": 375
        },
        "outputId": "5f026b87-b1af-488d-a9e0-92e48326875a"
      },
      "source": [
        "%matplotlib inline\n",
        "import matplotlib.pyplot as plt\n",
        "\n",
        "inputs, labels = next(iter(train_loader))\n",
        "\n",
        "print('Inputs size: {}'.format(inputs.size()))\n",
        "print('Classes size: {}'.format(labels.size()))\n",
        "\n",
        "# Pick a random image of the batch\n",
        "idx = np.random.randint(len(inputs))\n",
        "img = 255 - inputs[idx] * 255\n",
        "\n",
        "# Plot the image\n",
        "print('\\n\\nDisplay a random image:')\n",
        "img_np = img.numpy()[0, :, :] # Discard the channel dimension\n",
        "plt.imshow(img_np, cmap='gray', vmin=0, vmax=255)\n",
        "plt.grid(False)\n",
        "plt.show()\n",
        "\n",
        "# display the associated label\n",
        "print(f\"Label associated: {labels[idx]}\")"
      ],
      "execution_count": null,
      "outputs": [
        {
          "output_type": "stream",
          "text": [
            "Inputs size: torch.Size([128, 1, 28, 28])\n",
            "Classes size: torch.Size([128])\n",
            "\n",
            "\n",
            "Display a random image:\n"
          ],
          "name": "stdout"
        },
        {
          "output_type": "display_data",
          "data": {
            "image/png": "[encoded data removed]",
            "text/plain": [
              "<Figure size 432x288 with 1 Axes>"
            ]
          },
          "metadata": {
            "tags": [],
            "needs_background": "light"
          }
        },
        {
          "output_type": "stream",
          "text": [
            "Label associated: 5\n"
          ],
          "name": "stdout"
        }
      ]
    },
    {
      "cell_type": "markdown",
      "metadata": {
        "id": "T_XSUTbG0UvX"
      },
      "source": [
        "## CPU or GPU\n",
        "**Note:** <a href=\"http://pytorch.org/docs/master/cuda.html#module-torch.cuda\">`torch.cuda`</a> is a library which can perform tensor operations using GPUs. Specifically, the library includes CUDA tensors which offer the same operations as regular tensors but instead run on GPUs, instead of CPUs.\n",
        "<a href=\"http://pytorch.org/docs/master/cuda.html#torch.cuda.is_available\">`torch.cuda.is_available()`</a> returns whether or not CUDA is available. Adding `.to(\"cuda:0\")` to the variable identifying a CPU tensor, returns the equivalent GPU tensor.\n",
        "\n",
        "For more information about using GPUs on colab, please refer to this [tutorial](https://colab.research.google.com/drive/1P7okDVh6viCIOkii6UAF2O9sTAcKGNWq).\n"
      ]
    },
    {
      "cell_type": "code",
      "metadata": {
        "id": "LxnZv9g_0RQK",
        "colab": {
          "base_uri": "https://localhost:8080/"
        },
        "outputId": "0205bb0d-d02c-41b1-8bdd-fb930f86be8f"
      },
      "source": [
        "use_gpu = torch.cuda.is_available()\n",
        "print(\"GPU Available: {}\".format(use_gpu))"
      ],
      "execution_count": null,
      "outputs": [
        {
          "output_type": "stream",
          "text": [
            "GPU Available: True\n"
          ],
          "name": "stdout"
        }
      ]
    },
    {
      "cell_type": "markdown",
      "metadata": {
        "id": "xjWUALQGXQbi"
      },
      "source": [
        "We are going to compare the performance of a CNN to the performance of a vanilla MLP. Below is a quick reminder of MLPs, the architecture of the MLP we will be using, as well as the code to train the MLP. \n",
        "\n",
        "## Multi-layer perceptron (MLP)\n",
        "A multi-layer perceptron is a vanilla feed-forward neural network. Our instanciation will take as input an image, will transform it through a series of hidden layers and then will pass it to an output layer. This output is a vector of 10 numbers where each represents the normalized score of a particular class (this is sometimes interpreted as a probability).\n",
        "\n",
        "For example, here an MLP architecture to classify MNIST images: \n",
        "![Alt Text](https://github.com/mila-iqia/ecole_dl_mila_ivado/blob/master/tutoriaux/CNN/images/mlp.png?raw=true)\n",
        "\n",
        "Whenever you are trying to solve a prediction task, the process usually goes as follows: \n",
        "<ol>\n",
        "<li>Determine the network's artchitecture. This will implicitely determine the number of parameters (weights and biases) of the network.</li>\n",
        "<li>Determine the cost function and the optimization method.</li>\n",
        "<li>Train the weights of the network (i.e., fit the model to train data).</li>\n",
        "<li>Test the network (i.e., evaluate its performance on test data).</li>\n",
        "</ol>\n",
        "\n",
        "This procedure is general and applies to all types of (deep) neural networks.\n",
        "\n",
        "### Toolbox\n",
        "\n",
        "Racall that a (deep) neural network can be coded by using the library <a href=\"http://pytorch.org/docs/master/nn.html\">`torch.nn`</a>. `nn` uses <a href=\"http://pytorch.org/docs/master/autograd.html\">`torch.autograd`</a> to instantiate and compute the gradients (of the loss function with respect to the parameters)."
      ]
    },
    {
      "cell_type": "code",
      "metadata": {
        "id": "ho71dy2JXQbk",
        "colab": {
          "base_uri": "https://localhost:8080/"
        },
        "outputId": "7b2a078d-c29c-4378-918b-6930ec8596ba"
      },
      "source": [
        "import torch.nn as nn\n",
        "import copy\n",
        "\n",
        "input_size = 784\n",
        "hidden_size = 500\n",
        "num_classes = 10\n",
        "learning_rate = 1e-2\n",
        "\n",
        "class MLP(nn.Module):\n",
        "    def __init__(self, input_size, hidden_size, num_classes):\n",
        "        super(MLP, self).__init__()\n",
        "\n",
        "        self.hidden_layer = nn.Sequential(\n",
        "            nn.Linear(input_size, hidden_size),\n",
        "            nn.ReLU(),\n",
        "            nn.Linear(hidden_size, hidden_size),\n",
        "            nn.ReLU()\n",
        "            )\n",
        "        \n",
        "        self.output_layer = nn.Sequential(\n",
        "            nn.Linear(hidden_size, num_classes)\n",
        "            )\n",
        "    \n",
        "    def forward(self, x):        \n",
        "        out = self.hidden_layer(x)\n",
        "        out = self.output_layer(out)\n",
        "        return out\n",
        "\n",
        "# Define our model\n",
        "model = MLP(input_size, hidden_size, num_classes)\n",
        "model = model.to(device) # switch model to GPU\n",
        "\n",
        "print(model)\n",
        "print(\"\\n\\n Number of parameters in the model (weights and biases): \", sum([param.nelement() for param in model.parameters()]))\n",
        "\n",
        "# Define the loss and optimizer\n",
        "criterion = nn.CrossEntropyLoss()  \n",
        "optimizer = torch.optim.SGD(model.parameters(), lr=learning_rate)"
      ],
      "execution_count": null,
      "outputs": [
        {
          "output_type": "stream",
          "text": [
            "MLP(\n",
            "  (hidden_layer): Sequential(\n",
            "    (0): Linear(in_features=784, out_features=500, bias=True)\n",
            "    (1): ReLU()\n",
            "    (2): Linear(in_features=500, out_features=500, bias=True)\n",
            "    (3): ReLU()\n",
            "  )\n",
            "  (output_layer): Sequential(\n",
            "    (0): Linear(in_features=500, out_features=10, bias=True)\n",
            "  )\n",
            ")\n",
            "\n",
            "\n",
            " Number of parameters in the model (weights and biases):  648010\n"
          ],
          "name": "stdout"
        }
      ]
    },
    {
      "cell_type": "code",
      "metadata": {
        "id": "Bdh8ocHBXQbn",
        "colab": {
          "base_uri": "https://localhost:8080/"
        },
        "outputId": "7b97291c-df56-4306-820f-6d9d59eae3b1"
      },
      "source": [
        "import time\n",
        "\n",
        "since = time.time()\n",
        "\n",
        "num_epochs = 10\n",
        "train_loss_history = []\n",
        "valid_loss_history = []\n",
        "\n",
        "print(\"# Start training #\")\n",
        "for epoch in range(num_epochs):\n",
        "    \n",
        "    train_loss = 0\n",
        "    train_n_iter = 0\n",
        "    \n",
        "    # Set model to train mode\n",
        "    model.train()\n",
        "    \n",
        "    # Iterate over train data\n",
        "    for images, labels in train_loader:  \n",
        "        \n",
        "        # put images on proper device (GPU)\n",
        "        images = images.to(device)\n",
        "        labels = labels.to(device)\n",
        "        \n",
        "        # Flatten the images\n",
        "        images = images.view(-1, 28*28)\n",
        "\n",
        "        # Zero the gradient buffer\n",
        "        optimizer.zero_grad()  \n",
        "        \n",
        "        # Forward\n",
        "        outputs = model(images)\n",
        "        \n",
        "        loss = criterion(outputs, labels)\n",
        "        \n",
        "        # Backward\n",
        "        loss.backward()\n",
        "        \n",
        "        # Optimize\n",
        "        optimizer.step()\n",
        "        \n",
        "        # Statistics\n",
        "        train_loss += loss.item()\n",
        "        train_n_iter += 1\n",
        "    \n",
        "    valid_loss = 0\n",
        "    valid_n_iter = 0\n",
        "    \n",
        "    # Set model to evaluate mode\n",
        "    model.eval()\n",
        "    \n",
        "    # Iterate over valid data\n",
        "    for images, labels in valid_loader:  \n",
        "        \n",
        "        # put images on proper device (GPU)\n",
        "        images = images.to(device)\n",
        "        labels = labels.to(device)\n",
        "        \n",
        "        # Flatten the images\n",
        "        images = images.view(-1, 28*28)\n",
        "        \n",
        "        \n",
        "        # Forward\n",
        "        outputs = model(images)\n",
        "        \n",
        "        loss = criterion(outputs, labels)\n",
        "        \n",
        "        # Statistics\n",
        "        valid_loss += loss.item()\n",
        "        valid_n_iter += 1\n",
        "    \n",
        "    train_loss_history.append(train_loss / train_n_iter)\n",
        "    valid_loss_history.append(valid_loss / valid_n_iter)\n",
        "    \n",
        "    print('\\nEpoch: {}/{}'.format(epoch + 1, num_epochs))\n",
        "    print('\\tTrain Loss: {:.4f}'.format(train_loss / train_n_iter))\n",
        "    print('\\tValid Loss: {:.4f}'.format(valid_loss / valid_n_iter))\n",
        "\n",
        "time_elapsed = time.time() - since\n",
        "\n",
        "print('\\n\\nTraining complete in {:.0f}m {:.0f}s'.format(\n",
        "    time_elapsed // 60, time_elapsed % 60))"
      ],
      "execution_count": null,
      "outputs": [
        {
          "output_type": "stream",
          "text": [
            "# Start training #\n",
            "\n",
            "Epoch: 1/10\n",
            "\tTrain Loss: 2.1725\n",
            "\tValid Loss: 1.9143\n",
            "\n",
            "Epoch: 2/10\n",
            "\tTrain Loss: 1.3589\n",
            "\tValid Loss: 0.8584\n",
            "\n",
            "Epoch: 3/10\n",
            "\tTrain Loss: 0.6958\n",
            "\tValid Loss: 0.5438\n",
            "\n",
            "Epoch: 4/10\n",
            "\tTrain Loss: 0.5135\n",
            "\tValid Loss: 0.4407\n",
            "\n",
            "Epoch: 5/10\n",
            "\tTrain Loss: 0.4387\n",
            "\tValid Loss: 0.3903\n",
            "\n",
            "Epoch: 6/10\n",
            "\tTrain Loss: 0.3973\n",
            "\tValid Loss: 0.3600\n",
            "\n",
            "Epoch: 7/10\n",
            "\tTrain Loss: 0.3705\n",
            "\tValid Loss: 0.3392\n",
            "\n",
            "Epoch: 8/10\n",
            "\tTrain Loss: 0.3510\n",
            "\tValid Loss: 0.3234\n",
            "\n",
            "Epoch: 9/10\n",
            "\tTrain Loss: 0.3355\n",
            "\tValid Loss: 0.3104\n",
            "\n",
            "Epoch: 10/10\n",
            "\tTrain Loss: 0.3224\n",
            "\tValid Loss: 0.2994\n",
            "\n",
            "\n",
            "Training complete in 1m 7s\n"
          ],
          "name": "stdout"
        }
      ]
    },
    {
      "cell_type": "code",
      "metadata": {
        "id": "UhO4qn_vXQbq",
        "colab": {
          "base_uri": "https://localhost:8080/",
          "height": 282
        },
        "outputId": "cac2cb6f-90bf-49f8-d74e-b1f9e0832895"
      },
      "source": [
        "# Save history for later\n",
        "mlp_train_loss_history = train_loss_history\n",
        "mlp_valid_loss_history = valid_loss_history\n",
        "\n",
        "# Plot training and validation curve\n",
        "x = range(1, num_epochs + 1)\n",
        "plt.plot(x, mlp_train_loss_history, label='train')\n",
        "plt.plot(x, mlp_valid_loss_history, label='valid')\n",
        "\n",
        "plt.xlabel('# epochs')\n",
        "plt.ylabel('Loss')\n",
        "plt.legend()\n",
        "\n",
        "plt.show()"
      ],
      "execution_count": null,
      "outputs": [
        {
          "output_type": "display_data",
          "data": {
            "image/png": "[encoded data removed]",
            "text/plain": [
              "<Figure size 432x288 with 1 Axes>"
            ]
          },
          "metadata": {
            "tags": [],
            "needs_background": "light"
          }
        }
      ]
    },
    {
      "cell_type": "code",
      "metadata": {
        "id": "3W5NEuERXQbt",
        "colab": {
          "base_uri": "https://localhost:8080/"
        },
        "outputId": "94012590-92d5-481b-8f87-b4a6ad2f77bc"
      },
      "source": [
        "# Set model to evaluate mode\n",
        "model.eval()\n",
        "\n",
        "correct = 0\n",
        "total = 0\n",
        "\n",
        "# Iterate over test data\n",
        "for images, labels in test_loader:\n",
        "    \n",
        "    # put images on proper device (GPU)\n",
        "    images = images.to(device)\n",
        "    labels = labels.to(device)\n",
        "    \n",
        "    # Flatten the images\n",
        "    images = images.view(-1, 28*28)\n",
        "\n",
        "    # Forward\n",
        "    outputs = model(images)\n",
        "    _, predicted = torch.max(outputs.data, 1)\n",
        "    \n",
        "    # Statistics\n",
        "    total += labels.size(0)\n",
        "    correct += torch.sum(predicted == labels.data)\n",
        "\n",
        "print('Accuracy on the test set: {:.2f}%'.format(100 * correct / total))"
      ],
      "execution_count": null,
      "outputs": [
        {
          "output_type": "stream",
          "text": [
            "Accuracy on the test set: 91.32%\n"
          ],
          "name": "stdout"
        }
      ]
    },
    {
      "cell_type": "markdown",
      "metadata": {
        "id": "Hp1YgKZb8btG"
      },
      "source": [
        "## Convolutional neural networks (CNNs)\n",
        "\n",
        "\n"
      ]
    },
    {
      "cell_type": "markdown",
      "metadata": {
        "id": "GMbU21dg3Rqx"
      },
      "source": [
        "### Concepts\n",
        "\n",
        "We first review the basic concepts that underlie CNNs.\n",
        "\n",
        "**Convolution**\n",
        "\n",
        "A convolution \"slides\" a filter *K* along image *I* to obtain an output *I*\\**K*.\n",
        "\n",
        "Here is an example of a 2D convolution:\n",
        "\n",
        "![Alt Text](https://github.com/mila-iqia/ecole_dl_mila_ivado/blob/master/tutoriaux/CNN/images/numerical_no_padding_no_strides.gif?raw=true)\n",
        "\n",
        "\n",
        "**Filters**\n",
        "\n",
        "Filters (or kernels) are used to extract information useful to the task from their input. Filters are generally of size *n* \\* *n* where *n* is usually odd. The filters are parametrized by weights, one for each of its entry, which are learned by the convolutional network.\n",
        "\n",
        "The filter used in the previous example is:\n",
        "\n",
        "![Alt Text](https://github.com/mila-iqia/ecole_dl_mila_ivado/blob/master/tutoriaux/CNN/images/d7acc4aeb74d9e9cb5fb51482a302196594837fe.png?raw=true)\n",
        "\n",
        "**Depth**\n",
        "\n",
        "We typically use *M* of filters which can be understood as the depth of the layer (see below). Note that this is different from the depth of the network (which is the number of layers). M is a hyperparameter. Here, each filter's output (blue circles) is represented as a single depth dimension on the output.\n",
        "\n",
        "![Alt Text](https://github.com/mila-iqia/ecole_dl_mila_ivado/blob/master/tutoriaux/CNN/images/Conv_layer.png?raw=true)\n",
        "\n",
        "**Stride**\n",
        "\n",
        "The stride corresponds to the number of pixels the filter moves over in between each step of the convolution. The stride is measured in terms of a number of pixels. We typically use strides of 1 or 2. The larger the stride, the smaller the dimension of the output.\n",
        "\n",
        "**Zero padding**\n",
        "\n",
        "Zero padding consists in padding (adding) a border of zeros around the input image. This can be useful to preserve the dimension from input to output.\n",
        "\n",
        "Below is an example of a zero padding which preserves the dimensions from input to output. Here, zero padding is set to 1, stride is set to 1, and the filter has size 3x3.\n",
        "\n",
        "![Alt Text](https://github.com/mila-iqia/ecole_dl_mila_ivado/blob/master/tutoriaux/CNN/images/same_padding_no_strides.gif?raw=true)\n",
        "\n",
        "\n",
        "**Max Pooling**\n",
        "\n",
        "In addition to convolutions, CNNs usually have pooling layers. The goal of pooling is to reduce the dimensionality of the input in-between two convolution layers to reduce the number of parameters in the network. For example, the famous LeNet CNN, uses max pooling with 2x2 filters and a stride of 2. Max pooling outputs the max value in a 2x2 region. This output is then the input of the next layer.\n",
        "\n",
        "Here is an example of the max pooling operation:\n",
        "\n",
        "![Alt Text](https://github.com/mila-iqia/ecole_dl_mila_ivado/blob/master/tutoriaux/CNN/images/maxpool.jpeg?raw=true)\n",
        "\n",
        "\n",
        "**Receptive Field**\n",
        "\n",
        "The receptive field is a measure of the CNNs' capacity to perceive information at different input scales. In an MLP (fully connected), the features are connected to every neuron. The receptive field of this MLP is the full image.\n",
        "\n",
        "For CNNs, convolution operations typically imply sparse connections. In other words, each filter only has a local receptive field. However, each successive layer will have access to a slightly larger receptive field. \n",
        "\n",
        "Let's look at an example. Imagine a 3x3 filter with stride set to 1. In this case, the first layer's receptive field is a maximum of 3x3. However, the more layer we add the more we increase the network's receptive field. Adding a second layer with 3x3 filters and a stride of 1, our receptive field is increased to 5x5. Adding a third 3x3 layer further increases our receptive field to 7x7.\n",
        "\n",
        "What is the advantage of using multiple smaller successive filters instead of a single larger one? A single large filter of 7x7 implies 49 parameters. Instead 3 layers of 3x3 filters requires only 27 parameters (9 \\* 3). It is therefore more efficient to use multiple successive filters and in both cases the receptive field is the same (7x7). In addition, by using multiple successive filters, we can introduce more non-linearities in the model (one after each filter).\n",
        "\n",
        "Here the 3x3 filter (in grey) with a stride of 1 has a receptive field of 5x5 (yellow region):\n",
        "\n",
        "![Alt Text](https://github.com/mila-iqia/ecole_dl_mila_ivado/blob/master/tutoriaux/CNN/images/sNBmKMKAz-yJeCuS14usSqw.png?raw=true)\n",
        "\n",
        "\n",
        "**Number of dimensions**\n",
        "\n",
        "In general, for a convolutional layers with input dimensions (volume)\n",
        "$W_1 * H_1 * D_1$ and hyperparameters \n",
        "\n",
        "* Number of filters = $K$\n",
        "\n",
        "* Filter sizes = $F$\n",
        "\n",
        "* Stride = $S$\n",
        "\n",
        "* Zero Padding = $P$.\n",
        "\n",
        "We obtain an output volume of $W_2 * H_2 * D_2$ dimensions where  \n",
        "\n",
        "* $W_2 = (W_1 - F + 2P) / S + 1$\n",
        "* $H_2 = (H1 - F + 2P) / S + 1$\n",
        "* $D_2 = K$\n",
        "\n",
        "and the total number of parameters is $(F⋅F⋅D_1)⋅K$ weights and $K$ biases.\n",
        "\n",
        "For an in-depth analysis see [this paper](http://cs231n.github.io/convolutional-networks/)"
      ]
    },
    {
      "cell_type": "markdown",
      "metadata": {
        "id": "owIcd9VguyAe"
      },
      "source": [
        "### LeNet architecture\n",
        "CNNs have been developed to model images. They can model images more efficiently (with fewer parameters) than an equivalent MLP. LeNet is a basic CNN for classification. It comes in several versions.\n",
        "\n",
        "We will use a \"LeNet 5\" to classify MNIST digit images:\n",
        "\n",
        "![Alt Text](https://github.com/mila-iqia/ecole_dl_mila_ivado/blob/master/tutoriaux/CNN/images/lenet5.png?raw=true)\n",
        "\n",
        "\n",
        "To solve a prediction task, the process usually goes as follows (it is the same for MLPs and CNNs):\n",
        "<ol>\n",
        "<li>Determine the network's architecture. This will implicitly determine the number of parameters (weights and biases) of the network.</li>\n",
        "<li>Determine the cost function and the optimization method.</li>\n",
        "<li>Train the weights of the network (i.e., fit the model to train data).</li>\n",
        "<li>Test the network (i.e., evaluate its performance on test data).</li>\n",
        "</ol>"
      ]
    },
    {
      "cell_type": "markdown",
      "metadata": {
        "id": "I_24D5UJtJ-e"
      },
      "source": [
        "### Implementing the LeNet model"
      ]
    },
    {
      "cell_type": "markdown",
      "metadata": {
        "id": "jXE2OZm8pqcI"
      },
      "source": [
        "#### Exercise 1\n",
        "\n",
        "In this section, you must fill in the missing sections in the LeNet implementation below.\n",
        "\n",
        "Recall that, to instantiate a particular network in PyTorch, one first subclasses <a href=\"http://pytorch.org/docs/master/nn.html#torch.nn.Module\">`torch.nn.Module`</a> and then writes the following methods :\n",
        "* The `__init__` method instantiates the various layers used in the model. \n",
        "* The `forward(input)` method takes in inputs to the model, passes them through the different layers of the model and returns the resulting outputs.\n",
        "\n",
        "For LeNet 5's `__init__` method, the following classes can be used:\n",
        "* <a href=\"http://pytorch.org/docs/master/nn.html#torch.nn.Conv2d\">`torch.nn.Conv2d(in_channels, out_channels, kernel_size)`</a> applies a 2D convolution on the input channels.\n",
        "* <a href=\"http://pytorch.org/docs/master/nn.html#torch.nn.MaxPool2d\">`torch.nn.MaxPool2d(kernel_size)`</a> applies 2D max pooling on the input channels.\n",
        "* <a href=\"http://pytorch.org/docs/master/nn.html#torch.nn.Linear\">`torch.nn.Linear(in_features, out_features)`</a> applies a linear transformation on its input: y = Ax + b.\n",
        "* <a href=\"http://pytorch.org/docs/master/nn.html#torch.nn.ReLU\">`torch.nn.Relu()`</a> applies an elementwise Relu activation: Relu(x) = max(0, x).\n",
        "* <a href=\"http://pytorch.org/docs/master/nn.html#torch.nn.Sequential\">`torch.nn.Sequential`</a> a sequential container in which to add modules in the order in which they will be constructed.\n",
        "\n",
        "Finally, `model.to(device)` passes the model to an available GPU."
      ]
    },
    {
      "cell_type": "code",
      "metadata": {
        "id": "sR4OQa-4gBAQ",
        "colab": {
          "base_uri": "https://localhost:8080/"
        },
        "outputId": "ecce5d60-8d54-4861-d492-d5fc14abc059"
      },
      "source": [
        "class LeNet5(nn.Module):\n",
        "    def __init__(self):\n",
        "        super(LeNet5, self).__init__()\n",
        "\n",
        "        self.hidden_layers = nn.Sequential(\n",
        "            nn.Conv2d(in_channels=1, out_channels=16, kernel_size=5,stride=1, padding=2),\n",
        "            nn.MaxPool2d(2),\n",
        "            nn.Conv2d(in_channels=16, out_channels=32, kernel_size=5,stride=1, padding=2),\n",
        "            nn.MaxPool2d(2),\n",
        "            nn.Flatten()\n",
        "            )\n",
        "        \n",
        "        self.output_layer = nn.Sequential(\n",
        "            nn.Linear(7*7*32, 10),\n",
        "            nn.ReLU()\n",
        "        )\n",
        "    \n",
        "    def forward(self, x):\n",
        "        out = self.hidden_layers(x)\n",
        "        out = self.output_layer(out)\n",
        "        return out\n",
        "        \n",
        "model = LeNet5()\n",
        "model = model.to(device)\n",
        "\n",
        "print(model)\n",
        "print(\"\\n\\n# Parameters: \", sum([param.nelement() for param in model.parameters()]))"
      ],
      "execution_count": null,
      "outputs": [
        {
          "output_type": "stream",
          "text": [
            "LeNet5(\n",
            "  (hidden_layers): Sequential(\n",
            "    (0): Conv2d(1, 16, kernel_size=(5, 5), stride=(1, 1), padding=(2, 2))\n",
            "    (1): MaxPool2d(kernel_size=2, stride=2, padding=0, dilation=1, ceil_mode=False)\n",
            "    (2): Conv2d(16, 32, kernel_size=(5, 5), stride=(1, 1), padding=(2, 2))\n",
            "    (3): MaxPool2d(kernel_size=2, stride=2, padding=0, dilation=1, ceil_mode=False)\n",
            "    (4): Flatten(start_dim=1, end_dim=-1)\n",
            "  )\n",
            "  (output_layer): Sequential(\n",
            "    (0): Linear(in_features=1568, out_features=10, bias=True)\n",
            "    (1): ReLU()\n",
            "  )\n",
            ")\n",
            "\n",
            "\n",
            "# Parameters:  28938\n"
          ],
          "name": "stdout"
        }
      ]
    },
    {
      "cell_type": "markdown",
      "metadata": {
        "id": "tRo03AR2PFPE"
      },
      "source": [
        "We note that LeNet5 has 28 938 parameters versus 648 010 parameters for an somewhat equivalent MLP with two hidden layers. This reduction in the number of parameters is significant. \n",
        "\n",
        "Here is how we calculate the number of parameters for LeNet5: \n",
        "\n",
        "```\n",
        "1st layer: 16 filters of size 5x5 + 16 biases = 16*5*5 + 16 = 416\n",
        "2nd layer: 16 * 32 filters of size 5x5 + 32 biases = 16*32*5*5 + 32 = 12 832\n",
        "FC layer: 7*7*32*10 + 10 biases = 15 690\n",
        " \n",
        "Total = 416 + 12 832 + 15 690 = 28 938\n",
        "```\n",
        "\n",
        "As a comparison, here is how we calculate the number of parameters of the two hidden layer MLP: \n",
        "The input flattens the 28x28 images into a vector of size 784. The second layer has 500 neurons. Each neuron requires 784 weights + 1 bias. So 500\\*785 parameters. This is then fed to another layer of 500 neurons which adds 501\\*500 parameters. Finally, the output layer has 10 neurons, each with 500 weights and a single bias for a total of 10\\*501 parameters. \n",
        "\n",
        "So in total we have: \n",
        "```\n",
        "500*785 + 501*500 + 10*501 = 648010\n",
        "``` parameters."
      ]
    },
    {
      "cell_type": "markdown",
      "metadata": {
        "id": "A-7PEXQGtddk"
      },
      "source": [
        "### Selecting the cost function and the optimization method"
      ]
    },
    {
      "cell_type": "markdown",
      "metadata": {
        "id": "y9H0ssbh3V1j"
      },
      "source": [
        "#### Exercise 2\n",
        "\n",
        "In this section, you must implement the initialization of both the loss function to be optimized during training, and the optimizer to be used to train the model.\n",
        "\n",
        "The following are common choices for a multi-class classification task :\n",
        "* **Cost function :** <a href=\"http://pytorch.org/docs/master/nn.html#torch.nn.CrossEntropyLoss\">`torch.nn.CrossEntropyLoss()`</a>. The cross entropy is often used in this context. It compares a (multivariate) distribution $p$ with a reference distribution $t$. It is minimized for $p=t$ and it is expressed mathematically by: $-\\sum_j t_{ij} \\log(p_{ij})$ where $p$ is the prediction, $t$ the target, $i$ are examples and $j$ the target class.\n",
        "* **Optimization method :** <a href=\"http://pytorch.org/docs/master/optim.html#torch.optim.SGD\">`torch.optim.SGD(net.parameters(), lr=learning_rate)`</a> a standard stochastic gradient descent (SGD) implementation\n",
        "\n"
      ]
    },
    {
      "cell_type": "code",
      "metadata": {
        "id": "uE3Cfrd-hJ0e"
      },
      "source": [
        "criterion = nn.CrossEntropyLoss() # To complete.\n",
        "\n",
        "optimizer = torch.optim.SGD(model.parameters(), lr=0.1) # To complete.\n"
      ],
      "execution_count": null,
      "outputs": []
    },
    {
      "cell_type": "markdown",
      "metadata": {
        "id": "0iG7go24tl93"
      },
      "source": [
        "\n",
        "### Training the network"
      ]
    },
    {
      "cell_type": "markdown",
      "metadata": {
        "id": "sYEtUb4s3rab"
      },
      "source": [
        "#### Exercise 3\n",
        "\n",
        "In this section, you will need to complete the implementation of the model training loop.\n",
        "\n",
        "Training a network usually involves iterating for multiple epochs over the training dataset. One epoch corresponds to one pass over the full dataset. \n",
        "\n",
        "The dataset is usually divided into batches. Each epoch will then receive sequentially batches. For each batch we do the following operations:\n",
        "1. `optimizer.zero_grad()`: we clear the previously stored gradients.\n",
        "2. `loss.backward()`: we evaluate the cost, the gradients, and backpropagate the gradients through the computation graph.\n",
        "3. `optimizer.step()`: we update the parameters using the previously calculated gradients. For SGD, the update is: `weight = weight - learning_rate * gradient`.\n"
      ]
    },
    {
      "cell_type": "code",
      "metadata": {
        "id": "elxupovwhRSk",
        "colab": {
          "base_uri": "https://localhost:8080/"
        },
        "outputId": "3803c397-a0f4-469c-a4de-ca430ba44683"
      },
      "source": [
        "since = time.time()\n",
        "\n",
        "num_epochs = 10\n",
        "train_loss_history = []\n",
        "valid_loss_history = []\n",
        "\n",
        "print(\"# Start training #\")\n",
        "for epoch in range(num_epochs):\n",
        "    \n",
        "    train_loss = 0\n",
        "    train_n_iter = 0\n",
        "    \n",
        "    # Set model to train mode\n",
        "    model.train()\n",
        "    \n",
        "    # Iterate over train data\n",
        "    for images, labels in train_loader:  \n",
        "\n",
        "        # put images on proper device (GPU)\n",
        "        images = images.to(device) # To complete.\n",
        "        labels = labels.to(device) # To complete.\n",
        "        \n",
        "        # Zero the gradient buffer\n",
        "        optimizer.zero_grad() # To complete.\n",
        "        \n",
        "        # Forward pass\n",
        "        outputs = model(images) # To complete.\n",
        "        \n",
        "        # Calculate loss using previously define criterion\n",
        "        loss = criterion(outputs, labels) # To complete.\n",
        "        \n",
        "        # Backward pass\n",
        "        loss.backward() # To complete.\n",
        "        \n",
        "        # Optimize\n",
        "        optimizer.step() # To complete.\n",
        "        \n",
        "        # Statistics\n",
        "        train_loss += loss.item()\n",
        "        train_n_iter += 1\n",
        "    \n",
        "    valid_loss = 0\n",
        "    valid_n_iter = 0\n",
        "    \n",
        "    # Set model to evaluate mode\n",
        "    model.eval()\n",
        "    \n",
        "    # Iterate over valid data\n",
        "    for images, labels in valid_loader:  \n",
        "        \n",
        "        # put images on proper device (GPU)\n",
        "        images = images.to(device) # To complete.\n",
        "        labels = labels.to(device) # To complete.\n",
        "        \n",
        "        # Forward\n",
        "        outputs = model(images) # To complete.\n",
        "        \n",
        "        # Calculate loss using previously defined criterion\n",
        "        loss = criterion(outputs, labels) # To complete.\n",
        "       \n",
        "        # Statistics\n",
        "        valid_loss += loss.item()\n",
        "        valid_n_iter += 1\n",
        "    \n",
        "    train_loss_history.append(train_loss / train_n_iter)\n",
        "    valid_loss_history.append(valid_loss / valid_n_iter)\n",
        "    \n",
        "    print('\\nEpoch: {}/{}'.format(epoch + 1, num_epochs))\n",
        "    print('\\tTrain Loss: {:.4f}'.format(train_loss / train_n_iter))\n",
        "    print('\\tValid Loss: {:.4f}'.format(valid_loss / valid_n_iter))\n",
        "\n",
        "time_elapsed = time.time() - since\n",
        "\n",
        "print('\\n\\nTraining complete in {:.0f}m {:.0f}s'.format(\n",
        "    time_elapsed // 60, time_elapsed % 60))"
      ],
      "execution_count": null,
      "outputs": [
        {
          "output_type": "stream",
          "text": [
            "# Start training #\n",
            "\n",
            "Epoch: 1/10\n",
            "\tTrain Loss: 0.5654\n",
            "\tValid Loss: 0.1968\n",
            "\n",
            "Epoch: 2/10\n",
            "\tTrain Loss: 0.1115\n",
            "\tValid Loss: 0.1153\n",
            "\n",
            "Epoch: 3/10\n",
            "\tTrain Loss: 0.0788\n",
            "\tValid Loss: 0.0960\n",
            "\n",
            "Epoch: 4/10\n",
            "\tTrain Loss: 0.0649\n",
            "\tValid Loss: 0.0884\n",
            "\n",
            "Epoch: 5/10\n",
            "\tTrain Loss: 0.0562\n",
            "\tValid Loss: 0.0844\n",
            "\n",
            "Epoch: 6/10\n",
            "\tTrain Loss: 0.0499\n",
            "\tValid Loss: 0.0809\n",
            "\n",
            "Epoch: 7/10\n",
            "\tTrain Loss: 0.0447\n",
            "\tValid Loss: 0.0783\n",
            "\n",
            "Epoch: 8/10\n",
            "\tTrain Loss: 0.0402\n",
            "\tValid Loss: 0.0760\n",
            "\n",
            "Epoch: 9/10\n",
            "\tTrain Loss: 0.0364\n",
            "\tValid Loss: 0.0742\n",
            "\n",
            "Epoch: 10/10\n",
            "\tTrain Loss: 0.0332\n",
            "\tValid Loss: 0.0724\n",
            "\n",
            "\n",
            "Training complete in 1m 26s\n"
          ],
          "name": "stdout"
        }
      ]
    },
    {
      "cell_type": "markdown",
      "metadata": {
        "id": "3fozzXmdRGTs"
      },
      "source": [
        "Let's plot the training curves!"
      ]
    },
    {
      "cell_type": "code",
      "metadata": {
        "id": "TUGbFeg5RHFZ",
        "colab": {
          "base_uri": "https://localhost:8080/",
          "height": 279
        },
        "outputId": "af81f5b0-ed40-4dec-c815-2d03d3597301"
      },
      "source": [
        "# Save history for later\n",
        "lenet5_train_loss_history = train_loss_history\n",
        "lenet5_valid_loss_history = valid_loss_history\n",
        "\n",
        "# Plot training and validation curve\n",
        "x = range(1, num_epochs + 1)\n",
        "plt.plot(x, lenet5_train_loss_history, label='train')\n",
        "plt.plot(x, lenet5_valid_loss_history, label='valid')\n",
        "\n",
        "plt.xlabel('# epochs')\n",
        "plt.ylabel('Loss')\n",
        "plt.legend()\n",
        "\n",
        "plt.show()"
      ],
      "execution_count": null,
      "outputs": [
        {
          "output_type": "display_data",
          "data": {
            "image/png": "[encoded data removed]",
            "text/plain": [
              "<Figure size 432x288 with 1 Axes>"
            ]
          },
          "metadata": {
            "tags": [],
            "needs_background": "light"
          }
        }
      ]
    },
    {
      "cell_type": "markdown",
      "metadata": {
        "id": "H6kWtULrSDXL"
      },
      "source": [
        "We can overlay the validation curves on top of the training curves for training of LeNet5:"
      ]
    },
    {
      "cell_type": "code",
      "metadata": {
        "id": "rE1qsmvaSTjH",
        "colab": {
          "base_uri": "https://localhost:8080/",
          "height": 279
        },
        "outputId": "8cbf81d0-9b73-404a-8cf9-1d36beef61f0"
      },
      "source": [
        "# Plot training and validation curve\n",
        "x = range(1, num_epochs + 1)\n",
        "plt.plot(x, mlp_train_loss_history, label='MLP train', linestyle='--')\n",
        "plt.plot(x, mlp_valid_loss_history, label='MLP valid', linestyle='--')\n",
        "plt.plot(x, lenet5_train_loss_history, label='LeNet5 train')\n",
        "plt.plot(x, lenet5_valid_loss_history, label='LeNet5 valid')\n",
        "\n",
        "plt.xlabel('# epochs')\n",
        "plt.ylabel('Loss')\n",
        "plt.legend()\n",
        "\n",
        "plt.show()"
      ],
      "execution_count": null,
      "outputs": [
        {
          "output_type": "display_data",
          "data": {
            "image/png": "[encoded data removed]",
            "text/plain": [
              "<Figure size 432x288 with 1 Axes>"
            ]
          },
          "metadata": {
            "tags": [],
            "needs_background": "light"
          }
        }
      ]
    },
    {
      "cell_type": "markdown",
      "metadata": {
        "id": "Z2T7JiZCtvJ4"
      },
      "source": [
        "### Testing the network"
      ]
    },
    {
      "cell_type": "markdown",
      "metadata": {
        "id": "Tq79RTld3xyc"
      },
      "source": [
        "#### Exercise 4\n",
        "\n",
        "In this section, we evaluate the network's performance on test data.\n"
      ]
    },
    {
      "cell_type": "code",
      "metadata": {
        "id": "da47-MilhpN7",
        "colab": {
          "base_uri": "https://localhost:8080/"
        },
        "outputId": "f95cc11a-00a1-4f71-9fcf-1a221f91d5d8"
      },
      "source": [
        "# Set model to evaluate mode\n",
        "model.eval()\n",
        "\n",
        "correct = 0\n",
        "total = 0\n",
        "\n",
        "# Iterate over data.\n",
        "for images, labels in test_loader:\n",
        "    \n",
        "    # put images on proper device (GPU)\n",
        "    images = images.to(device) # To complete.\n",
        "    labels = labels.to(device) # To complete.\n",
        "    \n",
        "    # No need to flatten the images here !\n",
        "\n",
        "    # Forward\n",
        "    outputs = model(images) # To complete.\n",
        "    _, predicted = torch.max(outputs.data, 1)\n",
        "        \n",
        "    # Statistics\n",
        "    total += labels.size(0)\n",
        "    batch_correct = torch.sum(predicted == labels.data) # To complete.\n",
        "    correct += batch_correct\n",
        "\n",
        "print('Accuracy on the test set: {:.2f}%'.format(100 * correct / total))"
      ],
      "execution_count": null,
      "outputs": [
        {
          "output_type": "stream",
          "text": [
            "Accuracy on the test set: 97.98%\n"
          ],
          "name": "stdout"
        }
      ]
    },
    {
      "cell_type": "markdown",
      "metadata": {
        "id": "voN-_iO_RQ8A"
      },
      "source": [
        "The best results are obtained after 10 epochs!\n",
        "\n",
        "---\n",
        "\n"
      ]
    },
    {
      "cell_type": "markdown",
      "metadata": {
        "id": "Eoh0pPzKuFKv"
      },
      "source": [
        "\n",
        "### Batch normalization"
      ]
    },
    {
      "cell_type": "markdown",
      "metadata": {
        "id": "OFj_W39u5voa"
      },
      "source": [
        "#### Exercise 5"
      ]
    },
    {
      "cell_type": "markdown",
      "metadata": {
        "id": "chov57bzu76J"
      },
      "source": [
        "Batch normalization is a trick that often yields faster training. It acts as a regularizer by normalizing the inputs (by batch). Further, the operation is differentiable. For additional information see [article](https://arxiv.org/pdf/1502.03167v3.pdf).\n",
        "\n",
        "![Alt Text](https://github.com/mila-iqia/ecole_dl_mila_ivado/blob/master/tutoriaux/CNN/images/1_Hiq-rLFGDpESpr8QNsJ1jg.png?raw=true)\n",
        "\n",
        "\n",
        "Batch normalization is already implemented in the Pytorch framework so there is no need to implement it ourselves. To use it in our LeNet model, we simply treat it like any other layer : instantiate it in `__init__` and then use it in `forward`. The following class can be used:\n",
        "* <a href=\"http://pytorch.org/docs/master/nn.html#torch.nn.BatchNorm2d\">`nn.BatchNorm2d(num_features)`</a>: add batch normalisation to a 4-dimensional input encoded in a 3-dimensional tensor."
      ]
    },
    {
      "cell_type": "code",
      "metadata": {
        "id": "6pi_mhvg8E4E",
        "colab": {
          "base_uri": "https://localhost:8080/"
        },
        "outputId": "4168db36-8e15-454d-ba77-ce6f9bca2c3d"
      },
      "source": [
        "class LeNet5_BatchNorm(nn.Module):\n",
        "    def __init__(self):\n",
        "        super(LeNet5_BatchNorm, self).__init__()\n",
        "\n",
        "        self.hidden_layers = nn.Sequential(\n",
        "            nn.Conv2d(in_channels=1, out_channels=16, kernel_size=5,stride=1, padding=2),\n",
        "            nn.ReLU(),\n",
        "            nn.BatchNorm2d(16),\n",
        "            nn.MaxPool2d(2),\n",
        "            nn.Conv2d(in_channels=16, out_channels=32, kernel_size=5,stride=1, padding=2),\n",
        "            nn.ReLU(),\n",
        "            nn.BatchNorm2d(32),\n",
        "            nn.MaxPool2d(2),\n",
        "            nn.Flatten()\n",
        "            )\n",
        "        \n",
        "        self.output_layer = nn.Sequential(\n",
        "            nn.Linear(7*7*32, 10)\n",
        "        )\n",
        "    \n",
        "    def forward(self, x):\n",
        "        out = self.hidden_layers(x)\n",
        "        out = self.output_layer(out)\n",
        "        return out                \n",
        "        \n",
        "model = LeNet5_BatchNorm()\n",
        "model = model.to(device)\n",
        "  \n",
        "print(model)\n",
        "\n",
        "print(\"\\n\\n# Parameters: \", sum([param.nelement() for param in model.parameters()]))"
      ],
      "execution_count": null,
      "outputs": [
        {
          "output_type": "stream",
          "text": [
            "LeNet5_BatchNorm(\n",
            "  (hidden_layers): Sequential(\n",
            "    (0): Conv2d(1, 16, kernel_size=(5, 5), stride=(1, 1), padding=(2, 2))\n",
            "    (1): ReLU()\n",
            "    (2): BatchNorm2d(16, eps=1e-05, momentum=0.1, affine=True, track_running_stats=True)\n",
            "    (3): MaxPool2d(kernel_size=2, stride=2, padding=0, dilation=1, ceil_mode=False)\n",
            "    (4): Conv2d(16, 32, kernel_size=(5, 5), stride=(1, 1), padding=(2, 2))\n",
            "    (5): ReLU()\n",
            "    (6): BatchNorm2d(32, eps=1e-05, momentum=0.1, affine=True, track_running_stats=True)\n",
            "    (7): MaxPool2d(kernel_size=2, stride=2, padding=0, dilation=1, ceil_mode=False)\n",
            "    (8): Flatten(start_dim=1, end_dim=-1)\n",
            "  )\n",
            "  (output_layer): Sequential(\n",
            "    (0): Linear(in_features=1568, out_features=10, bias=True)\n",
            "  )\n",
            ")\n",
            "\n",
            "\n",
            "# Parameters:  29034\n"
          ],
          "name": "stdout"
        }
      ]
    },
    {
      "cell_type": "markdown",
      "metadata": {
        "id": "271HrQBNccH1"
      },
      "source": [
        "Note that batch normalization adds parameters. Our new LeNet5 with batch normalization has 29 034 parameters (versus 28 938 for the original LeNet5 model without batch normalization)."
      ]
    },
    {
      "cell_type": "markdown",
      "metadata": {
        "id": "rj4R3qV5ABFC"
      },
      "source": [
        "**The rest (i.e., the cost function, the optimizer, the training loops, and the testing procedures) remain unchanged!**"
      ]
    },
    {
      "cell_type": "code",
      "metadata": {
        "id": "JgEcoSRQAVtA",
        "colab": {
          "base_uri": "https://localhost:8080/"
        },
        "outputId": "acf88d21-2ca9-4657-c8ff-74f527e6ec84"
      },
      "source": [
        "criterion = nn.CrossEntropyLoss()\n",
        "optimizer = torch.optim.SGD(model.parameters(), lr=0.2)\n",
        "\n",
        "since = time.time()\n",
        "\n",
        "num_epochs = 10\n",
        "train_loss_history = []\n",
        "valid_loss_history = []\n",
        "\n",
        "print(\"# Start training #\")\n",
        "for epoch in range(num_epochs):\n",
        "    \n",
        "    train_loss = 0\n",
        "    train_n_iter = 0\n",
        "    \n",
        "    # Set model to train mode\n",
        "    model.train()\n",
        "    \n",
        "    # Iterate over train data\n",
        "    for images, labels in train_loader:  \n",
        "\n",
        "        # put images on proper device (GPU)\n",
        "        images = images.to(device) # To complete.\n",
        "        labels = labels.to(device) # To complete.\n",
        "\n",
        "        # Zero the gradient buffer\n",
        "        optimizer.zero_grad()\n",
        "        \n",
        "        # Forward\n",
        "        outputs = model(images)\n",
        "        \n",
        "        # Compute loss\n",
        "        loss = criterion(outputs, labels)\n",
        "        \n",
        "        # Backward pass\n",
        "        loss.backward()\n",
        "        \n",
        "        # Optimize\n",
        "        optimizer.step()\n",
        "        \n",
        "        # Statistics\n",
        "        train_loss += loss.item()\n",
        "        train_n_iter += 1\n",
        "    \n",
        "    valid_loss = 0\n",
        "    valid_n_iter = 0\n",
        "    \n",
        "    # Set model to evaluate mode\n",
        "    model.eval()\n",
        "    \n",
        "    # Iterate over valid data\n",
        "    for images, labels in valid_loader:  \n",
        "        \n",
        "        images = images.to(device) \n",
        "        labels = labels.to(device) \n",
        "        \n",
        "        # Forward pass\n",
        "        outputs = model(images)\n",
        "        \n",
        "        # Compute loss\n",
        "        loss = criterion(outputs, labels)\n",
        "      \n",
        "        # Statistics\n",
        "        valid_loss += loss.item()\n",
        "        valid_n_iter += 1\n",
        "    \n",
        "    train_loss_history.append(train_loss / train_n_iter)\n",
        "    valid_loss_history.append(valid_loss / valid_n_iter)\n",
        "    \n",
        "    print('\\nEpoch: {}/{}'.format(epoch + 1, num_epochs))\n",
        "    print('\\tTrain Loss: {:.4f}'.format(train_loss / train_n_iter))\n",
        "    print('\\tValid Loss: {:.4f}'.format(valid_loss / valid_n_iter))\n",
        "\n",
        "time_elapsed = time.time() - since\n",
        "\n",
        "print('\\n\\nTraining complete in {:.0f}m {:.0f}s'.format(\n",
        "    time_elapsed // 60, time_elapsed % 60))"
      ],
      "execution_count": null,
      "outputs": [
        {
          "output_type": "stream",
          "text": [
            "# Start training #\n",
            "\n",
            "Epoch: 1/10\n",
            "\tTrain Loss: 0.5622\n",
            "\tValid Loss: 0.1030\n",
            "\n",
            "Epoch: 2/10\n",
            "\tTrain Loss: 0.0623\n",
            "\tValid Loss: 0.0652\n",
            "\n",
            "Epoch: 3/10\n",
            "\tTrain Loss: 0.0468\n",
            "\tValid Loss: 0.0598\n",
            "\n",
            "Epoch: 4/10\n",
            "\tTrain Loss: 0.0388\n",
            "\tValid Loss: 0.0607\n",
            "\n",
            "Epoch: 5/10\n",
            "\tTrain Loss: 0.0336\n",
            "\tValid Loss: 0.0603\n",
            "\n",
            "Epoch: 6/10\n",
            "\tTrain Loss: 0.0299\n",
            "\tValid Loss: 0.0558\n",
            "\n",
            "Epoch: 7/10\n",
            "\tTrain Loss: 0.0264\n",
            "\tValid Loss: 0.0570\n",
            "\n",
            "Epoch: 8/10\n",
            "\tTrain Loss: 0.0233\n",
            "\tValid Loss: 0.0578\n",
            "\n",
            "Epoch: 9/10\n",
            "\tTrain Loss: 0.0208\n",
            "\tValid Loss: 0.0567\n",
            "\n",
            "Epoch: 10/10\n",
            "\tTrain Loss: 0.0182\n",
            "\tValid Loss: 0.0551\n",
            "\n",
            "\n",
            "Training complete in 1m 35s\n"
          ],
          "name": "stdout"
        }
      ]
    },
    {
      "cell_type": "markdown",
      "metadata": {
        "id": "6pxvS_yUeWog"
      },
      "source": [
        "We obtain even better results after 10 epochs!\n",
        "\n",
        "Let's have a look at the training and validation curves:"
      ]
    },
    {
      "cell_type": "code",
      "metadata": {
        "id": "hrv-o7Cle0ty",
        "colab": {
          "base_uri": "https://localhost:8080/",
          "height": 279
        },
        "outputId": "fc91470c-14a8-44ab-fa47-f23e82a95bbb"
      },
      "source": [
        "# Save history for later\n",
        "lenet5_batchnorm_train_loss_history = train_loss_history\n",
        "lenet5_batchnorm_valid_loss_history = valid_loss_history\n",
        "\n",
        "# Plot training and validation curve\n",
        "x = range(1, num_epochs + 1)\n",
        "plt.plot(x, mlp_train_loss_history, label='MLP train', linestyle='--')\n",
        "plt.plot(x, mlp_valid_loss_history, label='MLP valid', linestyle='--')\n",
        "plt.plot(x, lenet5_train_loss_history, label='LeNet5 train', linestyle='-.')\n",
        "plt.plot(x, lenet5_valid_loss_history, label='LeNet5 valid', linestyle='-.')\n",
        "plt.plot(x, lenet5_batchnorm_train_loss_history, label='LeNet5 BatchNorm train')\n",
        "plt.plot(x, lenet5_batchnorm_valid_loss_history, label='LeNet5 BatchNorm valid')\n",
        "\n",
        "plt.xlabel('# epochs')\n",
        "plt.ylabel('Loss')\n",
        "plt.legend()\n",
        "\n",
        "plt.show()"
      ],
      "execution_count": null,
      "outputs": [
        {
          "output_type": "display_data",
          "data": {
            "image/png": "[encoded data removed]",
            "text/plain": [
              "<Figure size 432x288 with 1 Axes>"
            ]
          },
          "metadata": {
            "tags": [],
            "needs_background": "light"
          }
        }
      ]
    },
    {
      "cell_type": "code",
      "metadata": {
        "id": "Du89Bk9ekuRF",
        "colab": {
          "base_uri": "https://localhost:8080/"
        },
        "outputId": "459caa2b-a9ef-4961-b784-7235f5382759"
      },
      "source": [
        "# Set model to evaluate mode\n",
        "model.eval()\n",
        "\n",
        "correct = 0\n",
        "total = 0\n",
        "\n",
        "# Iterate over data.\n",
        "for images, labels in test_loader:\n",
        "    \n",
        "    # put images on proper device (GPU)\n",
        "    images = images.to(device) \n",
        "    labels = labels.to(device) \n",
        "    \n",
        "    # No need to flatten the images here !\n",
        "\n",
        "    # Forward\n",
        "    outputs = model(images)\n",
        "    _, predicted = torch.max(outputs.data, 1)\n",
        "        \n",
        "    # Statistics\n",
        "    total += labels.size(0)\n",
        "    batch_correct = torch.sum(predicted == labels.data)\n",
        "    correct += batch_correct\n",
        "\n",
        "print('Accuracy on the test set: {:.2f}%'.format(100 * correct / total))"
      ],
      "execution_count": null,
      "outputs": [
        {
          "output_type": "stream",
          "text": [
            "Accuracy on the test set: 98.69%\n"
          ],
          "name": "stdout"
        }
      ]
    },
    {
      "cell_type": "markdown",
      "metadata": {
        "id": "IoyKsR7WGxyG"
      },
      "source": [
        "# Task 2 : Object detection and instance segmentation (optional)"
      ]
    },
    {
      "cell_type": "markdown",
      "metadata": {
        "id": "u61uTIT2fQfE"
      },
      "source": [
        "## Initialization\n",
        "\n",
        "We need to be using the latest version of `pillow` for this section of the tutorial. If you are prompted with:\n",
        "\n",
        "> WARNING: The following packages were previously imported in this runtime:\n",
        "  [PIL]\n",
        "You must restart the runtime in order to use newly installed versions.\n",
        "\n",
        "Then click on restart runtime and rerun the cells afterwards."
      ]
    },
    {
      "cell_type": "code",
      "metadata": {
        "id": "kxF52IVYaGD8"
      },
      "source": [
        "!pip install --upgrade pillow==8.1.0"
      ],
      "execution_count": null,
      "outputs": []
    },
    {
      "cell_type": "code",
      "metadata": {
        "id": "Hkl0MmCwPhZJ"
      },
      "source": [
        "import random\n",
        "import numpy as np\n",
        "import torch\n",
        "\n",
        "if torch.cuda.is_available(): \n",
        "    print(\"Using the following accelerator type: {}\".format(torch.cuda.get_device_name(0)))\n",
        "else:\n",
        "    print(\"No GPU/TPU found, try changing the runtime type if using colab.\")\n",
        "\n",
        "manualSeed = 1234\n",
        "use_gpu = torch.cuda.is_available()\n",
        "\n",
        "# Fixing random seed\n",
        "random.seed(manualSeed)\n",
        "np.random.seed(manualSeed)\n",
        "torch.manual_seed(manualSeed)\n",
        "if use_gpu:\n",
        "    torch.cuda.manual_seed_all(manualSeed)"
      ],
      "execution_count": null,
      "outputs": []
    },
    {
      "cell_type": "markdown",
      "metadata": {
        "id": "0ixksNJiaIiU"
      },
      "source": [
        "## Object Detection Introduction\n",
        "Object detection involves locating where an object is in a given image using a bounding box. The box as well as the object type are predicted by the neural network. In the case of object detection, the box is typically rectangle. While a rectangle is composed of 4 (x,y) coordinates, only 4 values are needed to reconstruct a box. For example, we could use the top right (x,y) coordinates as well as the width and height of the box. We can also use the minimum and maximum values that x and y can take: [`x_min`, `y_min`, `x_max`, `y_max`]. There can be many objects in an image, and object detectors should be able to detect all instances of various objects.\n",
        "\n",
        "Here is an example of an image with it's associated bounding boxes.\n",
        "[bbox image exmaple]"
      ]
    },
    {
      "cell_type": "markdown",
      "metadata": {
        "id": "FRH7Y5lyxIaY"
      },
      "source": [
        "### Pretrained object detector\n",
        "\n",
        "Before we implement our own custom object detector, let's look at how an already pre-trained object detector works. We will use a pretrained object detector from [torchvision](https://pytorch.org/vision/stable/index.html) which was trained on the [COCO](https://cocodataset.org/#home) dataset.\n",
        "\n",
        "We will try detecting the objects in the following image:\n",
        "\n",
        "![Image1](https://github.com/jerpint/ivado-mila-dl-school-2019-vancouver/blob/dlschool21/assests/image1.jpg?raw=true)\n",
        "\n",
        "To do so, run the following cells:\n"
      ]
    },
    {
      "cell_type": "code",
      "metadata": {
        "id": "4x53FMnyYdyK"
      },
      "source": [
        "'''Test our pretrained object detector on an example image'''\n",
        "import os\n",
        "from urllib.request import urlopen\n",
        "from PIL import Image, ImageDraw, ImageFont\n",
        "import numpy as np\n",
        "\n",
        "import torchvision\n",
        "\n",
        "# Order of COCO category names as defined in torchvision\n",
        "COCO_CATEGORY_NAMES = [\n",
        "    '__background__', 'person', 'bicycle', 'car', 'motorcycle', 'airplane', 'bus',\n",
        "    'train', 'truck', 'boat', 'traffic light', 'fire hydrant', 'N/A', 'stop sign',\n",
        "    'parking meter', 'bench', 'bird', 'cat', 'dog', 'horse', 'sheep', 'cow',\n",
        "    'elephant', 'bear', 'zebra', 'giraffe', 'N/A', 'backpack', 'umbrella', 'N/A', 'N/A',\n",
        "    'handbag', 'tie', 'suitcase', 'frisbee', 'skis', 'snowboard', 'sports ball',\n",
        "    'kite', 'baseball bat', 'baseball glove', 'skateboard', 'surfboard', 'tennis racket',\n",
        "    'bottle', 'N/A', 'wine glass', 'cup', 'fork', 'knife', 'spoon', 'bowl',\n",
        "    'banana', 'apple', 'sandwich', 'orange', 'broccoli', 'carrot', 'hot dog', 'pizza',\n",
        "    'donut', 'cake', 'chair', 'couch', 'potted plant', 'bed', 'N/A', 'dining table',\n",
        "    'N/A', 'N/A', 'toilet', 'N/A', 'tv', 'laptop', 'mouse', 'remote', 'keyboard', 'cell phone',\n",
        "    'microwave', 'oven', 'toaster', 'sink', 'refrigerator', 'N/A', 'book',\n",
        "    'clock', 'vase', 'scissors', 'teddy bear', 'hair drier', 'toothbrush'\n",
        "]\n",
        "\n",
        "def display_image_and_boxes(image, target=None, category_names=None):\n",
        "    ''' \n",
        "    image: tensor\n",
        "    target: dict\n",
        "    category_names: list mapping class label (int) to class name (str)\n",
        "    \n",
        "    '''\n",
        "\n",
        "    # Convert tensor to image and draw it.\n",
        "    np_img = (image.permute(1,2,0).cpu().numpy() * 255).astype('uint8')\n",
        "    im = Image.fromarray(np_img)\n",
        "    draw = ImageDraw.Draw(im)\n",
        "\n",
        "    if target:\n",
        "        # Make sure the required font is available\n",
        "        if not os.path.isfile('Roboto-Regular.ttf'):\n",
        "            !wget https://github.com/jerpint/ivado-mila-dl-school-2019-vancouver/raw/dlschool21/assests/Roboto-Regular.ttf\n",
        "        font = ImageFont.truetype(font='Roboto-Regular.ttf', size=16)\n",
        "\n",
        "        # Draw each bounding box in the target\n",
        "        for box, label in zip(target['boxes'], target['labels']):\n",
        "            box = box.detach().cpu().numpy()\n",
        "            draw.rectangle(box, outline='black')\n",
        "            label_str =  category_names[label.cpu().numpy()] if category_names else str(label.cpu().numpy()+2)\n",
        "            draw.text((box[0], box[1]), label_str, fill=(0,128,256,256), font=font)\n",
        "    return im\n",
        "\n",
        "\n",
        "def display_masks(image, predictions, category_names=None):\n",
        "    ''' \n",
        "    image: tensor\n",
        "    predictions: dict\n",
        "    category_names: list mapping class label (int) to class name (str)\n",
        "    \n",
        "    '''\n",
        "    font = ImageFont.truetype(font='Roboto-Regular.ttf', size=16)\n",
        "    mask_arr = np.zeros((256, 300))\n",
        "    im = Image.fromarray(mask_arr)\n",
        "    draw = ImageDraw.Draw(im)\n",
        "    for box, label, mask in zip(predictions['boxes'], predictions['labels'], predictions['masks']):\n",
        "        mask = mask.detach().cpu().numpy().squeeze()\n",
        "        mask_arr += mask\n",
        "        box = box.detach().cpu().numpy()\n",
        "        draw.rectangle(box, outline='black')\n",
        "        label_str =  category_names[label.cpu().numpy()] if category_names else str(label.cpu().numpy()+2)\n",
        "        draw.text(((box[0] + box[2])/2, (box[1]+box[3])/2), label_str, fill=1, font=font)\n",
        "    mask_arr = (mask_arr > 0.5) * 255\n",
        "    im_with_mask = Image.fromarray( (np.array(im) + mask_arr).astype('uint8') )\n",
        "    return im_with_mask\n",
        "\n",
        "\n",
        "def URL_to_tensor(URL):\n",
        "    '''\n",
        "    Convert an image URL to a pytorch tensor.\n",
        "\n",
        "    Reorders the image axes so that channel is the first dimension and normalizes \n",
        "    channels to be in range [0,1].\n",
        "\n",
        "    input\n",
        "    -----\n",
        "    URL (str): URL of the image to be processed\n",
        "\n",
        "    returns\n",
        "    -------\n",
        "    img_tensor (list): list containing the image as a torch.tensor()\n",
        "    '''\n",
        "    \n",
        "    img = Image.open(urlopen(URL)) # Load image\n",
        "    img_tensor = torch.as_tensor(np.array(img) / 255) # Normalize input to [0, 1]\n",
        "    img_tensor = img_tensor.permute(2, 0, 1).float() # Reorder image axes to channel first\n",
        "    return [img_tensor]"
      ],
      "execution_count": null,
      "outputs": []
    },
    {
      "cell_type": "code",
      "metadata": {
        "id": "CzJCT1hE6v4o"
      },
      "source": [
        "# Download sample image and convert to tensor\n",
        "URL = 'http://farm3.staticflickr.com/2462/3889476537_9e1a7c6af4_z.jpg'\n",
        "img_tensors = URL_to_tensor(URL)\n",
        "\n",
        "# Obtain model prediction\n",
        "model = torchvision.models.detection.fasterrcnn_resnet50_fpn(\n",
        "    pretrained=True,\n",
        "    box_score_thresh=0.7\n",
        ")\n",
        "model.eval()\n",
        "predictions = model(img_tensors) \n",
        "\n",
        "# Display image along with model prediction\n",
        "display_image_and_boxes(img_tensors[0], predictions[0], category_names=COCO_CATEGORY_NAMES)\n"
      ],
      "execution_count": null,
      "outputs": []
    },
    {
      "cell_type": "markdown",
      "metadata": {
        "id": "lHiQjWcyxwWx"
      },
      "source": [
        "The architecture used in this case is Faster R-CNN with a ResNet-50 backbone. It is considered a two-stage object detector since there are 2 components to the network: a region-proposal network and a network which predicts bounding-boxes and object categories:\n",
        "\n",
        "![fasterrcnn](https://github.com/jerpint/ivado-mila-dl-school-2019-vancouver/blob/dlschool21/assests/fasterrcnn.png?raw=true)"
      ]
    },
    {
      "cell_type": "markdown",
      "metadata": {
        "id": "ZOheu06BaFE1"
      },
      "source": [
        "## Object Detection of Polygons\n",
        "\n",
        "We will now explore using a new dataset to train a custom object detector. We will be constructing a synthetic polygons dataset. Our dataset will generate images with regular polygons of various colours scattered accross an image. Our object detector will have to find the polygons using bounding boxes as well as determine how many sides each polygon has.\n",
        "\n",
        "For example, let's consider an image scattered with regular polygons of different shapes & sizes:\n",
        "\n",
        "![polygons_nolabs](https://github.com/jerpint/ivado-mila-dl-school-2019-vancouver/raw/dlschool21/assests/polygons_nolabel.png)\n",
        "\n",
        "Our object detector will need to find and differentiate all different instances of polygons. Note that the polygons can be overlapping, rotated, of different colors, etc. The output of our detector will look like this:\n",
        "\n",
        "![polygon_labels](https://github.com/jerpint/ivado-mila-dl-school-2019-vancouver/raw/dlschool21/assests/polygons_labels.png)"
      ]
    },
    {
      "cell_type": "markdown",
      "metadata": {
        "id": "6AaiMyASuZxq"
      },
      "source": [
        "### Polygons Dataset"
      ]
    },
    {
      "cell_type": "markdown",
      "metadata": {
        "id": "h8DnLPmECiJY"
      },
      "source": [
        "#### Exercise 6\n",
        "\n",
        "We will start by defining our own custom `Polygons` dataset, which we will define as a `torch.dataset`.\n",
        "\n",
        "You will be responsible to complete the following methods:\n",
        "\n",
        "`self.mask_to_bbox` and `self.img_to_tensor`"
      ]
    },
    {
      "cell_type": "code",
      "metadata": {
        "id": "eO-PhS4zuAW3"
      },
      "source": [
        "import random\n",
        "import matplotlib.pyplot as plt\n",
        "\n",
        "from torch.utils.data import Dataset\n",
        "from PIL import Image, ImageDraw, ImageFont\n",
        "\n",
        "class Polygons(Dataset):\n",
        "  \n",
        "    def __init__(self, \n",
        "                 im_width, \n",
        "                 im_height, \n",
        "                 dataset_len=100, \n",
        "                 max_polygon_size=6,\n",
        "                 max_polygons_per_image=8,\n",
        "                 split='train',\n",
        "                 background=False):\n",
        "        self.width = im_width\n",
        "        self.height = im_height\n",
        "        self.max_polygon_side=max_polygon_size\n",
        "        self.dataset_len = dataset_len\n",
        "        self.max_polygons_per_image = max_polygons_per_image\n",
        "        self.split = split\n",
        "        self.background = background\n",
        "        self.set_offset()\n",
        "\n",
        "    def set_offset(self):\n",
        "        '''The offset determines where the random seed index begins. \n",
        "\n",
        "        this ensures reproducibility accross runs.\n",
        "        '''\n",
        "        if self.split == 'train':\n",
        "            self.offset = 0\n",
        "        elif self.split == 'val':\n",
        "            self.offset = dataset_len\n",
        "        elif self.split == 'test':\n",
        "            self.offset = 2 * dataset_len\n",
        "        else:\n",
        "            raise ValueError(\"split has to be one of 'train', 'test', 'val'\")\n",
        "\n",
        "    def draw_polygon(self):\n",
        "        '''\n",
        "        Draws a single polygon.\n",
        "        \n",
        "        returns:\n",
        "        bbox: coordinates of the bounding box [xmin, ymin, xmax, ymax]\n",
        "        mask: Mask of the polygon, non-zero values where there is a polygon\n",
        "        label: the number of sides associated to the polygon\n",
        "        '''\n",
        "        img = Image.new('L', (self.width, self.height), 0)\n",
        "        n_sides = random.randint(3, self.max_polygon_side)\n",
        "        circle_x = random.randint(10, self.width-10)\n",
        "        circle_y = random.randint(10, self.height-10)\n",
        "        circle_r = random.randint(10, 60)\n",
        "        bounding_circle = (circle_x, circle_y, circle_r)\n",
        "        rotation = random.randint(0, 360)\n",
        "        ImageDraw.Draw(img).regular_polygon(bounding_circle=bounding_circle, n_sides=n_sides, rotation=rotation, fill=1, outline=None)\n",
        "        mask = np.array(img) \n",
        "        bbox = self.mask_to_bbox(mask)\n",
        "        label = n_sides - 2 # labels should be in range (1 ... N)\n",
        "        return bbox, mask, label\n",
        "\n",
        "    def add_random_background(self, img, seed=None):\n",
        "        '''\n",
        "        Add a random background to an existing image using gadients. \n",
        "        Adapted from: https://python-catalin.blogspot.com/2013/10/how-to-make-color-gradient-and-images.html\n",
        "\n",
        "        img: Original image with white background\n",
        "        img_with_bg: New image with a random background added to it\n",
        "        '''\n",
        "\n",
        "        if seed:\n",
        "            random.seed(seed)\n",
        "        bg = Image.new(\"RGB\", (self.width, self.height), \"#FFFFFF\")\n",
        "        draw = ImageDraw.Draw(bg)\n",
        "\n",
        "        # create the background\n",
        "        r,g,b = random.randint(0,255), random.randint(0,255), random.randint(0,255)\n",
        "        dr = (random.randint(0, 255) - r) / self.width\n",
        "        dg = (random.randint(0, 255) - g) / self.width\n",
        "        db = (random.randint(0, 255) - b) / self.width\n",
        "        for i in range(self.width):\n",
        "            r, g, b = r + dr, g + dg, b + db\n",
        "            draw.line((i, 0 , i, self.width), fill=(int(r), int(g), int(b)))\n",
        "          \n",
        "        # Add it to the original image\n",
        "        bg_array, img_array = np.array(bg), np.array(img)\n",
        "        bg_mask = np.zeros(bg_array.shape)\n",
        "        bg_mask[np.where(img_array == 255)] = 1\n",
        "        img_with_bg = Image.fromarray((img_array + bg_mask * bg_array).astype('uint8'))\n",
        "        \n",
        "        return img_with_bg\n",
        "    \n",
        "    def array_to_img(self, array):\n",
        "        '''Convert the numpy array data to an PIL image object.\n",
        "        i.e. 3 color channels [0, 255]\n",
        "        \n",
        "\n",
        "        inputs:\n",
        "        array: np.array\n",
        "\n",
        "        returns:\n",
        "        PIL.Image\n",
        "        '''\n",
        "        cm = plt.get_cmap('cubehelix') # Use a colormap for mapping int to colour\n",
        "        colored_image = cm(1 - array / 255)\n",
        "        return Image.fromarray((colored_image[:, :, :3] * 255).astype(np.uint8))\n",
        "\n",
        "    def img_to_tensor(self, img):\n",
        "        '''\n",
        "        convert a pil image to torch tensor.\n",
        "        Must scale values to be in range 0-1. Must return a float() tensor\n",
        "        reorder axes so that channel is first dimension.\n",
        "\n",
        "        img: PIL.Image\n",
        "\n",
        "        return: torch.tensor()\n",
        "        '''\n",
        "        \n",
        "        # Convert the PIL Image to a Torch Tensor. Make sure to properly\n",
        "        # implement all requirements stated in the docstring to avoid issues\n",
        "        # with model training later on.\n",
        "        ... # To complete.\n",
        "\n",
        "        return img_tensor\n",
        "\n",
        "    def mask_to_bbox(self, mask):\n",
        "        '''\n",
        "        Converts the polygon mask to bounding box coordinates.\n",
        "\n",
        "        mask: np.array\n",
        "\n",
        "        returns\n",
        "        bbox (tuple): (xmin, ymin, xmax, ymax)\n",
        "        '''\n",
        "\n",
        "        xmin = np.min(np.nonzero(mask)[1])\n",
        "        xmax = np.max(np.nonzero(mask)[1])\n",
        "        ymin = np.min(np.nonzero(mask)[0])\n",
        "        ymax = np.max(np.nonzero(mask)[0])\n",
        "        return (xmin, ymin, xmax, ymax)\n",
        "    \n",
        "    def __getitem__(self, idx):\n",
        "        seed = idx + self.offset\n",
        "        random.seed(seed) # For reproducible datasets\n",
        "        n_polygons = random.randint(1, self.max_polygons_per_image) # At least one polygon per image\n",
        "        img_array = np.zeros((self.height, self.width))\n",
        "        masks = []\n",
        "        labels = []\n",
        "        boxes = []\n",
        "        areas = []\n",
        "        for _ in range(n_polygons):\n",
        "            bbox, mask, label = self.draw_polygon()\n",
        "            boxes.append(bbox)\n",
        "            masks.append(mask > 0) # Binary mask\n",
        "            areas.append((bbox[2]-bbox[0]) * (bbox[3]-bbox[1]))\n",
        "            labels.append(label)\n",
        "            img_array += mask / np.max(mask) * random.randint(0, 254) # random color\n",
        "\n",
        "        # Convert array to RGB image\n",
        "        img = self.array_to_img(img_array)\n",
        "\n",
        "        # Add background if specified\n",
        "        if self.background:\n",
        "            img = self.add_random_background(img, seed)\n",
        "\n",
        "        # Convert img to tensor\n",
        "        img_tensor = self.img_to_tensor(img) \n",
        "\n",
        "        # Define targets appropriately as tensors\n",
        "        target = {}\n",
        "        target[\"boxes\"] = torch.as_tensor(boxes, dtype=torch.float32)\n",
        "        target[\"labels\"] = torch.as_tensor(labels, dtype=torch.int64)\n",
        "        target[\"masks\"] = torch.as_tensor(masks, dtype=torch.uint8)\n",
        "        target[\"image_id\"] = torch.tensor([idx])\n",
        "        target[\"area\"] = torch.as_tensor(areas, dtype=torch.int64)\n",
        "        target[\"iscrowd\"] = torch.as_tensor([0] * len(labels), dtype=torch.int64)\n",
        "\n",
        "        return img_tensor, target\n",
        "\n",
        "    def __len__(self):\n",
        "        return self.dataset_len \n",
        "      "
      ],
      "execution_count": null,
      "outputs": []
    },
    {
      "cell_type": "markdown",
      "metadata": {
        "id": "yy9hHAcJwldo"
      },
      "source": [
        "Lets start by exploring what the dataset does. For each index, it generates a new image with a random assortment of polygons and their associated labels.\n",
        "\n",
        "The labels are binary masks that represent each polygon as well as class labels that represent the number of sides of each polygon. Since pytorch indexes classes at 0, and we require a background class, the class associated to a polygon is  `class+2` when `class` > 1, and `background` otherwise.\n",
        "\n",
        "If you have properly implemented `self.img_to_tensor`, running the cell below will correctly display a sample from the Polygon dataset. You should see polygons of various colors over a white background."
      ]
    },
    {
      "cell_type": "code",
      "metadata": {
        "id": "OYKB0gk_qc8N"
      },
      "source": [
        "polygon_dataset = Polygons(im_width=300, im_height=256)\n",
        "img, target = polygon_dataset[490]\n",
        "\n",
        "im = display_image_and_boxes(img)\n",
        "display(im)"
      ],
      "execution_count": null,
      "outputs": []
    },
    {
      "cell_type": "markdown",
      "metadata": {
        "id": "kSWFed2nz507"
      },
      "source": [
        "If you have properly implemented `self.mask_to_bbox`, running the cell below will correctly display the same sample example as before but with tight bounding boxes around each of the polygons in the image."
      ]
    },
    {
      "cell_type": "code",
      "metadata": {
        "id": "lYh_UROw1Clr"
      },
      "source": [
        "polygon_dataset = Polygons(im_width=300, im_height=256)\n",
        "img, target = polygon_dataset[490]\n",
        "\n",
        "im = display_image_and_boxes(img, target)\n",
        "display(im)"
      ],
      "execution_count": null,
      "outputs": []
    },
    {
      "cell_type": "markdown",
      "metadata": {
        "id": "gt2QA2Lwpa67"
      },
      "source": [
        "Finally, the cell below demonstrates another feature of the Polygons class. By specifying `background=True`, the Polygons class will generate example with non-white backgrounds in order to make the detection task more difficult."
      ]
    },
    {
      "cell_type": "code",
      "metadata": {
        "id": "gFJxXYWjTg8I"
      },
      "source": [
        "polygon_ds_with_bg = Polygons(im_width=300, im_height=256, background=True)\n",
        "img, target = polygon_ds_with_bg[4921]\n",
        "\n",
        "im = display_image_and_boxes(img, target)\n",
        "display(im)"
      ],
      "execution_count": null,
      "outputs": []
    },
    {
      "cell_type": "markdown",
      "metadata": {
        "id": "IPjy8tC3nJrY"
      },
      "source": [
        "### Fetching utility files\n",
        "\n",
        "We will be using some handy utility functions directly from torchvision's repo. Running the cell below will fetch them and store them in your working directory. It will also open a window so you can look at what some of the functions do. Most of it is to run training loops and to evaluate performances. No need to reinvent the wheel!"
      ]
    },
    {
      "cell_type": "code",
      "metadata": {
        "id": "ahTWdM4WcHyC"
      },
      "source": [
        "# Fetch some useful util files provided by torchvision\n",
        "# Open them in a side view\n",
        "from google.colab import files\n",
        "fnames = ['engine.py', 'utils.py', 'coco_utils.py', 'coco_eval.py', 'transforms.py']\n",
        "for f in fnames:\n",
        "    URL = \"https://raw.githubusercontent.com/pytorch/vision/master/references/detection/\" + f\n",
        "    !wget -O {f} {URL}\n",
        "    files.view(f)"
      ],
      "execution_count": null,
      "outputs": []
    },
    {
      "cell_type": "markdown",
      "metadata": {
        "id": "p9zd9s6vulpU"
      },
      "source": [
        "### Defining the model"
      ]
    },
    {
      "cell_type": "markdown",
      "metadata": {
        "id": "WKzifdf0YH6R"
      },
      "source": [
        "#### Exercise 7\n",
        "\n",
        "We will now need to define the model that we will be using to train our object detector. It will be a slight variant from Faster R-CNN with the main difference being the number of possible classes that the network can output.\n",
        "\n",
        "Since the overall architecture of Faster R-CNN can be rather complex, we will simply replace the layer responsible for bounding box regression and classification to be adapted to our task.\n",
        "\n",
        "We could directly call the `fasterrcnn_resnet50_fpn` model with the appropriate number of classes, however, this would not allow us to use a pretrained model.\n",
        "\n",
        "Instead, we can use the `FastRCNNPredictor` class and replace the `box_predictor` portion of the network. Looking at the [documentation](https://pytorch.org/vision/stable/_modules/torchvision/models/detection/faster_rcnn.html#fasterrcnn_resnet50_fpn), `FastRCNNPredictor` expects the number of input channels as well as the number of output channels. In our case, the number of output channels will be the number of classes we have to predict (including the background). The number of input channels will remain the same."
      ]
    },
    {
      "cell_type": "code",
      "metadata": {
        "id": "RkkDLfwktFgw"
      },
      "source": [
        "import torchvision\n",
        "from torchvision.models.detection import fasterrcnn_resnet50_fpn\n",
        "from torchvision.models.detection.faster_rcnn import FastRCNNPredictor\n",
        "\n",
        "def get_model_object_detection(num_classes, pretrained=True, box_score_thresh=0.5):\n",
        "    ## Load the pretrained fasterrcnn_resnet50_fpn model and specify box_score_thresh as a kwarg\n",
        "    model = ... # To complete.\n",
        "    \n",
        "    ## Determine number of input features for new FastRCNNPredictor\n",
        "    predictor_in_features = model.roi_heads.box_predictor.cls_score.in_features\n",
        "    \n",
        "    # Replace the model's classifier with a new instance of FastRCNNPredictor,\n",
        "    # that has the number of classes changed to what we are doing in this task\n",
        "    model.roi_heads.box_predictor = ... # To complete.\n",
        "    \n",
        "    return model"
      ],
      "execution_count": null,
      "outputs": []
    },
    {
      "cell_type": "markdown",
      "metadata": {
        "id": "aHpciqXav9xv"
      },
      "source": [
        "Now that we have defined our model, let's see what kind of predictions our model is making prior to re-training our model. To do so, we will define a data loader, set the model to `eval` and do a forward pass on a single example image:"
      ]
    },
    {
      "cell_type": "code",
      "metadata": {
        "id": "ARiM6OObSM_7"
      },
      "source": [
        "import utils\n",
        "# Do a prediction on the model prior to fine tuning\n",
        "polygon_ds = Polygons(im_width=300, im_height=256)\n",
        "data_loader = torch.utils.data.DataLoader(\n",
        " polygon_ds, batch_size=2, shuffle=True, num_workers=4, collate_fn=utils.collate_fn)\n",
        "\n",
        "num_classes = polygon_ds.max_polygon_side - 2\n",
        "model = get_model_object_detection(num_classes)\n",
        "\n",
        "model.eval()\n",
        "\n",
        "# Show a batch worth of images and their predictions\n",
        "images, _ = next(iter(data_loader))\n",
        "predictions = model(images)           # Returns predictions\n",
        "for n in range(len(predictions)):\n",
        "    display(display_image_and_boxes(images[n], predictions[n]))"
      ],
      "execution_count": null,
      "outputs": []
    },
    {
      "cell_type": "markdown",
      "metadata": {
        "id": "laBaFbGovdLK"
      },
      "source": [
        "### Training Loop"
      ]
    },
    {
      "cell_type": "markdown",
      "metadata": {
        "id": "YTnMytxc-7I8"
      },
      "source": [
        "#### Exercise 8\n",
        "\n",
        "You will now implement the training loop for our object detector. We will use the `train_one_epoch` utility provided by torchvision.\n",
        "\n",
        "First, you will have to define a train and validation dataset, and construct appropriate dataloaders for them. Do not forget to use the dataset's `split` argument. Also do not forget to use the `colate_fn` provided in `utils.py` as the `collate_fn` argument in the `DataLoader` object.\n",
        "\n",
        "Use a `dataset_len` of 100 for each dataset. It can be useful to shuffle the train dataset. Use `im_width` = 300 and `im_height` = 256.\n",
        "\n",
        "For the optimizer, we will use `SGD` with an initial learning rate of 0.005. Set the momentum to be 0.9 and the weight_decay to be 0.0005 (as in the original faster RCNN implementation).\n",
        "\n",
        "We will also use a scheduler to decrease the learning rate on every step. For this, we will use the `torch.optim.lr_scheduler.StepLR` utility. Set the step_size to be 3 and the gamma to 0.1. This will decrease the learning rate for us automatically throughout our training.\n",
        "\n",
        "We will train for 5 epochs total."
      ]
    },
    {
      "cell_type": "code",
      "metadata": {
        "id": "gTuDqPFEcPL0"
      },
      "source": [
        "from engine import train_one_epoch, evaluate\n",
        "import utils\n",
        "\n",
        "dataset_len = 100\n",
        "im_width = 300\n",
        "im_height = 256\n",
        "batch_size=2\n",
        "\n",
        "# Instantiate training dataset and training dataloader\n",
        "dataset_train = Polygons(im_width, im_height, dataset_len=dataset_len, split='train')\n",
        "data_loader_train = torch.utils.data.DataLoader(dataset_train, batch_size=batch_size, shuffle=True, collate_fn=utils.collate_fn)\n",
        "\n",
        "# Instantiate validation dataset and validation dataloader\n",
        "dataset_val = ... # To complete.\n",
        "data_loader_val = ... # To complete.\n",
        "\n",
        "\n",
        "# Instantiate test dataset and test dataloader\n",
        "dataset_test = ... # To complete.\n",
        "data_loader_test = ... # To complete.\n",
        "\n",
        "\n",
        "# get the model using our helper function (get_model_object_detection)\n",
        "num_classes = dataset_train.max_polygon_side - 1\n",
        "model = ... # To complete.\n",
        "\n",
        "# Set trainable parameters\n",
        "params = [p for p in model.parameters() if p.requires_grad]\n",
        "\n",
        "# construct an optimizer\n",
        "optimizer = ... # To complete.\n",
        "\n",
        "# construct a learning rate scheduler\n",
        "lr_scheduler = ... # To complete.\n",
        "\n",
        "# set the number of epochs\n",
        "num_epochs = 5\n",
        "\n",
        "\n",
        "# Training loop\n",
        "device = torch.device('cuda') if torch.cuda.is_available() else torch.device('cpu')\n",
        "# move model to the right device\n",
        "model.to(device)\n",
        "print(f\"Using {device} as accelerator harward\")\n",
        "\n",
        "# train model for specified number of epochs\n",
        "for epoch in range(num_epochs):\n",
        "    # train for one epoch, printing every 10 iterations\n",
        "    train_one_epoch(model, optimizer, data_loader_train, device, epoch, print_freq=10)\n",
        "\n",
        "    # update the learning rate\n",
        "    lr_scheduler.step()\n",
        "\n",
        "    # evaluate on the validation dataset\n",
        "    evaluate(model, data_loader_val, device=device)\n",
        "\n",
        "print(\"End of training.\")"
      ],
      "execution_count": null,
      "outputs": []
    },
    {
      "cell_type": "markdown",
      "metadata": {
        "id": "t4R2EwZl0e7d"
      },
      "source": [
        "### Model evaluation\n",
        "\n",
        "Now set your model to `eval` and define a test dataset and dataloader to evaluate the model on the test set.\n",
        "\n",
        "How is your model performing overall? Does it seem to generalize well from the training set? Does it perform better, worse, same, on different sized objects?\n",
        "\n",
        "It can be helpful to visually inspect how your network is performing by plotting some of the object detection results."
      ]
    },
    {
      "cell_type": "code",
      "metadata": {
        "id": "6E3tfA8pBlbf"
      },
      "source": [
        "model.eval()\n",
        "evaluate(model, data_loader_test, device=device)\n",
        "\n",
        "# Look at predictions from a batch\n",
        "test_iter = iter(data_loader_test)\n",
        "images, targets = next(test_iter)\n",
        "images = [image.to(device) for image in images]\n",
        "predictions = model(images)\n",
        "for idx in range(len(images)):\n",
        "    display(display_image_and_boxes(images[idx], predictions[idx]))"
      ],
      "execution_count": null,
      "outputs": []
    },
    {
      "cell_type": "markdown",
      "metadata": {
        "id": "DnHorFIcH1Cl"
      },
      "source": [
        "### Generalization\n",
        "\n",
        "We will now see how our model generalizes to \"unusual\" cases. So far, our model has only seen shapes on white backgrounds.\n",
        "\n",
        "Lets add a random gradient-based background to the test dataset and see how well our model does. This can be done by setting the `background=True` argument in the dataset class.\n"
      ]
    },
    {
      "cell_type": "code",
      "metadata": {
        "id": "w2cfxYz5BxvC"
      },
      "source": [
        "# Use a test set with a random background this time\n",
        "dataset_len = 100\n",
        "polygon_ds_with_bg = Polygons(im_width=300, \n",
        "                              im_height=256, \n",
        "                              dataset_len=dataset_len, \n",
        "                              background=True, \n",
        "                              split='test')\n",
        "\n",
        "\n",
        "data_loader_test_bg = torch.utils.data.DataLoader(\n",
        "    polygon_ds_with_bg, batch_size=2, shuffle=True, num_workers=4,\n",
        "    collate_fn=utils.collate_fn)\n",
        "\n",
        "# Evaluate on entire test set\n",
        "evaluate(model, data_loader_test_bg, device=device)\n",
        "\n",
        "# Evaluate single sample\n",
        "bg_iter = iter(data_loader_test_bg)\n",
        "images, targets = next(bg_iter)\n",
        "\n",
        "model.eval()\n",
        "images = [image.to(device) for image in images]\n",
        "predictions = model(images)           # Returns predictions\n",
        "\n",
        "display_image_and_boxes(images[0], predictions[0])"
      ],
      "execution_count": null,
      "outputs": []
    },
    {
      "cell_type": "markdown",
      "metadata": {
        "id": "aVju5xude5ke"
      },
      "source": [
        "Analysis of the results : \n",
        "- How does the model react to having background on a single example?\n",
        "- How does the overall performance get affected on the entire test set?\n",
        "- How could performance be improved on the test set?\n",
        "\n",
        "Bonus exercises :\n",
        "- Test the model on a test set in which example contain more polygons than the data used to train the model. Does the model generalize well to a higher number of polygons? How high can you increase the number of polygons before the performance of the model is severely affected?\n",
        "- Finetune the model on data with non-white background instead. How does performance vary on the test set?"
      ]
    },
    {
      "cell_type": "markdown",
      "metadata": {
        "id": "Iq87kYZCPbBX"
      },
      "source": [
        "## Instance Segmentation\n",
        "\n",
        "We will now use the binary masks to do instance segmentation instead of object detection. In instance segmentation, the goal is to not only detect an object, but also to determine which pixels correspond to that very object. Since we are defining our polygons using binary masks, we will be able to use those as our ground truth training data.\n",
        "\n",
        "The architecture we will use is Mask-RCNN. It is similar to Faster-RCNN but has an additional branch for segmentation. The architecture sketch is shown here:\n",
        "\n",
        "![maskrcnn](https://github.com/jerpint/ivado-mila-dl-school-2019-vancouver/blob/dlschool21/assests/maskrcnn.png?raw=true)"
      ]
    },
    {
      "cell_type": "markdown",
      "metadata": {
        "id": "QNK7IpAsVPpT"
      },
      "source": [
        "### Model declaration\n",
        "\n",
        "We will begin by defining our model. Just like with Faster RCNN, we will use a pre-trained model and replace the appropriate parts of the network. We will have to replace both the object detector portion of the network as well as the mask prediction portion of the network to be adapted to our task.\n",
        "\n",
        "In this case, there are 2 parts of the network we will be replacing - `FasterRCNNPredictor`, just like in the previous example, which will do bounding box regression, as well as the `MaskRCNNPredictor` which will be used for segmentation."
      ]
    },
    {
      "cell_type": "code",
      "metadata": {
        "id": "upFD7_xgU8Dd"
      },
      "source": [
        "from torchvision.models.detection.mask_rcnn import MaskRCNNPredictor\n",
        "\n",
        "def get_model_instance_segmentation(num_classes, pretrained=True, box_score_thresh=0.7):\n",
        "\n",
        "    # load an instance segmentation model pre-trained pre-trained on COCO\n",
        "    model = torchvision.models.detection.maskrcnn_resnet50_fpn(\n",
        "        pretrained=pretrained, box_score_thresh=box_score_thresh\n",
        "      )\n",
        "\n",
        "    # get number of input features for the classifier\n",
        "    in_features = model.roi_heads.box_predictor.cls_score.in_features\n",
        "    # replace the pre-trained box detector with a new one\n",
        "    model.roi_heads.box_predictor = FastRCNNPredictor(in_features, num_classes)\n",
        "\n",
        "    # now get the number of input features for the mask classifier\n",
        "    in_features_mask = model.roi_heads.mask_predictor.conv5_mask.in_channels\n",
        "    hidden_layer = 256\n",
        "    # and replace the mask predictor with a new one\n",
        "    model.roi_heads.mask_predictor = MaskRCNNPredictor(in_features_mask,\n",
        "                                                       hidden_layer,\n",
        "                                                       num_classes)\n",
        "\n",
        "    return model\n"
      ],
      "execution_count": null,
      "outputs": []
    },
    {
      "cell_type": "code",
      "metadata": {
        "id": "A-_8lO79WNE2"
      },
      "source": [
        "# Define our datasets with the different splits\n",
        "dataset_len = 100\n",
        "batch_size = 2\n",
        "\n",
        "\n",
        "# Instantiate training dataset and training dataloader\n",
        "dataset_train = Polygons(im_width, im_height, dataset_len=dataset_len, split='train', background=True)\n",
        "data_loader_train = torch.utils.data.DataLoader(dataset_train, batch_size=batch_size, shuffle=True, collate_fn=utils.collate_fn)\n",
        "\n",
        "# Instantiate validation dataset and validation dataloader\n",
        "dataset_val = ... # To complete.\n",
        "data_loader_val = ... # To complete.\n",
        "\n",
        "\n",
        "# Instantiate test dataset and test dataloader\n",
        "dataset_test = ... # To complete.\n",
        "data_loader_test = ... # To complete.\n"
      ],
      "execution_count": null,
      "outputs": []
    },
    {
      "cell_type": "markdown",
      "metadata": {
        "id": "sQy4dmNBEHrK"
      },
      "source": [
        "Let's look at some of the predicted masks of the network before training:"
      ]
    },
    {
      "cell_type": "code",
      "metadata": {
        "id": "jqedqqHLnFAo"
      },
      "source": [
        "# get the model using our helper function\n",
        "num_classes = dataset_train.max_polygon_side - 1\n",
        "\n",
        "device = torch.device('cuda') if torch.cuda.is_available() else torch.device('cpu')\n",
        "model = get_model_instance_segmentation(num_classes, box_score_thresh=0.5)\n",
        "model.to(device);\n",
        "\n",
        "# Look at predictions on the test set before fine-tuning\n",
        "dl_iter = iter(data_loader_test)\n",
        "\n",
        "for i in range(3):\n",
        "    images, _ = next(dl_iter)\n",
        "    \n",
        "    model.eval()\n",
        "    images = [image.to(device) for image in images]\n",
        "    predictions = model(images)           # Returns predictions\n",
        "    display(display_image_and_boxes(images[0], predictions[0]))\n",
        "    display(display_masks(images[0], predictions[0]))"
      ],
      "execution_count": null,
      "outputs": []
    },
    {
      "cell_type": "markdown",
      "metadata": {
        "id": "iaJ2a-a1BLsK"
      },
      "source": [
        "### Training Loop"
      ]
    },
    {
      "cell_type": "markdown",
      "metadata": {
        "id": "tarosoTpBTuB"
      },
      "source": [
        "#### Exercise 9\n",
        "\n",
        "Construct an optimizer and a learning rate scheduler. \n",
        "Use SGD with `lr=0.005`, `momentum=0.9` and `weight_decay=0.0005` for the optimizer.\n",
        "Use `step_size=3` and `gamma=0.1` for the learning rate scheduler (hint: use StepLR)"
      ]
    },
    {
      "cell_type": "code",
      "metadata": {
        "id": "lMknt1aym5Sg"
      },
      "source": [
        "# Train the model\n",
        "\n",
        "params = [p for p in model.parameters() if p.requires_grad]\n",
        "optimizer = ... # To complete.\n",
        "lr_scheduler = ... # To complete.\n",
        "\n",
        "# let's train it for 5 epochs\n",
        "num_epochs = 5\n",
        "for epoch in range(num_epochs):\n",
        "    # train for one epoch, printing every 10 iterations\n",
        "    train_one_epoch(model, optimizer, data_loader_train, device, epoch, print_freq=10)\n",
        "    # update the learning rate\n",
        "    lr_scheduler.step()\n",
        "    # evaluate on the test dataset\n",
        "    evaluate(model, data_loader_test, device=device)"
      ],
      "execution_count": null,
      "outputs": []
    },
    {
      "cell_type": "markdown",
      "metadata": {
        "id": "vnDm9yOOErNX"
      },
      "source": [
        "### Model Evaluation\n",
        "\n",
        "Now that the training is done, lets look at the quality of our predictions - we will plot bounding boxes overlayed on top of the original images as well as segmentation masks."
      ]
    },
    {
      "cell_type": "code",
      "metadata": {
        "id": "-wyoQm7Hlchv"
      },
      "source": [
        "dl_iter = iter(data_loader_test)\n",
        "\n",
        "for n in range(3):\n",
        "    images, _ = next(dl_iter)\n",
        "  \n",
        "    model.eval()\n",
        "    images = [image.to(device) for image in images]\n",
        "    predictions = model(images)           # Returns predictions\n",
        "    display(display_masks(images[0], predictions[0]))\n",
        "    display(display_image_and_boxes(images[0], predictions[0]))"
      ],
      "execution_count": null,
      "outputs": []
    },
    {
      "cell_type": "markdown",
      "metadata": {
        "id": "IsLwCjnbWkk4"
      },
      "source": [
        "# References\n",
        "Various parts of this tutorial are inspired from these other tutorials: \n",
        "* https://github.com/andrewliao11/dni.pytorch/blob/master/mlp.py\n",
        "* https://github.com/andrewliao11/dni.pytorch/blob/master/cnn.py\n",
        "* http://pytorch.org/tutorials/beginner/blitz/neural_networks_tutorial.html\n",
        "* http://pytorch.org/tutorials/beginner/transfer_learning_tutorial.html\n",
        "* http://cs231n.github.io/convolutional-networks/\n",
        "* http://deeplearning.net/software/theano/tutorial/conv_arithmetic.html#convolution-as-a-matrix-operation\n"
      ]
    }
  ]
}